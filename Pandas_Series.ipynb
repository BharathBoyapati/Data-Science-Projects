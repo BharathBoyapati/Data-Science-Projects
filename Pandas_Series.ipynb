{
 "cells": [
  {
   "cell_type": "markdown",
   "metadata": {},
   "source": [
    "# Pandas\n",
    "- Pandas (PANel Data AnalysiS ) is a free, open-source data science library aimed at quick and simplified data munging and exploratory analysis in Python.\n",
    "- Pandas is built on foundation of Numpy.\n",
    "- It provides high-level data structures like the DataFrame and Series (one-dimensional structure with an index) which have rich methods for tackling the entire spectrum of data munging tasks. Additionally, pandas has specialized methods for manipulating and visualizing numerical variables and time series data.\n",
    "\n",
    "## Features\n",
    "- Easy handling of missing data. ( dropna, fillna, ffill, isnull, notnull ) \n",
    "- Simple mutations of tables to add/remove columns on the fly ( assign, drop ) \n",
    "- Easy slicing of data (fancy indexing and subsetting) \n",
    "- Automatic data alignment (by index ) \n",
    "- Powerful split-apply-combine ( groupby ) for aggregations and transformations \n",
    "- Intuitive merge/join ( concat, join ) \n",
    "- Flexible Reshaping and Pivoting ( stack, pivot ) \n",
    "- Hierarchical Labeling of axes indices for working with higherdimensional data \n",
    "- Robust I/O tools to work with csv, Excel, flat files, databases and HDFS \n",
    "- Time Series Functionality \n",
    "- Easy visualization ( plot ) "
   ]
  },
  {
   "cell_type": "markdown",
   "metadata": {},
   "source": [
    "## Pandas Data Structures - Series\n",
    "- Series <br>\n",
    "It is a 1-d array of data (similar to an array/list/column in a table) with an associated labeled index. <br>\n",
    "It can be created in the same way as a NumPy array is created <br>\n",
    "Creating a Series from arrays, lists, dicts, tuples <br>\n",
    "- Syntax: series(data=, index=, dtype=, name=)"
   ]
  },
  {
   "cell_type": "code",
   "execution_count": 6,
   "metadata": {
    "collapsed": true
   },
   "outputs": [],
   "source": [
    "import numpy as np\n",
    "import pandas as pd"
   ]
  },
  {
   "cell_type": "code",
   "execution_count": 3,
   "metadata": {},
   "outputs": [
    {
     "name": "stdout",
     "output_type": "stream",
     "text": [
      "[ 1.42695453  0.02782135 -0.30301389  1.3982374  -0.86829547]\n",
      "0    1.426955\n",
      "1    0.027821\n",
      "2   -0.303014\n",
      "3    1.398237\n",
      "4   -0.868295\n",
      "dtype: float64\n"
     ]
    }
   ],
   "source": [
    "# Creating a series using an Array\n",
    "x_random = np.random.randn(5)\n",
    "print (x_random)\n",
    "\n",
    "# Converting array into series\n",
    "my_series = pd.Series(x_random)\n",
    "print (my_series)"
   ]
  },
  {
   "cell_type": "code",
   "execution_count": 5,
   "metadata": {},
   "outputs": [
    {
     "name": "stdout",
     "output_type": "stream",
     "text": [
      "['T', '_AXIS_ALIASES', '_AXIS_IALIASES', '_AXIS_LEN', '_AXIS_NAMES', '_AXIS_NUMBERS', '_AXIS_ORDERS', '_AXIS_REVERSED', '_AXIS_SLICEMAP', '__abs__', '__add__', '__and__', '__array__', '__array_prepare__', '__array_priority__', '__array_wrap__', '__bool__', '__bytes__', '__class__', '__contains__', '__copy__', '__deepcopy__', '__delattr__', '__delitem__', '__dict__', '__dir__', '__div__', '__divmod__', '__doc__', '__eq__', '__finalize__', '__float__', '__floordiv__', '__format__', '__ge__', '__getattr__', '__getattribute__', '__getitem__', '__getstate__', '__gt__', '__hash__', '__iadd__', '__imul__', '__init__', '__init_subclass__', '__int__', '__invert__', '__ipow__', '__isub__', '__iter__', '__itruediv__', '__le__', '__len__', '__long__', '__lt__', '__mod__', '__module__', '__mul__', '__ne__', '__neg__', '__new__', '__nonzero__', '__or__', '__pow__', '__radd__', '__rand__', '__rdiv__', '__reduce__', '__reduce_ex__', '__repr__', '__rfloordiv__', '__rmod__', '__rmul__', '__ror__', '__round__', '__rpow__', '__rsub__', '__rtruediv__', '__rxor__', '__setattr__', '__setitem__', '__setstate__', '__sizeof__', '__str__', '__sub__', '__subclasshook__', '__truediv__', '__unicode__', '__weakref__', '__xor__', '_accessors', '_add_numeric_operations', '_add_series_only_operations', '_add_series_or_dataframe_operations', '_agg_by_level', '_agg_doc', '_aggregate', '_aggregate_multiple_funcs', '_align_frame', '_align_series', '_allow_index_ops', '_at', '_binop', '_box_item_values', '_builtin_table', '_can_hold_na', '_check_inplace_setting', '_check_is_chained_assignment_possible', '_check_percentile', '_check_setitem_copy', '_clear_item_cache', '_consolidate', '_consolidate_inplace', '_construct_axes_dict', '_construct_axes_dict_for_slice', '_construct_axes_dict_from', '_construct_axes_from_arguments', '_constructor', '_constructor_expanddim', '_constructor_sliced', '_convert', '_create_indexer', '_cython_table', '_dir_additions', '_dir_deletions', '_expand_axes', '_from_axes', '_get_axis', '_get_axis_name', '_get_axis_number', '_get_axis_resolvers', '_get_block_manager_axis', '_get_bool_data', '_get_cacher', '_get_index_resolvers', '_get_item_cache', '_get_numeric_data', '_get_values', '_get_values_tuple', '_get_with', '_gotitem', '_iat', '_iget_item_cache', '_iloc', '_index', '_indexed_same', '_info_axis', '_info_axis_name', '_info_axis_number', '_init_mgr', '_internal_names', '_internal_names_set', '_is_builtin_func', '_is_cached', '_is_cython_func', '_is_datelike_mixed_type', '_is_mixed_type', '_is_numeric_mixed_type', '_is_view', '_ix', '_ixs', '_loc', '_make_cat_accessor', '_make_dt_accessor', '_make_str_accessor', '_maybe_cache_changed', '_maybe_update_cacher', '_metadata', '_needs_reindex_multi', '_obj_with_exclusions', '_protect_consolidate', '_reduce', '_reindex_axes', '_reindex_axis', '_reindex_indexer', '_reindex_multi', '_reindex_with_indexers', '_repr_data_resource_', '_reset_cache', '_reset_cacher', '_selected_obj', '_selection', '_selection_list', '_selection_name', '_set_as_cached', '_set_axis', '_set_axis_name', '_set_is_copy', '_set_item', '_set_labels', '_set_name', '_set_subtyp', '_set_values', '_set_with', '_set_with_engine', '_setup_axes', '_shallow_copy', '_slice', '_stat_axis', '_stat_axis_name', '_stat_axis_number', '_try_aggregate_string_function', '_typ', '_unpickle_series_compat', '_update_inplace', '_validate_dtype', '_values', '_where', '_xs', 'abs', 'add', 'add_prefix', 'add_suffix', 'agg', 'aggregate', 'align', 'all', 'any', 'append', 'apply', 'argmax', 'argmin', 'argsort', 'as_blocks', 'as_matrix', 'asfreq', 'asobject', 'asof', 'astype', 'at', 'at_time', 'autocorr', 'axes', 'base', 'between', 'between_time', 'bfill', 'blocks', 'bool', 'clip', 'clip_lower', 'clip_upper', 'combine', 'combine_first', 'compound', 'compress', 'consolidate', 'convert_objects', 'copy', 'corr', 'count', 'cov', 'cummax', 'cummin', 'cumprod', 'cumsum', 'data', 'describe', 'diff', 'div', 'divide', 'dot', 'drop', 'drop_duplicates', 'dropna', 'dtype', 'dtypes', 'duplicated', 'empty', 'eq', 'equals', 'ewm', 'expanding', 'factorize', 'ffill', 'fillna', 'filter', 'first', 'first_valid_index', 'flags', 'floordiv', 'from_array', 'from_csv', 'ftype', 'ftypes', 'ge', 'get', 'get_dtype_counts', 'get_ftype_counts', 'get_value', 'get_values', 'groupby', 'gt', 'hasnans', 'head', 'hist', 'iat', 'idxmax', 'idxmin', 'iloc', 'imag', 'index', 'interpolate', 'is_copy', 'is_monotonic', 'is_monotonic_decreasing', 'is_monotonic_increasing', 'is_unique', 'isin', 'isnull', 'item', 'items', 'itemsize', 'iteritems', 'ix', 'keys', 'kurt', 'kurtosis', 'last', 'last_valid_index', 'le', 'loc', 'lt', 'mad', 'map', 'mask', 'max', 'mean', 'median', 'memory_usage', 'min', 'mod', 'mode', 'mul', 'multiply', 'name', 'nbytes', 'ndim', 'ne', 'nlargest', 'nonzero', 'notnull', 'nsmallest', 'nunique', 'pct_change', 'pipe', 'plot', 'pop', 'pow', 'prod', 'product', 'ptp', 'put', 'quantile', 'radd', 'rank', 'ravel', 'rdiv', 'real', 'reindex', 'reindex_axis', 'reindex_like', 'rename', 'rename_axis', 'reorder_levels', 'repeat', 'replace', 'resample', 'reset_index', 'reshape', 'rfloordiv', 'rmod', 'rmul', 'rolling', 'round', 'rpow', 'rsub', 'rtruediv', 'sample', 'searchsorted', 'select', 'sem', 'set_axis', 'set_value', 'shape', 'shift', 'size', 'skew', 'slice_shift', 'sort_index', 'sort_values', 'sortlevel', 'squeeze', 'std', 'strides', 'sub', 'subtract', 'sum', 'swapaxes', 'swaplevel', 'tail', 'take', 'to_clipboard', 'to_csv', 'to_dense', 'to_dict', 'to_excel', 'to_frame', 'to_hdf', 'to_json', 'to_msgpack', 'to_period', 'to_pickle', 'to_sparse', 'to_sql', 'to_string', 'to_timestamp', 'to_xarray', 'tolist', 'transform', 'transpose', 'truediv', 'truncate', 'tshift', 'tz_convert', 'tz_localize', 'unique', 'unstack', 'update', 'valid', 'value_counts', 'values', 'var', 'view', 'where', 'xs']\n"
     ]
    }
   ],
   "source": [
    "print (dir(my_series))"
   ]
  },
  {
   "cell_type": "code",
   "execution_count": 9,
   "metadata": {},
   "outputs": [
    {
     "data": {
      "text/plain": [
       "0    1.43\n",
       "1    0.03\n",
       "2   -0.30\n",
       "3    1.40\n",
       "4   -0.87\n",
       "dtype: float64"
      ]
     },
     "execution_count": 9,
     "metadata": {},
     "output_type": "execute_result"
    }
   ],
   "source": [
    "pd.Series(x_random.round(2))"
   ]
  },
  {
   "cell_type": "code",
   "execution_count": 11,
   "metadata": {
    "collapsed": true
   },
   "outputs": [],
   "source": [
    "myseries_w_index = pd.Series(x_random.round(2), index = list('12345'))"
   ]
  },
  {
   "cell_type": "code",
   "execution_count": 12,
   "metadata": {},
   "outputs": [
    {
     "name": "stdout",
     "output_type": "stream",
     "text": [
      "1    1.43\n",
      "2    0.03\n",
      "3   -0.30\n",
      "4    1.40\n",
      "5   -0.87\n",
      "dtype: float64\n"
     ]
    }
   ],
   "source": [
    "print (myseries_w_index)"
   ]
  },
  {
   "cell_type": "code",
   "execution_count": 13,
   "metadata": {},
   "outputs": [
    {
     "data": {
      "text/plain": [
       "Index(['1', '2', '3', '4', '5'], dtype='object')"
      ]
     },
     "execution_count": 13,
     "metadata": {},
     "output_type": "execute_result"
    }
   ],
   "source": [
    "myseries_w_index.index"
   ]
  },
  {
   "cell_type": "code",
   "execution_count": 14,
   "metadata": {},
   "outputs": [
    {
     "data": {
      "text/plain": [
       "array([ 1.43,  0.03, -0.3 ,  1.4 , -0.87])"
      ]
     },
     "execution_count": 14,
     "metadata": {},
     "output_type": "execute_result"
    }
   ],
   "source": [
    "myseries_w_index.values"
   ]
  },
  {
   "cell_type": "code",
   "execution_count": null,
   "metadata": {
    "collapsed": true
   },
   "outputs": [],
   "source": [
    "# Creating a Series from a list"
   ]
  },
  {
   "cell_type": "code",
   "execution_count": 16,
   "metadata": {},
   "outputs": [
    {
     "data": {
      "text/plain": [
       "0    1.0\n",
       "1    2.0\n",
       "2    3.0\n",
       "3    4.0\n",
       "Name: series_1, dtype: float64"
      ]
     },
     "execution_count": 16,
     "metadata": {},
     "output_type": "execute_result"
    }
   ],
   "source": [
    "pd.Series([1,2,3,4], index = list('0123'), dtype=float, name= 'series_1')"
   ]
  },
  {
   "cell_type": "code",
   "execution_count": 21,
   "metadata": {},
   "outputs": [
    {
     "data": {
      "text/plain": [
       "a    1.0\n",
       "b    2.0\n",
       "c    3.0\n",
       "d    4.0\n",
       "e    5.0\n",
       "Name: series_2, dtype: float64"
      ]
     },
     "execution_count": 21,
     "metadata": {},
     "output_type": "execute_result"
    }
   ],
   "source": [
    "# Creating a Series from a tuple\n",
    "pd.Series((1, 2, 3, 4, 5), index=list('abcde'), name='series_2', dtype=float)"
   ]
  },
  {
   "cell_type": "code",
   "execution_count": 22,
   "metadata": {},
   "outputs": [
    {
     "data": {
      "text/plain": [
       "a    1.0\n",
       "b    2.0\n",
       "c    3.0\n",
       "Name: series_3, dtype: float64"
      ]
     },
     "execution_count": 22,
     "metadata": {},
     "output_type": "execute_result"
    }
   ],
   "source": [
    "# Creating a Series from a dictionary\n",
    "pd.Series({'a': 1, 'b': 2, 'c':3}, dtype=float, name='series_3')"
   ]
  },
  {
   "cell_type": "code",
   "execution_count": 27,
   "metadata": {},
   "outputs": [
    {
     "name": "stdout",
     "output_type": "stream",
     "text": [
      "a     100\n",
      "b     200\n",
      "c     NaN\n",
      "d    None\n",
      "e     450\n",
      "dtype: object\n"
     ]
    }
   ],
   "source": [
    "data = pd.Series({'a': 100, 'b': '200', 'c': np.NaN, \n",
    "                    'd': None, 'e': 450})\n",
    "print (data)"
   ]
  },
  {
   "cell_type": "code",
   "execution_count": 28,
   "metadata": {},
   "outputs": [
    {
     "data": {
      "text/plain": [
       "[100, '200', nan, None, 450]"
      ]
     },
     "execution_count": 28,
     "metadata": {},
     "output_type": "execute_result"
    }
   ],
   "source": [
    "data.tolist()"
   ]
  },
  {
   "cell_type": "code",
   "execution_count": 31,
   "metadata": {},
   "outputs": [
    {
     "name": "stdout",
     "output_type": "stream",
     "text": [
      "[ 1.42695453  0.02782135 -0.30301389  1.3982374  -0.86829547]\n",
      "RangeIndex(start=0, stop=5, step=1)\n"
     ]
    }
   ],
   "source": [
    "# Attributes\n",
    "print (my_series.values)\n",
    "print (my_series.index)"
   ]
  },
  {
   "cell_type": "code",
   "execution_count": 34,
   "metadata": {},
   "outputs": [
    {
     "name": "stdout",
     "output_type": "stream",
     "text": [
      "<class 'pandas.core.indexes.range.RangeIndex'>\n"
     ]
    }
   ],
   "source": [
    "print (type(my_series.index))"
   ]
  },
  {
   "cell_type": "code",
   "execution_count": 36,
   "metadata": {},
   "outputs": [
    {
     "name": "stdout",
     "output_type": "stream",
     "text": [
      "<class 'numpy.ndarray'>\n",
      "40\n"
     ]
    }
   ],
   "source": [
    "print (type(my_series.values))\n",
    "print (my_series.nbytes)"
   ]
  },
  {
   "cell_type": "markdown",
   "metadata": {},
   "source": [
    "> **From Series to list, to dict**"
   ]
  },
  {
   "cell_type": "code",
   "execution_count": 37,
   "metadata": {},
   "outputs": [
    {
     "data": {
      "text/plain": [
       "[1.4269545261254104,\n",
       " 0.027821353347011118,\n",
       " -0.30301389007377455,\n",
       " 1.3982374048496882,\n",
       " -0.8682954738484912]"
      ]
     },
     "execution_count": 37,
     "metadata": {},
     "output_type": "execute_result"
    }
   ],
   "source": [
    "my_series.tolist()"
   ]
  },
  {
   "cell_type": "code",
   "execution_count": 39,
   "metadata": {},
   "outputs": [
    {
     "data": {
      "text/plain": [
       "{0: 1.4269545261254104,\n",
       " 1: 0.027821353347011118,\n",
       " 2: -0.30301389007377455,\n",
       " 3: 1.3982374048496882,\n",
       " 4: -0.86829547384849115}"
      ]
     },
     "execution_count": 39,
     "metadata": {},
     "output_type": "execute_result"
    }
   ],
   "source": [
    "my_series.to_dict()"
   ]
  },
  {
   "cell_type": "code",
   "execution_count": 40,
   "metadata": {},
   "outputs": [
    {
     "data": {
      "text/plain": [
       "[1.43, 0.03, -0.3, 1.4, -0.87]"
      ]
     },
     "execution_count": 40,
     "metadata": {},
     "output_type": "execute_result"
    }
   ],
   "source": [
    "myseries_w_index.tolist()"
   ]
  },
  {
   "cell_type": "code",
   "execution_count": 41,
   "metadata": {},
   "outputs": [
    {
     "data": {
      "text/plain": [
       "{'1': 1.4299999999999999,\n",
       " '2': 0.029999999999999999,\n",
       " '3': -0.29999999999999999,\n",
       " '4': 1.3999999999999999,\n",
       " '5': -0.87}"
      ]
     },
     "execution_count": 41,
     "metadata": {},
     "output_type": "execute_result"
    }
   ],
   "source": [
    "myseries_w_index.to_dict()"
   ]
  },
  {
   "cell_type": "markdown",
   "metadata": {},
   "source": [
    "> **Series Indexing**"
   ]
  },
  {
   "cell_type": "code",
   "execution_count": 45,
   "metadata": {
    "collapsed": true
   },
   "outputs": [],
   "source": [
    "my_series_1 = pd.Series(np.random.randn(5), index=list('abcde')).round(2)"
   ]
  },
  {
   "cell_type": "code",
   "execution_count": 46,
   "metadata": {},
   "outputs": [
    {
     "data": {
      "text/plain": [
       "a   -0.13\n",
       "b   -1.71\n",
       "c    1.41\n",
       "d    1.08\n",
       "e    0.85\n",
       "dtype: float64"
      ]
     },
     "execution_count": 46,
     "metadata": {},
     "output_type": "execute_result"
    }
   ],
   "source": [
    "my_series_1"
   ]
  },
  {
   "cell_type": "code",
   "execution_count": 48,
   "metadata": {},
   "outputs": [
    {
     "name": "stdout",
     "output_type": "stream",
     "text": [
      "-0.13\n"
     ]
    }
   ],
   "source": [
    "print (my_series_1['a'])"
   ]
  },
  {
   "cell_type": "code",
   "execution_count": 49,
   "metadata": {},
   "outputs": [
    {
     "name": "stdout",
     "output_type": "stream",
     "text": [
      "a   -0.13\n",
      "b   -1.71\n",
      "c    1.41\n",
      "d    1.08\n",
      "dtype: float64\n"
     ]
    }
   ],
   "source": [
    "print (my_series_1['a':'d'])"
   ]
  },
  {
   "cell_type": "code",
   "execution_count": 50,
   "metadata": {},
   "outputs": [
    {
     "name": "stdout",
     "output_type": "stream",
     "text": [
      "a   -0.13\n",
      "b   -1.71\n",
      "dtype: float64\n"
     ]
    }
   ],
   "source": [
    "print (my_series_1[:'b'])"
   ]
  },
  {
   "cell_type": "code",
   "execution_count": 51,
   "metadata": {},
   "outputs": [
    {
     "name": "stdout",
     "output_type": "stream",
     "text": [
      "a   -0.13\n",
      "b   -1.71\n",
      "c    1.41\n",
      "dtype: float64\n"
     ]
    }
   ],
   "source": [
    "print (my_series_1[0:3])"
   ]
  },
  {
   "cell_type": "code",
   "execution_count": 52,
   "metadata": {},
   "outputs": [
    {
     "name": "stdout",
     "output_type": "stream",
     "text": [
      "a   -0.13\n",
      "b   -1.71\n",
      "dtype: float64\n"
     ]
    }
   ],
   "source": [
    "print (my_series_1[:2])"
   ]
  },
  {
   "cell_type": "code",
   "execution_count": 53,
   "metadata": {},
   "outputs": [
    {
     "name": "stdout",
     "output_type": "stream",
     "text": [
      "e    0.85\n",
      "d    1.08\n",
      "c    1.41\n",
      "b   -1.71\n",
      "a   -0.13\n",
      "dtype: float64\n"
     ]
    }
   ],
   "source": [
    "print (my_series_1[::-1]) #Reversing the series"
   ]
  },
  {
   "cell_type": "code",
   "execution_count": 55,
   "metadata": {},
   "outputs": [
    {
     "data": {
      "text/plain": [
       "a   -0.13\n",
       "c    1.41\n",
       "dtype: float64"
      ]
     },
     "execution_count": 55,
     "metadata": {},
     "output_type": "execute_result"
    }
   ],
   "source": [
    "my_series_1.loc[['a','c']]"
   ]
  },
  {
   "cell_type": "code",
   "execution_count": 57,
   "metadata": {},
   "outputs": [
    {
     "data": {
      "text/plain": [
       "a   -0.13\n",
       "b   -1.71\n",
       "dtype: float64"
      ]
     },
     "execution_count": 57,
     "metadata": {},
     "output_type": "execute_result"
    }
   ],
   "source": [
    "my_series_1.iloc[0:2]"
   ]
  },
  {
   "cell_type": "code",
   "execution_count": null,
   "metadata": {
    "collapsed": true
   },
   "outputs": [],
   "source": [
    "#Series Slicing using methods like loc, iloc, ix\n",
    "# LABEL BASED INDEXER METHOD\n",
    "#.loc() for label based subsetting \n",
    "#.iloc() for integer based subsetting"
   ]
  },
  {
   "cell_type": "code",
   "execution_count": 59,
   "metadata": {},
   "outputs": [
    {
     "data": {
      "text/plain": [
       "a   -0.13\n",
       "c    1.41\n",
       "e    0.85\n",
       "dtype: float64"
      ]
     },
     "execution_count": 59,
     "metadata": {},
     "output_type": "execute_result"
    }
   ],
   "source": [
    "my_series_1.loc[['a', 'c', 'e']] "
   ]
  },
  {
   "cell_type": "code",
   "execution_count": 61,
   "metadata": {},
   "outputs": [
    {
     "name": "stdout",
     "output_type": "stream",
     "text": [
      "a   -0.13\n",
      "b   -1.71\n",
      "dtype: float64\n",
      "a   -0.13\n",
      "b   -1.71\n",
      "dtype: float64\n"
     ]
    }
   ],
   "source": [
    "# INTEGER BASED INDEXED METHOD\n",
    "print (my_series_1.iloc[0:2])\n",
    "print (my_series_1.iloc[:-3])"
   ]
  },
  {
   "cell_type": "code",
   "execution_count": 62,
   "metadata": {},
   "outputs": [
    {
     "name": "stdout",
     "output_type": "stream",
     "text": [
      "a   -0.13\n",
      "b   -1.71\n",
      "c    1.41\n",
      "dtype: float64 0    1.426955\n",
      "1    0.027821\n",
      "2   -0.303014\n",
      "dtype: float64\n"
     ]
    },
    {
     "name": "stderr",
     "output_type": "stream",
     "text": [
      "C:\\Users\\Mohan\\Anaconda3\\lib\\site-packages\\ipykernel_launcher.py:2: DeprecationWarning: \n",
      ".ix is deprecated. Please use\n",
      ".loc for label based indexing or\n",
      ".iloc for positional indexing\n",
      "\n",
      "See the documentation here:\n",
      "http://pandas.pydata.org/pandas-docs/stable/indexing.html#deprecate_ix\n",
      "  \n"
     ]
    }
   ],
   "source": [
    "# MIXED LABELS and INTEGERS BASED INDEXER METHOD\n",
    "print (my_series_1.ix['a':'c'], my_series.ix[0:2])"
   ]
  },
  {
   "cell_type": "code",
   "execution_count": 63,
   "metadata": {},
   "outputs": [
    {
     "data": {
      "text/plain": [
       "a   -0.13\n",
       "b   -1.71\n",
       "c    1.41\n",
       "d    1.08\n",
       "e    0.85\n",
       "dtype: float64"
      ]
     },
     "execution_count": 63,
     "metadata": {},
     "output_type": "execute_result"
    }
   ],
   "source": [
    "my_series_1"
   ]
  },
  {
   "cell_type": "code",
   "execution_count": 64,
   "metadata": {},
   "outputs": [
    {
     "data": {
      "text/plain": [
       "a    False\n",
       "b    False\n",
       "c     True\n",
       "d     True\n",
       "e     True\n",
       "dtype: bool"
      ]
     },
     "execution_count": 64,
     "metadata": {},
     "output_type": "execute_result"
    }
   ],
   "source": [
    "my_series_1 > 0"
   ]
  },
  {
   "cell_type": "code",
   "execution_count": 65,
   "metadata": {},
   "outputs": [
    {
     "data": {
      "text/plain": [
       "c    1.41\n",
       "d    1.08\n",
       "e    0.85\n",
       "dtype: float64"
      ]
     },
     "execution_count": 65,
     "metadata": {},
     "output_type": "execute_result"
    }
   ],
   "source": [
    "my_series_1[my_series_1 > 0]"
   ]
  },
  {
   "cell_type": "code",
   "execution_count": 66,
   "metadata": {},
   "outputs": [
    {
     "data": {
      "text/plain": [
       "a   -0.13\n",
       "b   -1.71\n",
       "e    0.85\n",
       "dtype: float64"
      ]
     },
     "execution_count": 66,
     "metadata": {},
     "output_type": "execute_result"
    }
   ],
   "source": [
    "my_series_1[[True, True, False, False, True]]"
   ]
  },
  {
   "cell_type": "markdown",
   "metadata": {},
   "source": [
    "> **Boolean Indexing **"
   ]
  },
  {
   "cell_type": "code",
   "execution_count": 67,
   "metadata": {},
   "outputs": [
    {
     "name": "stdout",
     "output_type": "stream",
     "text": [
      "A    0.45\n",
      "B   -1.82\n",
      "C    1.02\n",
      "A   -0.49\n",
      "B    1.15\n",
      "C    0.87\n",
      "A    0.78\n",
      "B   -0.83\n",
      "C   -0.50\n",
      "A    0.01\n",
      "B   -0.49\n",
      "C    0.27\n",
      "A   -0.04\n",
      "B   -1.11\n",
      "C   -1.63\n",
      "dtype: float64\n"
     ]
    }
   ],
   "source": [
    "my_series_2 = pd.Series(np.random.randn(15).round(2), index=list('ABC'*5))\n",
    "print (my_series_2)"
   ]
  },
  {
   "cell_type": "code",
   "execution_count": 68,
   "metadata": {},
   "outputs": [
    {
     "data": {
      "text/plain": [
       "A    0.45\n",
       "C    1.02\n",
       "B    1.15\n",
       "C    0.87\n",
       "A    0.78\n",
       "A    0.01\n",
       "C    0.27\n",
       "dtype: float64"
      ]
     },
     "execution_count": 68,
     "metadata": {},
     "output_type": "execute_result"
    }
   ],
   "source": [
    "my_series_2[my_series_2 > 0]"
   ]
  },
  {
   "cell_type": "code",
   "execution_count": 70,
   "metadata": {},
   "outputs": [
    {
     "name": "stdout",
     "output_type": "stream",
     "text": [
      "1.15\n",
      "B\n"
     ]
    }
   ],
   "source": [
    "print (my_series_2.max())\n",
    "print (my_series_2.idxmax())"
   ]
  },
  {
   "cell_type": "code",
   "execution_count": 72,
   "metadata": {},
   "outputs": [
    {
     "name": "stdout",
     "output_type": "stream",
     "text": [
      "B   -1.82\n",
      "B    1.15\n",
      "B   -0.83\n",
      "B   -0.49\n",
      "B   -1.11\n",
      "dtype: float64\n"
     ]
    },
    {
     "name": "stderr",
     "output_type": "stream",
     "text": [
      "C:\\Users\\Mohan\\Anaconda3\\lib\\site-packages\\ipykernel_launcher.py:1: DeprecationWarning: \n",
      ".ix is deprecated. Please use\n",
      ".loc for label based indexing or\n",
      ".iloc for positional indexing\n",
      "\n",
      "See the documentation here:\n",
      "http://pandas.pydata.org/pandas-docs/stable/indexing.html#deprecate_ix\n",
      "  \"\"\"Entry point for launching an IPython kernel.\n"
     ]
    }
   ],
   "source": [
    "print (my_series_2.ix[my_series_2.idxmax()]) # Select the maximum value from the series"
   ]
  },
  {
   "cell_type": "code",
   "execution_count": 73,
   "metadata": {
    "collapsed": true
   },
   "outputs": [],
   "source": [
    "income = pd.Series([100,200,300,400,1000,250,350,450,100])"
   ]
  },
  {
   "cell_type": "code",
   "execution_count": 79,
   "metadata": {},
   "outputs": [
    {
     "name": "stdout",
     "output_type": "stream",
     "text": [
      "(9,) \n",
      " 0    100\n",
      "1    200\n",
      "dtype: int64 \n",
      " 5    250\n",
      "6    350\n",
      "7    450\n",
      "8    100\n",
      "dtype: int64\n"
     ]
    }
   ],
   "source": [
    "print (income.shape, '\\n', income.head(2),'\\n', income.tail(4))"
   ]
  },
  {
   "cell_type": "markdown",
   "metadata": {},
   "source": [
    "## Data processing"
   ]
  },
  {
   "cell_type": "code",
   "execution_count": 80,
   "metadata": {},
   "outputs": [
    {
     "name": "stderr",
     "output_type": "stream",
     "text": [
      "C:\\Users\\Mohan\\Anaconda3\\lib\\site-packages\\ipykernel_launcher.py:1: RuntimeWarning: invalid value encountered in sqrt\n",
      "  \"\"\"Entry point for launching an IPython kernel.\n"
     ]
    },
    {
     "data": {
      "text/plain": [
       "A    0.670820\n",
       "B         NaN\n",
       "C    1.009950\n",
       "A         NaN\n",
       "B    1.072381\n",
       "C    0.932738\n",
       "A    0.883176\n",
       "B         NaN\n",
       "C         NaN\n",
       "A    0.100000\n",
       "B         NaN\n",
       "C    0.519615\n",
       "A         NaN\n",
       "B         NaN\n",
       "C         NaN\n",
       "dtype: float64"
      ]
     },
     "execution_count": 80,
     "metadata": {},
     "output_type": "execute_result"
    }
   ],
   "source": [
    "np.sqrt(my_series_2)"
   ]
  },
  {
   "cell_type": "code",
   "execution_count": 81,
   "metadata": {},
   "outputs": [
    {
     "data": {
      "text/plain": [
       "0    1.426955\n",
       "1    0.027821\n",
       "2   -0.303014\n",
       "3    1.398237\n",
       "4   -0.868295\n",
       "dtype: float64"
      ]
     },
     "execution_count": 81,
     "metadata": {},
     "output_type": "execute_result"
    }
   ],
   "source": [
    "my_series"
   ]
  },
  {
   "cell_type": "code",
   "execution_count": 82,
   "metadata": {},
   "outputs": [
    {
     "name": "stdout",
     "output_type": "stream",
     "text": [
      "0    0.713477\n",
      "1    0.013911\n",
      "2   -0.151507\n",
      "3    0.699119\n",
      "4   -0.434148\n",
      "dtype: float64\n"
     ]
    }
   ],
   "source": [
    "print (my_series/2)"
   ]
  },
  {
   "cell_type": "code",
   "execution_count": 83,
   "metadata": {},
   "outputs": [
    {
     "data": {
      "text/plain": [
       "0    False\n",
       "1    False\n",
       "2     True\n",
       "3    False\n",
       "4     True\n",
       "dtype: bool"
      ]
     },
     "execution_count": 83,
     "metadata": {},
     "output_type": "execute_result"
    }
   ],
   "source": [
    "my_series > my_series * 2"
   ]
  },
  {
   "cell_type": "code",
   "execution_count": 84,
   "metadata": {},
   "outputs": [
    {
     "data": {
      "text/plain": [
       "0    sit\n",
       "1    tat\n",
       "2    bat\n",
       "3    rat\n",
       "dtype: object"
      ]
     },
     "execution_count": 84,
     "metadata": {},
     "output_type": "execute_result"
    }
   ],
   "source": [
    "#Checking values belonging to a list\n",
    "#1. using in operator\n",
    "my_series = pd.Series(['sit', 'tat', 'bat', 'rat'])\n",
    "my_series"
   ]
  },
  {
   "cell_type": "code",
   "execution_count": 86,
   "metadata": {},
   "outputs": [
    {
     "data": {
      "text/plain": [
       "0    False\n",
       "1     True\n",
       "2    False\n",
       "3    False\n",
       "dtype: bool"
      ]
     },
     "execution_count": 86,
     "metadata": {},
     "output_type": "execute_result"
    }
   ],
   "source": [
    "my_series.isin(['tat'])"
   ]
  },
  {
   "cell_type": "code",
   "execution_count": 88,
   "metadata": {},
   "outputs": [
    {
     "name": "stdout",
     "output_type": "stream",
     "text": [
      "True\n",
      "False\n"
     ]
    }
   ],
   "source": [
    "print (1 in my_series.index)\n",
    "\n",
    "print ('rat' in my_series.index)"
   ]
  },
  {
   "cell_type": "code",
   "execution_count": 89,
   "metadata": {},
   "outputs": [
    {
     "name": "stdout",
     "output_type": "stream",
     "text": [
      "True\n"
     ]
    }
   ],
   "source": [
    "print ('rat' in my_series.values)"
   ]
  },
  {
   "cell_type": "code",
   "execution_count": 90,
   "metadata": {},
   "outputs": [
    {
     "name": "stdout",
     "output_type": "stream",
     "text": [
      "0        c\n",
      "1       py\n",
      "2     java\n",
      "3    scala\n",
      "4    swift\n",
      "dtype: object\n",
      "0    False\n",
      "1    False\n",
      "2    False\n",
      "3    False\n",
      "4    False\n",
      "dtype: bool\n",
      "0    False\n",
      "1     True\n",
      "2    False\n",
      "3    False\n",
      "4     True\n",
      "dtype: bool\n",
      "0    False\n",
      "1     True\n",
      "2    False\n",
      "3    False\n",
      "4     True\n",
      "dtype: bool\n",
      "1      py\n",
      "2    java\n",
      "dtype: object\n"
     ]
    }
   ],
   "source": [
    "#THE .isin() method\n",
    "pls = pd.Series(['c', 'py', 'java', 'scala', 'swift'])\n",
    "print (pls)\n",
    "print (pls.isin(['a', 'b']))\n",
    "print (pls.isin(['r', 'py', 'vba', 'swift']))\n",
    "print (pd.Series([X in ['r', 'py', 'vba', 'swift'] for X in pls.values]))\n",
    "print (pls[pls.isin(['java', 'py'])])"
   ]
  },
  {
   "cell_type": "code",
   "execution_count": 94,
   "metadata": {
    "collapsed": true
   },
   "outputs": [],
   "source": [
    "s_1 = pd.Series({'sat': 1, 'rat': 3, 'bat': 2, 'tat': 1, 'vat': 0.5})"
   ]
  },
  {
   "cell_type": "code",
   "execution_count": 95,
   "metadata": {},
   "outputs": [
    {
     "name": "stdout",
     "output_type": "stream",
     "text": [
      "bat    2.0\n",
      "rat    3.0\n",
      "sat    1.0\n",
      "tat    1.0\n",
      "vat    0.5\n",
      "dtype: float64\n",
      "bat    4.0\n",
      "sat    3.0\n",
      "vat    2.5\n",
      "dtype: float64\n",
      "[4.0, 5.0, 3.0, 3.0, 2.5]\n",
      "bat    4.0\n",
      "rat    5.0\n",
      "sat    3.0\n",
      "tat    3.0\n",
      "vat    2.5\n",
      "dtype: float64\n"
     ]
    }
   ],
   "source": [
    "print (s_1)\n",
    "print (pd.Series({k: v + 2 for k, v in s_1.iteritems() if k not in ['tat', 'rat']}))\n",
    "print ([x + 2 for x in s_1])\n",
    "print (s_1 +2)"
   ]
  },
  {
   "cell_type": "code",
   "execution_count": 97,
   "metadata": {},
   "outputs": [
    {
     "name": "stdout",
     "output_type": "stream",
     "text": [
      "a   -0.23\n",
      "b    1.69\n",
      "c   -1.03\n",
      "d    0.04\n",
      "e    1.61\n",
      "dtype: float64\n",
      "a   -0.23\n",
      "y     NaN\n",
      "c   -1.03\n",
      "d    0.04\n",
      "e    1.61\n",
      "x     NaN\n",
      "dtype: float64\n"
     ]
    }
   ],
   "source": [
    "#Re-indexing\n",
    "my_series = pd.Series(np.random.randn(5), index = list('abcde')).round(2)\n",
    "print (my_series)\n",
    "print (my_series.loc[['a', 'y', 'c', 'd', 'e', 'x']])"
   ]
  },
  {
   "cell_type": "code",
   "execution_count": 8,
   "metadata": {},
   "outputs": [
    {
     "name": "stdout",
     "output_type": "stream",
     "text": [
      "Ford       700.0\n",
      "Hyundai    600.0\n",
      "Kia          NaN\n",
      "Lexus      450.0\n",
      "Suzuki       NaN\n",
      "Toyota     100.0\n",
      "dtype: float64\n",
      "\n",
      "\n",
      "Toyota    100.0\n",
      "Ford      700.0\n",
      "Lexus     450.0\n",
      "dtype: float64\n"
     ]
    }
   ],
   "source": [
    "cars = pd.Series({'Toyota': 100, 'Suzuki': None, 'Hyundai': 600, \n",
    "                    'Ford': 700, 'Lexus': 450, 'Kia': None})\n",
    "print (cars)\n",
    "\n",
    "# Adding two Series together returns a union of the two Series with the addition occurring on the shared index values. \n",
    "# Values on either Series that did not have a shared index will produce a NULL/NaN (not a number).\n",
    "print ('\\n')\n",
    "print (cars[['Toyota', 'Ford', 'Lexus']])\n",
    "\n"
   ]
  },
  {
   "cell_type": "code",
   "execution_count": 9,
   "metadata": {},
   "outputs": [
    {
     "name": "stdout",
     "output_type": "stream",
     "text": [
      "Hyundai    600.0\n",
      "Lexus      450.0\n",
      "dtype: float64\n",
      "\n",
      "\n",
      "Ford         NaN\n",
      "Hyundai      NaN\n",
      "Lexus      900.0\n",
      "Toyota       NaN\n",
      "dtype: float64\n"
     ]
    }
   ],
   "source": [
    "print (cars[['Hyundai', 'Lexus']])\n",
    "print ('\\n')\n",
    "print (cars[['Hyundai', 'Lexus']] + cars[['Toyota', 'Ford', 'Lexus']])"
   ]
  },
  {
   "cell_type": "code",
   "execution_count": 17,
   "metadata": {},
   "outputs": [
    {
     "name": "stdout",
     "output_type": "stream",
     "text": [
      "0   -0.65\n",
      "1    1.08\n",
      "2   -0.47\n",
      "3   -0.29\n",
      "4   -0.91\n",
      "dtype: float64\n"
     ]
    }
   ],
   "source": [
    "#TYPE CONVERSION\n",
    "#astype explicitly convert dtypes from one to another\n",
    "my_series=pd.Series(np.random.randn(1000).round(2))\n",
    "print (my_series.head())\n"
   ]
  },
  {
   "cell_type": "code",
   "execution_count": 19,
   "metadata": {},
   "outputs": [
    {
     "name": "stdout",
     "output_type": "stream",
     "text": [
      "0    -0.65\n",
      "1     1.08\n",
      "2    -0.47\n",
      "3    -0.29\n",
      "4    -0.91\n",
      "dtype: object\n"
     ]
    }
   ],
   "source": [
    "print (my_series.astype(str).head())"
   ]
  },
  {
   "cell_type": "code",
   "execution_count": 20,
   "metadata": {},
   "outputs": [
    {
     "data": {
      "text/plain": [
       "0     -0.65\n",
       "1      1.00\n",
       "2     -0.47\n",
       "3     -0.29\n",
       "4     -0.91\n",
       "5      1.00\n",
       "6      0.50\n",
       "7      1.00\n",
       "8     -2.15\n",
       "9     -0.76\n",
       "10     1.00\n",
       "11    -2.34\n",
       "12     1.00\n",
       "13     0.20\n",
       "14    -0.84\n",
       "15    -0.02\n",
       "16    -0.82\n",
       "17    -0.22\n",
       "18     0.14\n",
       "19    -0.30\n",
       "20    -0.41\n",
       "21     0.59\n",
       "22     0.57\n",
       "23    -0.25\n",
       "24    -0.87\n",
       "25     0.34\n",
       "26     0.14\n",
       "27    -0.69\n",
       "28     0.66\n",
       "29     0.95\n",
       "       ... \n",
       "970    1.00\n",
       "971   -0.21\n",
       "972   -0.05\n",
       "973   -0.85\n",
       "974   -0.92\n",
       "975   -0.40\n",
       "976   -1.73\n",
       "977   -0.72\n",
       "978    0.66\n",
       "979    0.27\n",
       "980    1.00\n",
       "981    0.35\n",
       "982    0.21\n",
       "983    0.87\n",
       "984    0.15\n",
       "985    0.45\n",
       "986   -1.12\n",
       "987   -1.43\n",
       "988    1.00\n",
       "989    0.34\n",
       "990   -0.21\n",
       "991    1.00\n",
       "992   -0.77\n",
       "993   -0.29\n",
       "994   -1.22\n",
       "995   -0.58\n",
       "996    0.35\n",
       "997   -0.42\n",
       "998   -1.17\n",
       "999    1.00\n",
       "Length: 1000, dtype: float64"
      ]
     },
     "execution_count": 20,
     "metadata": {},
     "output_type": "execute_result"
    }
   ],
   "source": [
    "my_series.clip_upper(1)"
   ]
  },
  {
   "cell_type": "code",
   "execution_count": 21,
   "metadata": {},
   "outputs": [
    {
     "data": {
      "text/plain": [
       "0     -0.65\n",
       "1      1.08\n",
       "2     -0.47\n",
       "3     -0.29\n",
       "4     -0.91\n",
       "5      1.12\n",
       "6      0.50\n",
       "7      1.45\n",
       "8     -1.00\n",
       "9     -0.76\n",
       "10     1.21\n",
       "11    -1.00\n",
       "12     1.06\n",
       "13     0.20\n",
       "14    -0.84\n",
       "15    -0.02\n",
       "16    -0.82\n",
       "17    -0.22\n",
       "18     0.14\n",
       "19    -0.30\n",
       "20    -0.41\n",
       "21     0.59\n",
       "22     0.57\n",
       "23    -0.25\n",
       "24    -0.87\n",
       "25     0.34\n",
       "26     0.14\n",
       "27    -0.69\n",
       "28     0.66\n",
       "29     0.95\n",
       "       ... \n",
       "970    1.76\n",
       "971   -0.21\n",
       "972   -0.05\n",
       "973   -0.85\n",
       "974   -0.92\n",
       "975   -0.40\n",
       "976   -1.00\n",
       "977   -0.72\n",
       "978    0.66\n",
       "979    0.27\n",
       "980    1.03\n",
       "981    0.35\n",
       "982    0.21\n",
       "983    0.87\n",
       "984    0.15\n",
       "985    0.45\n",
       "986   -1.00\n",
       "987   -1.00\n",
       "988    1.63\n",
       "989    0.34\n",
       "990   -0.21\n",
       "991    1.40\n",
       "992   -0.77\n",
       "993   -0.29\n",
       "994   -1.00\n",
       "995   -0.58\n",
       "996    0.35\n",
       "997   -0.42\n",
       "998   -1.00\n",
       "999    1.84\n",
       "Length: 1000, dtype: float64"
      ]
     },
     "execution_count": 21,
     "metadata": {},
     "output_type": "execute_result"
    }
   ],
   "source": [
    "my_series.clip_lower(-1)"
   ]
  },
  {
   "cell_type": "code",
   "execution_count": 22,
   "metadata": {},
   "outputs": [
    {
     "name": "stdout",
     "output_type": "stream",
     "text": [
      "0   -0.65\n",
      "1    1.08\n",
      "2   -0.47\n",
      "3   -0.29\n",
      "4   -0.91\n",
      "5    1.12\n",
      "6    0.50\n",
      "7    1.45\n",
      "8   -2.15\n",
      "9   -0.76\n",
      "dtype: float64\n",
      "0   -0.65\n",
      "1    0.50\n",
      "2   -0.47\n",
      "3   -0.29\n",
      "4   -0.91\n",
      "5    0.50\n",
      "6    0.50\n",
      "7    0.50\n",
      "8   -2.15\n",
      "9   -0.76\n",
      "dtype: float64\n",
      "0    0.50\n",
      "1    1.08\n",
      "2    0.50\n",
      "3    0.50\n",
      "4    0.50\n",
      "5    1.12\n",
      "6    0.50\n",
      "7    1.45\n",
      "8    0.50\n",
      "9    0.50\n",
      "dtype: float64\n"
     ]
    }
   ],
   "source": [
    "# 1 Handling Outliers\n",
    "print (my_series.head(10))\n",
    "print (my_series.head(10).clip_upper(.50))\n",
    "print (my_series.head(10).clip_lower(.50))"
   ]
  },
  {
   "cell_type": "code",
   "execution_count": 36,
   "metadata": {},
   "outputs": [
    {
     "name": "stdout",
     "output_type": "stream",
     "text": [
      "0   -0.65\n",
      "1    1.08\n",
      "2   -0.47\n",
      "3   -0.29\n",
      "4   -0.91\n",
      "5    1.12\n",
      "6    0.50\n",
      "7    1.45\n",
      "8   -2.15\n",
      "9   -0.76\n",
      "dtype: float64\n",
      "0   -0.650\n",
      "1    1.080\n",
      "2   -0.470\n",
      "3   -0.290\n",
      "4   -0.910\n",
      "5    1.120\n",
      "6    0.500\n",
      "7    1.450\n",
      "8   -1.302\n",
      "9   -0.760\n",
      "dtype: float64\n"
     ]
    }
   ],
   "source": [
    "print (my_series.head(10))\n",
    "print (my_series.head(10).clip_lower(my_series.quantile(0.1)))\n"
   ]
  },
  {
   "cell_type": "code",
   "execution_count": 35,
   "metadata": {},
   "outputs": [
    {
     "data": {
      "text/plain": [
       "-1.302"
      ]
     },
     "execution_count": 35,
     "metadata": {},
     "output_type": "execute_result"
    }
   ],
   "source": [
    "my_series.quantile(0.1)"
   ]
  },
  {
   "cell_type": "code",
   "execution_count": 37,
   "metadata": {},
   "outputs": [
    {
     "name": "stdout",
     "output_type": "stream",
     "text": [
      "0     apples\n",
      "1    oranges\n",
      "2    peaches\n",
      "3    mangoes\n",
      "dtype: object\n"
     ]
    }
   ],
   "source": [
    "fruits = pd.Series(['apples', 'oranges', 'peaches', 'mangoes']) \n",
    "print (fruits)"
   ]
  },
  {
   "cell_type": "code",
   "execution_count": 39,
   "metadata": {},
   "outputs": [
    {
     "data": {
      "text/plain": [
       "0     grapes\n",
       "1    oranges\n",
       "2    bananas\n",
       "3    mangoes\n",
       "dtype: object"
      ]
     },
     "execution_count": 39,
     "metadata": {},
     "output_type": "execute_result"
    }
   ],
   "source": [
    "fruits.replace({'apples':'grapes', 'peaches':'bananas'})"
   ]
  },
  {
   "cell_type": "code",
   "execution_count": null,
   "metadata": {
    "collapsed": true
   },
   "outputs": [],
   "source": [
    "# Handle missing values"
   ]
  },
  {
   "cell_type": "code",
   "execution_count": 40,
   "metadata": {},
   "outputs": [
    {
     "name": "stdout",
     "output_type": "stream",
     "text": [
      "0    1.12\n",
      "1    3.14\n",
      "2     NaN\n",
      "3    6.02\n",
      "4    2.73\n",
      "5     NaN\n",
      "dtype: float64\n"
     ]
    }
   ],
   "source": [
    "my_series=pd.Series([1.12, 3.14, np.nan, 6.02, 2.73, None])\n",
    "print (my_series)"
   ]
  },
  {
   "cell_type": "code",
   "execution_count": 42,
   "metadata": {},
   "outputs": [
    {
     "name": "stdout",
     "output_type": "stream",
     "text": [
      "0    False\n",
      "1    False\n",
      "2     True\n",
      "3    False\n",
      "4    False\n",
      "5     True\n",
      "dtype: bool\n"
     ]
    }
   ],
   "source": [
    "print (my_series.isnull())"
   ]
  },
  {
   "cell_type": "code",
   "execution_count": 43,
   "metadata": {},
   "outputs": [
    {
     "name": "stdout",
     "output_type": "stream",
     "text": [
      "2\n"
     ]
    }
   ],
   "source": [
    "print (sum(my_series.isnull()))"
   ]
  },
  {
   "cell_type": "code",
   "execution_count": 48,
   "metadata": {},
   "outputs": [
    {
     "name": "stdout",
     "output_type": "stream",
     "text": [
      "0     True\n",
      "1     True\n",
      "2    False\n",
      "3     True\n",
      "4     True\n",
      "5    False\n",
      "dtype: bool \n",
      " sum of not null elements:  4\n"
     ]
    }
   ],
   "source": [
    "print (my_series.notnull(), '\\n', 'sum of not null elements: ', sum(my_series.notnull()))"
   ]
  },
  {
   "cell_type": "code",
   "execution_count": 49,
   "metadata": {},
   "outputs": [
    {
     "data": {
      "text/plain": [
       "0    1.12\n",
       "1    3.14\n",
       "3    6.02\n",
       "4    2.73\n",
       "dtype: float64"
      ]
     },
     "execution_count": 49,
     "metadata": {},
     "output_type": "execute_result"
    }
   ],
   "source": [
    "my_series[my_series.notnull()]"
   ]
  },
  {
   "cell_type": "code",
   "execution_count": 50,
   "metadata": {},
   "outputs": [
    {
     "data": {
      "text/plain": [
       "2   NaN\n",
       "5   NaN\n",
       "dtype: float64"
      ]
     },
     "execution_count": 50,
     "metadata": {},
     "output_type": "execute_result"
    }
   ],
   "source": [
    "my_series[my_series.isnull()]"
   ]
  },
  {
   "cell_type": "code",
   "execution_count": 51,
   "metadata": {},
   "outputs": [
    {
     "data": {
      "text/plain": [
       "0    1.12\n",
       "1    3.14\n",
       "2    0.00\n",
       "3    6.02\n",
       "4    2.73\n",
       "5    0.00\n",
       "dtype: float64"
      ]
     },
     "execution_count": 51,
     "metadata": {},
     "output_type": "execute_result"
    }
   ],
   "source": [
    "my_series.fillna(0)"
   ]
  },
  {
   "cell_type": "code",
   "execution_count": 53,
   "metadata": {
    "collapsed": true
   },
   "outputs": [],
   "source": [
    "my_series_2 = my_series[my_series.notnull()]"
   ]
  },
  {
   "cell_type": "code",
   "execution_count": 54,
   "metadata": {},
   "outputs": [
    {
     "data": {
      "text/plain": [
       "0    1.12\n",
       "1    3.14\n",
       "3    6.02\n",
       "4    2.73\n",
       "dtype: float64"
      ]
     },
     "execution_count": 54,
     "metadata": {},
     "output_type": "execute_result"
    }
   ],
   "source": [
    "my_series_2"
   ]
  },
  {
   "cell_type": "code",
   "execution_count": 55,
   "metadata": {},
   "outputs": [
    {
     "data": {
      "text/plain": [
       "0    1.1200\n",
       "1    3.1400\n",
       "2    3.2525\n",
       "3    6.0200\n",
       "4    2.7300\n",
       "5    3.2525\n",
       "dtype: float64"
      ]
     },
     "execution_count": 55,
     "metadata": {},
     "output_type": "execute_result"
    }
   ],
   "source": [
    "my_series.fillna(my_series_2.mean())"
   ]
  },
  {
   "cell_type": "code",
   "execution_count": 58,
   "metadata": {},
   "outputs": [
    {
     "data": {
      "text/plain": [
       "0    1.12\n",
       "1    3.14\n",
       "2    3.14\n",
       "3    6.02\n",
       "4    2.73\n",
       "5    2.73\n",
       "dtype: float64"
      ]
     },
     "execution_count": 58,
     "metadata": {},
     "output_type": "execute_result"
    }
   ],
   "source": [
    "my_series.fillna(method = 'ffill')"
   ]
  },
  {
   "cell_type": "code",
   "execution_count": 59,
   "metadata": {},
   "outputs": [
    {
     "data": {
      "text/plain": [
       "0    1.12\n",
       "1    3.14\n",
       "2    6.02\n",
       "3    6.02\n",
       "4    2.73\n",
       "5     NaN\n",
       "dtype: float64"
      ]
     },
     "execution_count": 59,
     "metadata": {},
     "output_type": "execute_result"
    }
   ],
   "source": [
    "my_series.fillna(method = 'bfill')"
   ]
  },
  {
   "cell_type": "code",
   "execution_count": 60,
   "metadata": {},
   "outputs": [
    {
     "name": "stdout",
     "output_type": "stream",
     "text": [
      "<class 'float'>\n",
      "<class 'NoneType'>\n"
     ]
    }
   ],
   "source": [
    "# difference between NaN and None\n",
    "print (type(np.nan)) #It is a mathematical entity\n",
    "print (type(None)) # It denotes a NA"
   ]
  },
  {
   "cell_type": "code",
   "execution_count": 61,
   "metadata": {},
   "outputs": [
    {
     "name": "stdout",
     "output_type": "stream",
     "text": [
      "0     a\n",
      "1     b\n",
      "2     c\n",
      "3     d\n",
      "4     a\n",
      "5     b\n",
      "6     c\n",
      "7     d\n",
      "8     a\n",
      "9     b\n",
      "10    c\n",
      "11    d\n",
      "dtype: object\n"
     ]
    }
   ],
   "source": [
    "my_series = pd.Series(list('abcd' * 3)) \n",
    "print (my_series)"
   ]
  },
  {
   "cell_type": "code",
   "execution_count": 62,
   "metadata": {},
   "outputs": [
    {
     "data": {
      "text/plain": [
       "array(['a', 'b', 'c', 'd'], dtype=object)"
      ]
     },
     "execution_count": 62,
     "metadata": {},
     "output_type": "execute_result"
    }
   ],
   "source": [
    "my_series.unique() #Finding unique values"
   ]
  },
  {
   "cell_type": "code",
   "execution_count": 63,
   "metadata": {},
   "outputs": [
    {
     "data": {
      "text/plain": [
       "4"
      ]
     },
     "execution_count": 63,
     "metadata": {},
     "output_type": "execute_result"
    }
   ],
   "source": [
    "my_series.nunique()"
   ]
  },
  {
   "cell_type": "code",
   "execution_count": 64,
   "metadata": {},
   "outputs": [
    {
     "data": {
      "text/plain": [
       "d    3\n",
       "a    3\n",
       "b    3\n",
       "c    3\n",
       "dtype: int64"
      ]
     },
     "execution_count": 64,
     "metadata": {},
     "output_type": "execute_result"
    }
   ],
   "source": [
    "my_series.value_counts()"
   ]
  },
  {
   "cell_type": "code",
   "execution_count": 65,
   "metadata": {},
   "outputs": [
    {
     "data": {
      "text/plain": [
       "0     False\n",
       "1     False\n",
       "2     False\n",
       "3     False\n",
       "4      True\n",
       "5      True\n",
       "6      True\n",
       "7      True\n",
       "8      True\n",
       "9      True\n",
       "10     True\n",
       "11     True\n",
       "dtype: bool"
      ]
     },
     "execution_count": 65,
     "metadata": {},
     "output_type": "execute_result"
    }
   ],
   "source": [
    "my_series.duplicated() "
   ]
  },
  {
   "cell_type": "code",
   "execution_count": 66,
   "metadata": {},
   "outputs": [
    {
     "data": {
      "text/plain": [
       "0    a\n",
       "1    b\n",
       "2    c\n",
       "3    d\n",
       "dtype: object"
      ]
     },
     "execution_count": 66,
     "metadata": {},
     "output_type": "execute_result"
    }
   ],
   "source": [
    "my_series.drop_duplicates()"
   ]
  },
  {
   "cell_type": "code",
   "execution_count": 67,
   "metadata": {},
   "outputs": [
    {
     "name": "stdout",
     "output_type": "stream",
     "text": [
      "x    47\n",
      "y    23\n",
      "z    28\n",
      "a    34\n",
      "b    33\n",
      "c    43\n",
      "dtype: int32\n"
     ]
    }
   ],
   "source": [
    "my_series =  pd.Series(np.random.randint(0, 50, 6), index=list('xyzabc'))\n",
    "print (my_series)"
   ]
  },
  {
   "cell_type": "code",
   "execution_count": 68,
   "metadata": {},
   "outputs": [
    {
     "name": "stdout",
     "output_type": "stream",
     "text": [
      "x\n"
     ]
    }
   ],
   "source": [
    "print (my_series.idxmax()) #index of largest value in the series"
   ]
  },
  {
   "cell_type": "code",
   "execution_count": 69,
   "metadata": {},
   "outputs": [
    {
     "name": "stdout",
     "output_type": "stream",
     "text": [
      "y\n"
     ]
    }
   ],
   "source": [
    "print (my_series.idxmin()) #index of the smallest value in the series"
   ]
  },
  {
   "cell_type": "code",
   "execution_count": 70,
   "metadata": {},
   "outputs": [
    {
     "name": "stdout",
     "output_type": "stream",
     "text": [
      "x    47\n",
      "c    43\n",
      "a    34\n",
      "dtype: int32\n"
     ]
    }
   ],
   "source": [
    "print (my_series.nlargest(3))"
   ]
  },
  {
   "cell_type": "code",
   "execution_count": 71,
   "metadata": {},
   "outputs": [
    {
     "name": "stdout",
     "output_type": "stream",
     "text": [
      "y    23\n",
      "z    28\n",
      "dtype: int32\n"
     ]
    }
   ],
   "source": [
    "print (my_series.nsmallest(2))"
   ]
  },
  {
   "cell_type": "code",
   "execution_count": 72,
   "metadata": {},
   "outputs": [
    {
     "data": {
      "text/plain": [
       "a    34\n",
       "b    33\n",
       "c    43\n",
       "x    47\n",
       "y    23\n",
       "z    28\n",
       "dtype: int32"
      ]
     },
     "execution_count": 72,
     "metadata": {},
     "output_type": "execute_result"
    }
   ],
   "source": [
    "# Sorting the data/ index in the series\n",
    "my_series.sort_index()"
   ]
  },
  {
   "cell_type": "code",
   "execution_count": 73,
   "metadata": {},
   "outputs": [
    {
     "data": {
      "text/plain": [
       "y    23\n",
       "z    28\n",
       "b    33\n",
       "a    34\n",
       "c    43\n",
       "x    47\n",
       "dtype: int32"
      ]
     },
     "execution_count": 73,
     "metadata": {},
     "output_type": "execute_result"
    }
   ],
   "source": [
    "# Sorting the data in the series\n",
    "my_series.sort_values()"
   ]
  },
  {
   "cell_type": "code",
   "execution_count": 80,
   "metadata": {},
   "outputs": [
    {
     "name": "stdout",
     "output_type": "stream",
     "text": [
      "0   -0.690495\n",
      "1    0.768085\n",
      "2    0.852640\n",
      "3    0.405734\n",
      "4    1.087223\n",
      "dtype: float64\n"
     ]
    }
   ],
   "source": [
    "# Mathematical stats\n",
    "my_series = pd.Series(np.random.randn(100))\n",
    "print (my_series.head())"
   ]
  },
  {
   "cell_type": "code",
   "execution_count": 81,
   "metadata": {},
   "outputs": [
    {
     "data": {
      "text/plain": [
       "-0.05843946482004778"
      ]
     },
     "execution_count": 81,
     "metadata": {},
     "output_type": "execute_result"
    }
   ],
   "source": [
    "my_series.mean()"
   ]
  },
  {
   "cell_type": "code",
   "execution_count": 82,
   "metadata": {},
   "outputs": [
    {
     "data": {
      "text/plain": [
       "1.0528916087388633"
      ]
     },
     "execution_count": 82,
     "metadata": {},
     "output_type": "execute_result"
    }
   ],
   "source": [
    "my_series.std()"
   ]
  },
  {
   "cell_type": "code",
   "execution_count": 83,
   "metadata": {},
   "outputs": [
    {
     "data": {
      "text/plain": [
       "100"
      ]
     },
     "execution_count": 83,
     "metadata": {},
     "output_type": "execute_result"
    }
   ],
   "source": [
    "my_series.count()"
   ]
  },
  {
   "cell_type": "code",
   "execution_count": 84,
   "metadata": {},
   "outputs": [
    {
     "data": {
      "text/plain": [
       "-5.843946482004778"
      ]
     },
     "execution_count": 84,
     "metadata": {},
     "output_type": "execute_result"
    }
   ],
   "source": [
    "my_series.sum()"
   ]
  },
  {
   "cell_type": "code",
   "execution_count": 88,
   "metadata": {},
   "outputs": [
    {
     "data": {
      "text/plain": [
       "0.10   -1.408396\n",
       "0.25   -0.810340\n",
       "0.50   -0.133752\n",
       "0.75    0.677285\n",
       "0.90    1.308398\n",
       "0.99    2.337957\n",
       "1.00    2.504231\n",
       "dtype: float64"
      ]
     },
     "execution_count": 88,
     "metadata": {},
     "output_type": "execute_result"
    }
   ],
   "source": [
    "my_series.quantile([0.10, 0.25,0.5,0.75,0.9,0.99,1])"
   ]
  },
  {
   "cell_type": "code",
   "execution_count": 86,
   "metadata": {},
   "outputs": [
    {
     "data": {
      "text/plain": [
       "76    2.504231\n",
       "63    2.336277\n",
       "30    2.151600\n",
       "51    2.139180\n",
       "10    1.818626\n",
       "dtype: float64"
      ]
     },
     "execution_count": 86,
     "metadata": {},
     "output_type": "execute_result"
    }
   ],
   "source": [
    "my_series.nlargest()"
   ]
  },
  {
   "cell_type": "code",
   "execution_count": 89,
   "metadata": {},
   "outputs": [
    {
     "data": {
      "text/plain": [
       "count    100.000000\n",
       "mean      -0.058439\n",
       "std        1.052892\n",
       "min       -2.816526\n",
       "25%       -0.810340\n",
       "50%       -0.133752\n",
       "75%        0.677285\n",
       "max        2.504231\n",
       "dtype: float64"
      ]
     },
     "execution_count": 89,
     "metadata": {},
     "output_type": "execute_result"
    }
   ],
   "source": [
    "my_series.describe()"
   ]
  },
  {
   "cell_type": "code",
   "execution_count": 91,
   "metadata": {},
   "outputs": [
    {
     "name": "stdout",
     "output_type": "stream",
     "text": [
      "0      0.658742\n",
      "1      2.352048\n",
      "2      0.418716\n",
      "3     -0.717198\n",
      "4      0.184733\n",
      "5     -0.175573\n",
      "6     -1.283064\n",
      "7     -0.904350\n",
      "8      0.319464\n",
      "9     -0.981835\n",
      "10    -0.253615\n",
      "11     0.748425\n",
      "12     0.430934\n",
      "13     1.145727\n",
      "14     0.534786\n",
      "15     1.083289\n",
      "16     1.597611\n",
      "17    -0.013498\n",
      "18     0.675615\n",
      "19    -1.051956\n",
      "20     0.324663\n",
      "21    -1.079374\n",
      "22    -0.390629\n",
      "23    -0.355962\n",
      "24    -2.484589\n",
      "25     0.874858\n",
      "26    -1.693141\n",
      "27    -2.064268\n",
      "28    -0.491035\n",
      "29     0.631183\n",
      "         ...   \n",
      "970   -0.556615\n",
      "971   -1.424172\n",
      "972    0.499777\n",
      "973    0.462707\n",
      "974    0.652560\n",
      "975   -1.309925\n",
      "976    0.361832\n",
      "977   -0.579253\n",
      "978   -0.631011\n",
      "979   -0.731892\n",
      "980   -0.870242\n",
      "981    0.412899\n",
      "982    0.447525\n",
      "983    0.365725\n",
      "984   -0.179239\n",
      "985    0.726575\n",
      "986   -1.071497\n",
      "987   -0.332585\n",
      "988   -0.364528\n",
      "989   -0.570820\n",
      "990    0.350402\n",
      "991    1.062569\n",
      "992    0.268639\n",
      "993   -0.954723\n",
      "994    0.378401\n",
      "995   -1.520779\n",
      "996   -1.173494\n",
      "997   -0.147597\n",
      "998   -0.253786\n",
      "999    0.294150\n",
      "Length: 1000, dtype: float64\n"
     ]
    },
    {
     "data": {
      "text/plain": [
       "<matplotlib.axes._subplots.AxesSubplot at 0x9de838e400>"
      ]
     },
     "execution_count": 91,
     "metadata": {},
     "output_type": "execute_result"
    }
   ],
   "source": [
    "my_series=pd.Series(np.random.randn(1000))\n",
    "print (my_series)\n",
    "my_series.plot.hist()"
   ]
  }
 ],
 "metadata": {
  "kernelspec": {
   "display_name": "Python 3",
   "language": "python",
   "name": "python3"
  },
  "language_info": {
   "codemirror_mode": {
    "name": "ipython",
    "version": 3
   },
   "file_extension": ".py",
   "mimetype": "text/x-python",
   "name": "python",
   "nbconvert_exporter": "python",
   "pygments_lexer": "ipython3",
   "version": "3.6.3"
  }
 },
 "nbformat": 4,
 "nbformat_minor": 2
}
