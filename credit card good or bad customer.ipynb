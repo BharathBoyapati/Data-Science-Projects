{
 "cells": [
  {
   "cell_type": "markdown",
   "metadata": {},
   "source": [
    "# Tookotaki assignment Problem"
   ]
  },
  {
   "cell_type": "code",
   "execution_count": 195,
   "metadata": {},
   "outputs": [],
   "source": [
    "#Import all the required libraries\n",
    "import numpy as np\n",
    "import pandas as pd\n",
    "import matplotlib.pyplot as plt\n",
    "import seaborn as sns\n",
    "from sklearn.cross_validation import train_test_split\n",
    "from sklearn import metrics\n",
    "import datetime\n",
    "%matplotlib inline"
   ]
  },
  {
   "cell_type": "code",
   "execution_count": 2,
   "metadata": {},
   "outputs": [
    {
     "name": "stderr",
     "output_type": "stream",
     "text": [
      "C:\\ProgramData\\Anaconda3\\lib\\site-packages\\IPython\\core\\interactiveshell.py:2698: DtypeWarning: Columns (12,20,63) have mixed types. Specify dtype option on import or set low_memory=False.\n",
      "  interactivity=interactivity, compiler=compiler, result=result)\n"
     ]
    }
   ],
   "source": [
    "#Load the raw_data train and test\n",
    "raw_data_train = pd.read_csv(\"C:\\\\Users\\\\bhara\\\\Desktop\\\\tookitaki\\\\test data\\\\test data\\\\raw_data_70_new.csv\")\n",
    "raw_data_test = pd.read_csv(\"C:\\\\Users\\\\bhara\\\\Desktop\\\\tookitaki\\\\test data\\\\test data\\\\raw_data_30_new.csv\")"
   ]
  },
  {
   "cell_type": "code",
   "execution_count": 3,
   "metadata": {},
   "outputs": [
    {
     "data": {
      "text/html": [
       "<div>\n",
       "<style>\n",
       "    .dataframe thead tr:only-child th {\n",
       "        text-align: right;\n",
       "    }\n",
       "\n",
       "    .dataframe thead th {\n",
       "        text-align: left;\n",
       "    }\n",
       "\n",
       "    .dataframe tbody tr th {\n",
       "        vertical-align: top;\n",
       "    }\n",
       "</style>\n",
       "<table border=\"1\" class=\"dataframe\">\n",
       "  <thead>\n",
       "    <tr style=\"text-align: right;\">\n",
       "      <th></th>\n",
       "      <th>dt_opened</th>\n",
       "      <th>customer_no</th>\n",
       "      <th>entry_time</th>\n",
       "      <th>feature_1</th>\n",
       "      <th>feature_2</th>\n",
       "      <th>feature_3</th>\n",
       "      <th>feature_4</th>\n",
       "      <th>feature_5</th>\n",
       "      <th>feature_6</th>\n",
       "      <th>feature_7</th>\n",
       "      <th>...</th>\n",
       "      <th>feature_71</th>\n",
       "      <th>feature_72</th>\n",
       "      <th>feature_73</th>\n",
       "      <th>feature_74</th>\n",
       "      <th>feature_75</th>\n",
       "      <th>feature_76</th>\n",
       "      <th>feature_77</th>\n",
       "      <th>feature_78</th>\n",
       "      <th>feature_79</th>\n",
       "      <th>Bad_label</th>\n",
       "    </tr>\n",
       "  </thead>\n",
       "  <tbody>\n",
       "    <tr>\n",
       "      <th>0</th>\n",
       "      <td>18-Apr-15</td>\n",
       "      <td>1</td>\n",
       "      <td>13-Apr-15</td>\n",
       "      <td>Insignia</td>\n",
       "      <td>13-Apr-15</td>\n",
       "      <td>650.0</td>\n",
       "      <td>2.0</td>\n",
       "      <td>Card Setup</td>\n",
       "      <td>14.0</td>\n",
       "      <td>500000.0</td>\n",
       "      <td>...</td>\n",
       "      <td>21.0</td>\n",
       "      <td>R</td>\n",
       "      <td>NaN</td>\n",
       "      <td>NaN</td>\n",
       "      <td>0000-00-00</td>\n",
       "      <td>0.0</td>\n",
       "      <td>98332XXXXX</td>\n",
       "      <td>1.0</td>\n",
       "      <td>N</td>\n",
       "      <td>0</td>\n",
       "    </tr>\n",
       "    <tr>\n",
       "      <th>1</th>\n",
       "      <td>21-Apr-15</td>\n",
       "      <td>2</td>\n",
       "      <td>21-Apr-15</td>\n",
       "      <td>Insignia</td>\n",
       "      <td>21-Apr-15</td>\n",
       "      <td>760.0</td>\n",
       "      <td>1.0</td>\n",
       "      <td>Card Setup</td>\n",
       "      <td>14.0</td>\n",
       "      <td>1200000.0</td>\n",
       "      <td>...</td>\n",
       "      <td>17.0</td>\n",
       "      <td>R</td>\n",
       "      <td>NaN</td>\n",
       "      <td>NaN</td>\n",
       "      <td>0000-00-00</td>\n",
       "      <td>0.0</td>\n",
       "      <td>99455XXXXX</td>\n",
       "      <td>1.0</td>\n",
       "      <td>N</td>\n",
       "      <td>0</td>\n",
       "    </tr>\n",
       "  </tbody>\n",
       "</table>\n",
       "<p>2 rows × 83 columns</p>\n",
       "</div>"
      ],
      "text/plain": [
       "   dt_opened  customer_no entry_time feature_1  feature_2  feature_3  \\\n",
       "0  18-Apr-15            1  13-Apr-15  Insignia  13-Apr-15      650.0   \n",
       "1  21-Apr-15            2  21-Apr-15  Insignia  21-Apr-15      760.0   \n",
       "\n",
       "   feature_4   feature_5  feature_6  feature_7    ...    feature_71  \\\n",
       "0        2.0  Card Setup       14.0   500000.0    ...          21.0   \n",
       "1        1.0  Card Setup       14.0  1200000.0    ...          17.0   \n",
       "\n",
       "  feature_72 feature_73 feature_74  feature_75 feature_76  feature_77  \\\n",
       "0          R        NaN        NaN  0000-00-00        0.0  98332XXXXX   \n",
       "1          R        NaN        NaN  0000-00-00        0.0  99455XXXXX   \n",
       "\n",
       "  feature_78 feature_79 Bad_label  \n",
       "0        1.0          N         0  \n",
       "1        1.0          N         0  \n",
       "\n",
       "[2 rows x 83 columns]"
      ]
     },
     "execution_count": 3,
     "metadata": {},
     "output_type": "execute_result"
    }
   ],
   "source": [
    "raw_data_train.head(2)"
   ]
  },
  {
   "cell_type": "code",
   "execution_count": 4,
   "metadata": {},
   "outputs": [
    {
     "name": "stdout",
     "output_type": "stream",
     "text": [
      "<class 'pandas.core.frame.DataFrame'>\n",
      "RangeIndex: 23896 entries, 0 to 23895\n",
      "Data columns (total 83 columns):\n",
      "dt_opened      23896 non-null object\n",
      "customer_no    23896 non-null int64\n",
      "entry_time     23881 non-null object\n",
      "feature_1      23881 non-null object\n",
      "feature_2      21060 non-null object\n",
      "feature_3      21060 non-null float64\n",
      "feature_4      23881 non-null float64\n",
      "feature_5      23881 non-null object\n",
      "feature_6      23881 non-null float64\n",
      "feature_7      23881 non-null float64\n",
      "feature_8      1261 non-null object\n",
      "feature_9      1261 non-null object\n",
      "feature_10     51 non-null object\n",
      "feature_11     23881 non-null object\n",
      "feature_12     23881 non-null object\n",
      "feature_13     10892 non-null object\n",
      "feature_14     16163 non-null float64\n",
      "feature_15     23873 non-null object\n",
      "feature_16     23869 non-null object\n",
      "feature_17     1027 non-null object\n",
      "feature_18     18 non-null object\n",
      "feature_19     23881 non-null float64\n",
      "feature_20     23896 non-null object\n",
      "feature_21     23881 non-null object\n",
      "feature_22     23896 non-null object\n",
      "feature_23     23881 non-null object\n",
      "feature_24     23256 non-null object\n",
      "feature_25     23881 non-null float64\n",
      "feature_26     23881 non-null float64\n",
      "feature_27     20259 non-null object\n",
      "feature_28     23881 non-null object\n",
      "feature_29     23881 non-null float64\n",
      "feature_30     23881 non-null float64\n",
      "feature_31     23881 non-null float64\n",
      "feature_32     23881 non-null object\n",
      "feature_33     23881 non-null object\n",
      "feature_34     23881 non-null float64\n",
      "feature_35     23881 non-null float64\n",
      "feature_36     18214 non-null object\n",
      "feature_37     18214 non-null object\n",
      "feature_38     18214 non-null object\n",
      "feature_39     23881 non-null float64\n",
      "feature_40     23881 non-null float64\n",
      "feature_41     23881 non-null float64\n",
      "feature_42     23881 non-null float64\n",
      "feature_43     23881 non-null object\n",
      "feature_44     23881 non-null float64\n",
      "feature_45     10183 non-null object\n",
      "feature_46     23802 non-null object\n",
      "feature_47     23896 non-null object\n",
      "feature_48     5497 non-null object\n",
      "feature_49     104 non-null float64\n",
      "feature_50     23881 non-null object\n",
      "feature_51     12474 non-null object\n",
      "feature_52     23881 non-null float64\n",
      "feature_53     12286 non-null object\n",
      "feature_54     23881 non-null object\n",
      "feature_55     23881 non-null float64\n",
      "feature_56     23881 non-null float64\n",
      "feature_57     2393 non-null object\n",
      "feature_58     23881 non-null object\n",
      "feature_59     23881 non-null object\n",
      "feature_60     23881 non-null object\n",
      "feature_61     9 non-null object\n",
      "feature_62     23881 non-null object\n",
      "feature_63     23881 non-null object\n",
      "feature_64     23881 non-null float64\n",
      "feature_65     23881 non-null float64\n",
      "feature_66     23881 non-null float64\n",
      "feature_67     23881 non-null float64\n",
      "feature_68     23881 non-null float64\n",
      "feature_69     23881 non-null float64\n",
      "feature_70     23881 non-null object\n",
      "feature_71     23881 non-null float64\n",
      "feature_72     23881 non-null object\n",
      "feature_73     2945 non-null object\n",
      "feature_74     17 non-null float64\n",
      "feature_75     23881 non-null object\n",
      "feature_76     23881 non-null float64\n",
      "feature_77     23896 non-null object\n",
      "feature_78     23881 non-null float64\n",
      "feature_79     23881 non-null object\n",
      "Bad_label      23896 non-null int64\n",
      "dtypes: float64(32), int64(2), object(49)\n",
      "memory usage: 15.1+ MB\n"
     ]
    }
   ],
   "source": [
    "# .info() gives us the following information.\n",
    "#number of samples(rows), number of attributes(columns).\n",
    "#The data type of each attribute.\n",
    "raw_data_train.info()"
   ]
  },
  {
   "cell_type": "markdown",
   "metadata": {},
   "source": [
    "\n",
    "\n",
    "\n",
    "\n",
    "        The above info tells us the size of the data   23896 X 83"
   ]
  },
  {
   "cell_type": "markdown",
   "metadata": {},
   "source": [
    "# Target Variable"
   ]
  },
  {
   "cell_type": "code",
   "execution_count": 5,
   "metadata": {},
   "outputs": [
    {
     "data": {
      "text/plain": [
       "<matplotlib.axes._subplots.AxesSubplot at 0x21a423a0ba8>"
      ]
     },
     "execution_count": 5,
     "metadata": {},
     "output_type": "execute_result"
    },
    {
     "data": {
      "image/png": "[encoded data removed]",
      "text/plain": [
       "<matplotlib.figure.Figure at 0x21a423a0588>"
      ]
     },
     "metadata": {},
     "output_type": "display_data"
    }
   ],
   "source": [
    "#The target variable in raw_data is \"Bad_label\" .Lets plot a count plot for our target variable.\n",
    "plt.subplots(figsize=(10,4))\n",
    "sns.countplot(raw_data_train.Bad_label)"
   ]
  },
  {
   "cell_type": "markdown",
   "metadata": {},
   "source": [
    "                 Target variable is a two class problem.\n",
    "                 --> 0 represents the good credit history of the customer.\n",
    "                 --> 1 represents the bad credit history of the customer."
   ]
  },
  {
   "cell_type": "markdown",
   "metadata": {},
   "source": [
    "# Missing values imputation"
   ]
  },
  {
   "cell_type": "code",
   "execution_count": 6,
   "metadata": {},
   "outputs": [
    {
     "data": {
      "text/plain": [
       "feature_61     23887\n",
       "feature_74     23879\n",
       "feature_18     23878\n",
       "feature_10     23845\n",
       "feature_49     23792\n",
       "feature_17     22869\n",
       "feature_8      22635\n",
       "feature_9      22635\n",
       "feature_57     21503\n",
       "feature_73     20951\n",
       "feature_48     18399\n",
       "feature_45     13713\n",
       "feature_13     13004\n",
       "feature_53     11610\n",
       "feature_51     11422\n",
       "feature_14      7733\n",
       "feature_38      5682\n",
       "feature_37      5682\n",
       "feature_36      5682\n",
       "feature_27      3637\n",
       "feature_3       2836\n",
       "feature_2       2836\n",
       "feature_24       640\n",
       "feature_46        94\n",
       "feature_16        27\n",
       "feature_15        23\n",
       "feature_30        15\n",
       "feature_29        15\n",
       "feature_31        15\n",
       "feature_32        15\n",
       "               ...  \n",
       "feature_70        15\n",
       "feature_69        15\n",
       "feature_68        15\n",
       "feature_67        15\n",
       "feature_66        15\n",
       "feature_65        15\n",
       "feature_64        15\n",
       "feature_63        15\n",
       "feature_62        15\n",
       "feature_60        15\n",
       "feature_59        15\n",
       "feature_58        15\n",
       "feature_56        15\n",
       "feature_55        15\n",
       "feature_54        15\n",
       "feature_52        15\n",
       "feature_50        15\n",
       "entry_time        15\n",
       "feature_44        15\n",
       "feature_43        15\n",
       "feature_41        15\n",
       "feature_40        15\n",
       "feature_4         15\n",
       "customer_no        0\n",
       "Bad_label          0\n",
       "feature_20         0\n",
       "feature_22         0\n",
       "feature_47         0\n",
       "feature_77         0\n",
       "dt_opened          0\n",
       "Length: 83, dtype: int64"
      ]
     },
     "execution_count": 6,
     "metadata": {},
     "output_type": "execute_result"
    }
   ],
   "source": [
    "#First lets check null values..\n",
    "raw_data_train.isnull().sum().sort_values(ascending =False)"
   ]
  },
  {
   "cell_type": "markdown",
   "metadata": {},
   "source": [
    "      ufff.. There are soo many null values. why god..!?\n",
    "               First lets separate numaric and categorical for our better understanding.So lets dive in..."
   ]
  },
  {
   "cell_type": "code",
   "execution_count": 7,
   "metadata": {
    "collapsed": true
   },
   "outputs": [],
   "source": [
    "#Feature_74 and Feature_49 are having more than 95% of null values so we will remove them.\n",
    "#and others too\n",
    "#customer no gives no info so drope it off..\n",
    "rdt = raw_data_train.drop([\"customer_no\",\"feature_61\", \"feature_74\", \"feature_18\", \"feature_10\", \"feature_49\", \"feature_17\", \"feature_8\", \"feature_9\", \"feature_57\", \"feature_73\", \"feature_48\", \"feature_45\", \"feature_13\", \"feature_53\", \"feature_51\"],axis =1)"
   ]
  },
  {
   "cell_type": "code",
   "execution_count": 8,
   "metadata": {
    "collapsed": true
   },
   "outputs": [],
   "source": [
    "rdt_num = rdt._get_numeric_data()\n",
    "rdt_cat = rdt.drop(rdt_num.columns,axis = 1)"
   ]
  },
  {
   "cell_type": "code",
   "execution_count": 9,
   "metadata": {},
   "outputs": [
    {
     "data": {
      "text/plain": [
       "feature_14    7733\n",
       "feature_3     2836\n",
       "feature_40      15\n",
       "feature_4       15\n",
       "feature_6       15\n",
       "feature_7       15\n",
       "feature_19      15\n",
       "feature_25      15\n",
       "feature_26      15\n",
       "feature_29      15\n",
       "feature_30      15\n",
       "feature_31      15\n",
       "feature_34      15\n",
       "feature_35      15\n",
       "feature_39      15\n",
       "feature_41      15\n",
       "feature_78      15\n",
       "feature_42      15\n",
       "feature_44      15\n",
       "feature_52      15\n",
       "feature_55      15\n",
       "feature_56      15\n",
       "feature_64      15\n",
       "feature_65      15\n",
       "feature_66      15\n",
       "feature_67      15\n",
       "feature_68      15\n",
       "feature_69      15\n",
       "feature_71      15\n",
       "feature_76      15\n",
       "Bad_label        0\n",
       "dtype: int64"
      ]
     },
     "execution_count": 9,
     "metadata": {},
     "output_type": "execute_result"
    }
   ],
   "source": [
    "rdt_num.isnull().sum().sort_values(ascending= False)"
   ]
  },
  {
   "cell_type": "markdown",
   "metadata": {},
   "source": [
    "Before filling null values lets remove outliers"
   ]
  },
  {
   "cell_type": "markdown",
   "metadata": {},
   "source": [
    "\n",
    "# Outliers detection"
   ]
  },
  {
   "cell_type": "markdown",
   "metadata": {},
   "source": [
    "Outliers can be removed in two ways one with user defined quantiles functions and other with boxplot."
   ]
  },
  {
   "cell_type": "code",
   "execution_count": 10,
   "metadata": {},
   "outputs": [
    {
     "data": {
      "text/html": [
       "<div>\n",
       "<style>\n",
       "    .dataframe thead tr:only-child th {\n",
       "        text-align: right;\n",
       "    }\n",
       "\n",
       "    .dataframe thead th {\n",
       "        text-align: left;\n",
       "    }\n",
       "\n",
       "    .dataframe tbody tr th {\n",
       "        vertical-align: top;\n",
       "    }\n",
       "</style>\n",
       "<table border=\"1\" class=\"dataframe\">\n",
       "  <thead>\n",
       "    <tr style=\"text-align: right;\">\n",
       "      <th></th>\n",
       "      <th>N</th>\n",
       "      <th>NMISS</th>\n",
       "      <th>SUM</th>\n",
       "      <th>MEAN</th>\n",
       "      <th>MEDIAN</th>\n",
       "      <th>STD</th>\n",
       "      <th>VAR</th>\n",
       "      <th>MIN</th>\n",
       "      <th>P1</th>\n",
       "      <th>P5</th>\n",
       "      <th>P10</th>\n",
       "      <th>P25</th>\n",
       "      <th>P50</th>\n",
       "      <th>P75</th>\n",
       "      <th>P90</th>\n",
       "      <th>P95</th>\n",
       "      <th>P99</th>\n",
       "      <th>MAX</th>\n",
       "    </tr>\n",
       "  </thead>\n",
       "  <tbody>\n",
       "    <tr>\n",
       "      <th>feature_3</th>\n",
       "      <td>21060.0</td>\n",
       "      <td>2836.0</td>\n",
       "      <td>1.523135e+07</td>\n",
       "      <td>723.235945</td>\n",
       "      <td>721.0</td>\n",
       "      <td>37.318684</td>\n",
       "      <td>1.392684e+03</td>\n",
       "      <td>-1.0</td>\n",
       "      <td>654.0</td>\n",
       "      <td>676.0</td>\n",
       "      <td>682.0</td>\n",
       "      <td>698.0</td>\n",
       "      <td>721.0</td>\n",
       "      <td>745.0</td>\n",
       "      <td>769.0</td>\n",
       "      <td>784.0</td>\n",
       "      <td>824.0</td>\n",
       "      <td>896.0</td>\n",
       "    </tr>\n",
       "    <tr>\n",
       "      <th>feature_4</th>\n",
       "      <td>23881.0</td>\n",
       "      <td>15.0</td>\n",
       "      <td>5.544200e+04</td>\n",
       "      <td>2.321595</td>\n",
       "      <td>3.0</td>\n",
       "      <td>0.892838</td>\n",
       "      <td>7.971589e-01</td>\n",
       "      <td>1.0</td>\n",
       "      <td>1.0</td>\n",
       "      <td>1.0</td>\n",
       "      <td>1.0</td>\n",
       "      <td>1.0</td>\n",
       "      <td>3.0</td>\n",
       "      <td>3.0</td>\n",
       "      <td>3.0</td>\n",
       "      <td>3.0</td>\n",
       "      <td>3.0</td>\n",
       "      <td>3.0</td>\n",
       "    </tr>\n",
       "    <tr>\n",
       "      <th>feature_6</th>\n",
       "      <td>23881.0</td>\n",
       "      <td>15.0</td>\n",
       "      <td>3.343340e+05</td>\n",
       "      <td>14.000000</td>\n",
       "      <td>14.0</td>\n",
       "      <td>0.000000</td>\n",
       "      <td>0.000000e+00</td>\n",
       "      <td>14.0</td>\n",
       "      <td>14.0</td>\n",
       "      <td>14.0</td>\n",
       "      <td>14.0</td>\n",
       "      <td>14.0</td>\n",
       "      <td>14.0</td>\n",
       "      <td>14.0</td>\n",
       "      <td>14.0</td>\n",
       "      <td>14.0</td>\n",
       "      <td>14.0</td>\n",
       "      <td>14.0</td>\n",
       "    </tr>\n",
       "    <tr>\n",
       "      <th>feature_7</th>\n",
       "      <td>23881.0</td>\n",
       "      <td>15.0</td>\n",
       "      <td>2.843523e+09</td>\n",
       "      <td>119070.503748</td>\n",
       "      <td>104000.0</td>\n",
       "      <td>77523.485085</td>\n",
       "      <td>6.009891e+09</td>\n",
       "      <td>0.0</td>\n",
       "      <td>30000.0</td>\n",
       "      <td>35000.0</td>\n",
       "      <td>50000.0</td>\n",
       "      <td>72000.0</td>\n",
       "      <td>104000.0</td>\n",
       "      <td>139000.0</td>\n",
       "      <td>192000.0</td>\n",
       "      <td>260000.0</td>\n",
       "      <td>442000.0</td>\n",
       "      <td>1217000.0</td>\n",
       "    </tr>\n",
       "    <tr>\n",
       "      <th>feature_14</th>\n",
       "      <td>16163.0</td>\n",
       "      <td>7733.0</td>\n",
       "      <td>1.307040e+05</td>\n",
       "      <td>8.086618</td>\n",
       "      <td>12.0</td>\n",
       "      <td>5.625654</td>\n",
       "      <td>3.164799e+01</td>\n",
       "      <td>0.0</td>\n",
       "      <td>0.0</td>\n",
       "      <td>0.0</td>\n",
       "      <td>0.0</td>\n",
       "      <td>0.0</td>\n",
       "      <td>12.0</td>\n",
       "      <td>12.0</td>\n",
       "      <td>12.0</td>\n",
       "      <td>12.0</td>\n",
       "      <td>12.0</td>\n",
       "      <td>12.0</td>\n",
       "    </tr>\n",
       "    <tr>\n",
       "      <th>feature_19</th>\n",
       "      <td>23881.0</td>\n",
       "      <td>15.0</td>\n",
       "      <td>2.506100e+04</td>\n",
       "      <td>1.049412</td>\n",
       "      <td>1.0</td>\n",
       "      <td>0.216731</td>\n",
       "      <td>4.697212e-02</td>\n",
       "      <td>1.0</td>\n",
       "      <td>1.0</td>\n",
       "      <td>1.0</td>\n",
       "      <td>1.0</td>\n",
       "      <td>1.0</td>\n",
       "      <td>1.0</td>\n",
       "      <td>1.0</td>\n",
       "      <td>1.0</td>\n",
       "      <td>1.0</td>\n",
       "      <td>2.0</td>\n",
       "      <td>2.0</td>\n",
       "    </tr>\n",
       "    <tr>\n",
       "      <th>feature_25</th>\n",
       "      <td>23881.0</td>\n",
       "      <td>15.0</td>\n",
       "      <td>2.946700e+04</td>\n",
       "      <td>1.233910</td>\n",
       "      <td>1.0</td>\n",
       "      <td>0.423324</td>\n",
       "      <td>1.792035e-01</td>\n",
       "      <td>1.0</td>\n",
       "      <td>1.0</td>\n",
       "      <td>1.0</td>\n",
       "      <td>1.0</td>\n",
       "      <td>1.0</td>\n",
       "      <td>1.0</td>\n",
       "      <td>1.0</td>\n",
       "      <td>2.0</td>\n",
       "      <td>2.0</td>\n",
       "      <td>2.0</td>\n",
       "      <td>2.0</td>\n",
       "    </tr>\n",
       "    <tr>\n",
       "      <th>feature_26</th>\n",
       "      <td>23881.0</td>\n",
       "      <td>15.0</td>\n",
       "      <td>1.732900e+04</td>\n",
       "      <td>0.725640</td>\n",
       "      <td>0.0</td>\n",
       "      <td>1.124986</td>\n",
       "      <td>1.265594e+00</td>\n",
       "      <td>0.0</td>\n",
       "      <td>0.0</td>\n",
       "      <td>0.0</td>\n",
       "      <td>0.0</td>\n",
       "      <td>0.0</td>\n",
       "      <td>0.0</td>\n",
       "      <td>2.0</td>\n",
       "      <td>2.0</td>\n",
       "      <td>3.0</td>\n",
       "      <td>4.0</td>\n",
       "      <td>10.0</td>\n",
       "    </tr>\n",
       "    <tr>\n",
       "      <th>feature_29</th>\n",
       "      <td>23881.0</td>\n",
       "      <td>15.0</td>\n",
       "      <td>5.196989e+09</td>\n",
       "      <td>217620.229346</td>\n",
       "      <td>110094.0</td>\n",
       "      <td>159267.102213</td>\n",
       "      <td>2.536601e+10</td>\n",
       "      <td>110001.0</td>\n",
       "      <td>110005.0</td>\n",
       "      <td>110015.0</td>\n",
       "      <td>110025.0</td>\n",
       "      <td>110051.0</td>\n",
       "      <td>110094.0</td>\n",
       "      <td>390002.0</td>\n",
       "      <td>500044.0</td>\n",
       "      <td>500090.0</td>\n",
       "      <td>600082.0</td>\n",
       "      <td>712245.0</td>\n",
       "    </tr>\n",
       "    <tr>\n",
       "      <th>feature_30</th>\n",
       "      <td>23881.0</td>\n",
       "      <td>15.0</td>\n",
       "      <td>4.779028e+07</td>\n",
       "      <td>2001.183996</td>\n",
       "      <td>2005.0</td>\n",
       "      <td>11.993426</td>\n",
       "      <td>1.438423e+02</td>\n",
       "      <td>1964.0</td>\n",
       "      <td>1968.8</td>\n",
       "      <td>1979.0</td>\n",
       "      <td>1983.0</td>\n",
       "      <td>1991.0</td>\n",
       "      <td>2005.0</td>\n",
       "      <td>2011.0</td>\n",
       "      <td>2013.0</td>\n",
       "      <td>2014.0</td>\n",
       "      <td>2015.0</td>\n",
       "      <td>2015.0</td>\n",
       "    </tr>\n",
       "    <tr>\n",
       "      <th>feature_31</th>\n",
       "      <td>23881.0</td>\n",
       "      <td>15.0</td>\n",
       "      <td>1.557800e+04</td>\n",
       "      <td>0.652318</td>\n",
       "      <td>0.0</td>\n",
       "      <td>2.343709</td>\n",
       "      <td>5.492973e+00</td>\n",
       "      <td>0.0</td>\n",
       "      <td>0.0</td>\n",
       "      <td>0.0</td>\n",
       "      <td>0.0</td>\n",
       "      <td>0.0</td>\n",
       "      <td>0.0</td>\n",
       "      <td>0.0</td>\n",
       "      <td>1.0</td>\n",
       "      <td>6.0</td>\n",
       "      <td>12.0</td>\n",
       "      <td>12.0</td>\n",
       "    </tr>\n",
       "    <tr>\n",
       "      <th>feature_34</th>\n",
       "      <td>23881.0</td>\n",
       "      <td>15.0</td>\n",
       "      <td>2.958500e+04</td>\n",
       "      <td>1.238851</td>\n",
       "      <td>1.0</td>\n",
       "      <td>0.430009</td>\n",
       "      <td>1.849076e-01</td>\n",
       "      <td>1.0</td>\n",
       "      <td>1.0</td>\n",
       "      <td>1.0</td>\n",
       "      <td>1.0</td>\n",
       "      <td>1.0</td>\n",
       "      <td>1.0</td>\n",
       "      <td>1.0</td>\n",
       "      <td>2.0</td>\n",
       "      <td>2.0</td>\n",
       "      <td>2.0</td>\n",
       "      <td>3.0</td>\n",
       "    </tr>\n",
       "    <tr>\n",
       "      <th>feature_35</th>\n",
       "      <td>23881.0</td>\n",
       "      <td>15.0</td>\n",
       "      <td>7.830420e+08</td>\n",
       "      <td>32789.331603</td>\n",
       "      <td>30000.0</td>\n",
       "      <td>108786.028313</td>\n",
       "      <td>1.183440e+10</td>\n",
       "      <td>1.0</td>\n",
       "      <td>1.0</td>\n",
       "      <td>1.0</td>\n",
       "      <td>1.0</td>\n",
       "      <td>1.0</td>\n",
       "      <td>30000.0</td>\n",
       "      <td>43000.0</td>\n",
       "      <td>60000.0</td>\n",
       "      <td>81762.0</td>\n",
       "      <td>168470.0</td>\n",
       "      <td>15000000.0</td>\n",
       "    </tr>\n",
       "    <tr>\n",
       "      <th>feature_39</th>\n",
       "      <td>23881.0</td>\n",
       "      <td>15.0</td>\n",
       "      <td>3.661599e+07</td>\n",
       "      <td>1533.268707</td>\n",
       "      <td>2010.0</td>\n",
       "      <td>855.273257</td>\n",
       "      <td>7.314923e+05</td>\n",
       "      <td>0.0</td>\n",
       "      <td>0.0</td>\n",
       "      <td>0.0</td>\n",
       "      <td>0.0</td>\n",
       "      <td>1999.0</td>\n",
       "      <td>2010.0</td>\n",
       "      <td>2013.0</td>\n",
       "      <td>2014.0</td>\n",
       "      <td>2015.0</td>\n",
       "      <td>2015.0</td>\n",
       "      <td>2015.0</td>\n",
       "    </tr>\n",
       "    <tr>\n",
       "      <th>feature_40</th>\n",
       "      <td>23881.0</td>\n",
       "      <td>15.0</td>\n",
       "      <td>7.996200e+04</td>\n",
       "      <td>3.348352</td>\n",
       "      <td>2.0</td>\n",
       "      <td>3.587043</td>\n",
       "      <td>1.286688e+01</td>\n",
       "      <td>0.0</td>\n",
       "      <td>0.0</td>\n",
       "      <td>0.0</td>\n",
       "      <td>0.0</td>\n",
       "      <td>0.0</td>\n",
       "      <td>2.0</td>\n",
       "      <td>6.0</td>\n",
       "      <td>9.0</td>\n",
       "      <td>11.0</td>\n",
       "      <td>12.0</td>\n",
       "      <td>12.0</td>\n",
       "    </tr>\n",
       "    <tr>\n",
       "      <th>feature_41</th>\n",
       "      <td>23881.0</td>\n",
       "      <td>15.0</td>\n",
       "      <td>1.361840e+05</td>\n",
       "      <td>5.702609</td>\n",
       "      <td>6.0</td>\n",
       "      <td>4.159316</td>\n",
       "      <td>1.729991e+01</td>\n",
       "      <td>0.0</td>\n",
       "      <td>0.0</td>\n",
       "      <td>0.0</td>\n",
       "      <td>0.0</td>\n",
       "      <td>1.0</td>\n",
       "      <td>6.0</td>\n",
       "      <td>10.0</td>\n",
       "      <td>11.0</td>\n",
       "      <td>11.0</td>\n",
       "      <td>11.0</td>\n",
       "      <td>11.0</td>\n",
       "    </tr>\n",
       "    <tr>\n",
       "      <th>feature_42</th>\n",
       "      <td>23881.0</td>\n",
       "      <td>15.0</td>\n",
       "      <td>3.681000e+03</td>\n",
       "      <td>0.154139</td>\n",
       "      <td>0.0</td>\n",
       "      <td>0.930806</td>\n",
       "      <td>8.663992e-01</td>\n",
       "      <td>0.0</td>\n",
       "      <td>0.0</td>\n",
       "      <td>0.0</td>\n",
       "      <td>0.0</td>\n",
       "      <td>0.0</td>\n",
       "      <td>0.0</td>\n",
       "      <td>0.0</td>\n",
       "      <td>0.0</td>\n",
       "      <td>0.0</td>\n",
       "      <td>6.0</td>\n",
       "      <td>11.0</td>\n",
       "    </tr>\n",
       "    <tr>\n",
       "      <th>feature_44</th>\n",
       "      <td>23881.0</td>\n",
       "      <td>15.0</td>\n",
       "      <td>5.307582e+09</td>\n",
       "      <td>222251.238474</td>\n",
       "      <td>122001.0</td>\n",
       "      <td>156846.154943</td>\n",
       "      <td>2.460072e+10</td>\n",
       "      <td>0.0</td>\n",
       "      <td>110001.0</td>\n",
       "      <td>110006.0</td>\n",
       "      <td>110017.0</td>\n",
       "      <td>110044.0</td>\n",
       "      <td>122001.0</td>\n",
       "      <td>390002.0</td>\n",
       "      <td>500034.0</td>\n",
       "      <td>500084.0</td>\n",
       "      <td>600073.0</td>\n",
       "      <td>712201.0</td>\n",
       "    </tr>\n",
       "    <tr>\n",
       "      <th>feature_52</th>\n",
       "      <td>23881.0</td>\n",
       "      <td>15.0</td>\n",
       "      <td>1.552283e+09</td>\n",
       "      <td>65000.733679</td>\n",
       "      <td>50000.0</td>\n",
       "      <td>100822.463405</td>\n",
       "      <td>1.016517e+10</td>\n",
       "      <td>0.0</td>\n",
       "      <td>0.0</td>\n",
       "      <td>0.0</td>\n",
       "      <td>0.0</td>\n",
       "      <td>0.0</td>\n",
       "      <td>50000.0</td>\n",
       "      <td>100000.0</td>\n",
       "      <td>160000.0</td>\n",
       "      <td>243000.0</td>\n",
       "      <td>500000.0</td>\n",
       "      <td>3777000.0</td>\n",
       "    </tr>\n",
       "    <tr>\n",
       "      <th>feature_55</th>\n",
       "      <td>23881.0</td>\n",
       "      <td>15.0</td>\n",
       "      <td>2.592800e+04</td>\n",
       "      <td>1.085717</td>\n",
       "      <td>1.0</td>\n",
       "      <td>0.388569</td>\n",
       "      <td>1.509857e-01</td>\n",
       "      <td>1.0</td>\n",
       "      <td>1.0</td>\n",
       "      <td>1.0</td>\n",
       "      <td>1.0</td>\n",
       "      <td>1.0</td>\n",
       "      <td>1.0</td>\n",
       "      <td>1.0</td>\n",
       "      <td>1.0</td>\n",
       "      <td>1.0</td>\n",
       "      <td>3.0</td>\n",
       "      <td>4.0</td>\n",
       "    </tr>\n",
       "    <tr>\n",
       "      <th>feature_56</th>\n",
       "      <td>23881.0</td>\n",
       "      <td>15.0</td>\n",
       "      <td>3.185120e+05</td>\n",
       "      <td>13.337465</td>\n",
       "      <td>10.0</td>\n",
       "      <td>8.285993</td>\n",
       "      <td>6.865768e+01</td>\n",
       "      <td>2.0</td>\n",
       "      <td>2.0</td>\n",
       "      <td>2.0</td>\n",
       "      <td>2.0</td>\n",
       "      <td>10.0</td>\n",
       "      <td>10.0</td>\n",
       "      <td>13.0</td>\n",
       "      <td>31.0</td>\n",
       "      <td>33.0</td>\n",
       "      <td>33.0</td>\n",
       "      <td>35.0</td>\n",
       "    </tr>\n",
       "    <tr>\n",
       "      <th>feature_64</th>\n",
       "      <td>23881.0</td>\n",
       "      <td>15.0</td>\n",
       "      <td>3.483630e+05</td>\n",
       "      <td>14.587454</td>\n",
       "      <td>10.0</td>\n",
       "      <td>9.518517</td>\n",
       "      <td>9.060216e+01</td>\n",
       "      <td>2.0</td>\n",
       "      <td>2.0</td>\n",
       "      <td>2.0</td>\n",
       "      <td>2.0</td>\n",
       "      <td>10.0</td>\n",
       "      <td>10.0</td>\n",
       "      <td>21.0</td>\n",
       "      <td>33.0</td>\n",
       "      <td>33.0</td>\n",
       "      <td>34.0</td>\n",
       "      <td>35.0</td>\n",
       "    </tr>\n",
       "    <tr>\n",
       "      <th>feature_65</th>\n",
       "      <td>23881.0</td>\n",
       "      <td>15.0</td>\n",
       "      <td>3.763878e+06</td>\n",
       "      <td>157.609732</td>\n",
       "      <td>157.0</td>\n",
       "      <td>190.979066</td>\n",
       "      <td>3.647300e+04</td>\n",
       "      <td>1.0</td>\n",
       "      <td>3.0</td>\n",
       "      <td>8.0</td>\n",
       "      <td>14.0</td>\n",
       "      <td>39.0</td>\n",
       "      <td>157.0</td>\n",
       "      <td>157.0</td>\n",
       "      <td>315.0</td>\n",
       "      <td>627.0</td>\n",
       "      <td>818.0</td>\n",
       "      <td>10008.0</td>\n",
       "    </tr>\n",
       "    <tr>\n",
       "      <th>feature_66</th>\n",
       "      <td>23881.0</td>\n",
       "      <td>15.0</td>\n",
       "      <td>6.313516e+09</td>\n",
       "      <td>264374.021440</td>\n",
       "      <td>122012.0</td>\n",
       "      <td>202001.890433</td>\n",
       "      <td>4.080476e+10</td>\n",
       "      <td>110001.0</td>\n",
       "      <td>110005.0</td>\n",
       "      <td>110017.0</td>\n",
       "      <td>110029.0</td>\n",
       "      <td>110059.0</td>\n",
       "      <td>122012.0</td>\n",
       "      <td>400601.0</td>\n",
       "      <td>504106.0</td>\n",
       "      <td>700103.0</td>\n",
       "      <td>845455.0</td>\n",
       "      <td>874401.0</td>\n",
       "    </tr>\n",
       "    <tr>\n",
       "      <th>feature_67</th>\n",
       "      <td>23881.0</td>\n",
       "      <td>15.0</td>\n",
       "      <td>4.403000e+03</td>\n",
       "      <td>0.184373</td>\n",
       "      <td>0.0</td>\n",
       "      <td>0.387796</td>\n",
       "      <td>1.503856e-01</td>\n",
       "      <td>0.0</td>\n",
       "      <td>0.0</td>\n",
       "      <td>0.0</td>\n",
       "      <td>0.0</td>\n",
       "      <td>0.0</td>\n",
       "      <td>0.0</td>\n",
       "      <td>0.0</td>\n",
       "      <td>1.0</td>\n",
       "      <td>1.0</td>\n",
       "      <td>1.0</td>\n",
       "      <td>1.0</td>\n",
       "    </tr>\n",
       "    <tr>\n",
       "      <th>feature_68</th>\n",
       "      <td>23881.0</td>\n",
       "      <td>15.0</td>\n",
       "      <td>2.958500e+04</td>\n",
       "      <td>1.238851</td>\n",
       "      <td>1.0</td>\n",
       "      <td>0.430009</td>\n",
       "      <td>1.849076e-01</td>\n",
       "      <td>1.0</td>\n",
       "      <td>1.0</td>\n",
       "      <td>1.0</td>\n",
       "      <td>1.0</td>\n",
       "      <td>1.0</td>\n",
       "      <td>1.0</td>\n",
       "      <td>1.0</td>\n",
       "      <td>2.0</td>\n",
       "      <td>2.0</td>\n",
       "      <td>2.0</td>\n",
       "      <td>3.0</td>\n",
       "    </tr>\n",
       "    <tr>\n",
       "      <th>feature_69</th>\n",
       "      <td>23881.0</td>\n",
       "      <td>15.0</td>\n",
       "      <td>7.830420e+08</td>\n",
       "      <td>32789.331603</td>\n",
       "      <td>30000.0</td>\n",
       "      <td>108786.028313</td>\n",
       "      <td>1.183440e+10</td>\n",
       "      <td>1.0</td>\n",
       "      <td>1.0</td>\n",
       "      <td>1.0</td>\n",
       "      <td>1.0</td>\n",
       "      <td>1.0</td>\n",
       "      <td>30000.0</td>\n",
       "      <td>43000.0</td>\n",
       "      <td>60000.0</td>\n",
       "      <td>81762.0</td>\n",
       "      <td>168470.0</td>\n",
       "      <td>15000000.0</td>\n",
       "    </tr>\n",
       "    <tr>\n",
       "      <th>feature_71</th>\n",
       "      <td>23881.0</td>\n",
       "      <td>15.0</td>\n",
       "      <td>3.472070e+05</td>\n",
       "      <td>14.539048</td>\n",
       "      <td>10.0</td>\n",
       "      <td>9.077906</td>\n",
       "      <td>8.240837e+01</td>\n",
       "      <td>2.0</td>\n",
       "      <td>2.0</td>\n",
       "      <td>2.0</td>\n",
       "      <td>2.0</td>\n",
       "      <td>10.0</td>\n",
       "      <td>10.0</td>\n",
       "      <td>17.0</td>\n",
       "      <td>33.0</td>\n",
       "      <td>33.0</td>\n",
       "      <td>33.0</td>\n",
       "      <td>35.0</td>\n",
       "    </tr>\n",
       "    <tr>\n",
       "      <th>feature_76</th>\n",
       "      <td>23881.0</td>\n",
       "      <td>15.0</td>\n",
       "      <td>9.200000e+01</td>\n",
       "      <td>0.003852</td>\n",
       "      <td>0.0</td>\n",
       "      <td>0.084286</td>\n",
       "      <td>7.104086e-03</td>\n",
       "      <td>0.0</td>\n",
       "      <td>0.0</td>\n",
       "      <td>0.0</td>\n",
       "      <td>0.0</td>\n",
       "      <td>0.0</td>\n",
       "      <td>0.0</td>\n",
       "      <td>0.0</td>\n",
       "      <td>0.0</td>\n",
       "      <td>0.0</td>\n",
       "      <td>0.0</td>\n",
       "      <td>4.0</td>\n",
       "    </tr>\n",
       "    <tr>\n",
       "      <th>feature_78</th>\n",
       "      <td>23881.0</td>\n",
       "      <td>15.0</td>\n",
       "      <td>2.491300e+04</td>\n",
       "      <td>1.043214</td>\n",
       "      <td>1.0</td>\n",
       "      <td>0.224672</td>\n",
       "      <td>5.047751e-02</td>\n",
       "      <td>1.0</td>\n",
       "      <td>1.0</td>\n",
       "      <td>1.0</td>\n",
       "      <td>1.0</td>\n",
       "      <td>1.0</td>\n",
       "      <td>1.0</td>\n",
       "      <td>1.0</td>\n",
       "      <td>1.0</td>\n",
       "      <td>1.0</td>\n",
       "      <td>2.0</td>\n",
       "      <td>3.0</td>\n",
       "    </tr>\n",
       "    <tr>\n",
       "      <th>Bad_label</th>\n",
       "      <td>23896.0</td>\n",
       "      <td>0.0</td>\n",
       "      <td>1.004000e+03</td>\n",
       "      <td>0.042015</td>\n",
       "      <td>0.0</td>\n",
       "      <td>0.200628</td>\n",
       "      <td>4.025179e-02</td>\n",
       "      <td>0.0</td>\n",
       "      <td>0.0</td>\n",
       "      <td>0.0</td>\n",
       "      <td>0.0</td>\n",
       "      <td>0.0</td>\n",
       "      <td>0.0</td>\n",
       "      <td>0.0</td>\n",
       "      <td>0.0</td>\n",
       "      <td>0.0</td>\n",
       "      <td>1.0</td>\n",
       "      <td>1.0</td>\n",
       "    </tr>\n",
       "  </tbody>\n",
       "</table>\n",
       "</div>"
      ],
      "text/plain": [
       "                  N   NMISS           SUM           MEAN    MEDIAN  \\\n",
       "feature_3   21060.0  2836.0  1.523135e+07     723.235945     721.0   \n",
       "feature_4   23881.0    15.0  5.544200e+04       2.321595       3.0   \n",
       "feature_6   23881.0    15.0  3.343340e+05      14.000000      14.0   \n",
       "feature_7   23881.0    15.0  2.843523e+09  119070.503748  104000.0   \n",
       "feature_14  16163.0  7733.0  1.307040e+05       8.086618      12.0   \n",
       "feature_19  23881.0    15.0  2.506100e+04       1.049412       1.0   \n",
       "feature_25  23881.0    15.0  2.946700e+04       1.233910       1.0   \n",
       "feature_26  23881.0    15.0  1.732900e+04       0.725640       0.0   \n",
       "feature_29  23881.0    15.0  5.196989e+09  217620.229346  110094.0   \n",
       "feature_30  23881.0    15.0  4.779028e+07    2001.183996    2005.0   \n",
       "feature_31  23881.0    15.0  1.557800e+04       0.652318       0.0   \n",
       "feature_34  23881.0    15.0  2.958500e+04       1.238851       1.0   \n",
       "feature_35  23881.0    15.0  7.830420e+08   32789.331603   30000.0   \n",
       "feature_39  23881.0    15.0  3.661599e+07    1533.268707    2010.0   \n",
       "feature_40  23881.0    15.0  7.996200e+04       3.348352       2.0   \n",
       "feature_41  23881.0    15.0  1.361840e+05       5.702609       6.0   \n",
       "feature_42  23881.0    15.0  3.681000e+03       0.154139       0.0   \n",
       "feature_44  23881.0    15.0  5.307582e+09  222251.238474  122001.0   \n",
       "feature_52  23881.0    15.0  1.552283e+09   65000.733679   50000.0   \n",
       "feature_55  23881.0    15.0  2.592800e+04       1.085717       1.0   \n",
       "feature_56  23881.0    15.0  3.185120e+05      13.337465      10.0   \n",
       "feature_64  23881.0    15.0  3.483630e+05      14.587454      10.0   \n",
       "feature_65  23881.0    15.0  3.763878e+06     157.609732     157.0   \n",
       "feature_66  23881.0    15.0  6.313516e+09  264374.021440  122012.0   \n",
       "feature_67  23881.0    15.0  4.403000e+03       0.184373       0.0   \n",
       "feature_68  23881.0    15.0  2.958500e+04       1.238851       1.0   \n",
       "feature_69  23881.0    15.0  7.830420e+08   32789.331603   30000.0   \n",
       "feature_71  23881.0    15.0  3.472070e+05      14.539048      10.0   \n",
       "feature_76  23881.0    15.0  9.200000e+01       0.003852       0.0   \n",
       "feature_78  23881.0    15.0  2.491300e+04       1.043214       1.0   \n",
       "Bad_label   23896.0     0.0  1.004000e+03       0.042015       0.0   \n",
       "\n",
       "                      STD           VAR       MIN        P1        P5  \\\n",
       "feature_3       37.318684  1.392684e+03      -1.0     654.0     676.0   \n",
       "feature_4        0.892838  7.971589e-01       1.0       1.0       1.0   \n",
       "feature_6        0.000000  0.000000e+00      14.0      14.0      14.0   \n",
       "feature_7    77523.485085  6.009891e+09       0.0   30000.0   35000.0   \n",
       "feature_14       5.625654  3.164799e+01       0.0       0.0       0.0   \n",
       "feature_19       0.216731  4.697212e-02       1.0       1.0       1.0   \n",
       "feature_25       0.423324  1.792035e-01       1.0       1.0       1.0   \n",
       "feature_26       1.124986  1.265594e+00       0.0       0.0       0.0   \n",
       "feature_29  159267.102213  2.536601e+10  110001.0  110005.0  110015.0   \n",
       "feature_30      11.993426  1.438423e+02    1964.0    1968.8    1979.0   \n",
       "feature_31       2.343709  5.492973e+00       0.0       0.0       0.0   \n",
       "feature_34       0.430009  1.849076e-01       1.0       1.0       1.0   \n",
       "feature_35  108786.028313  1.183440e+10       1.0       1.0       1.0   \n",
       "feature_39     855.273257  7.314923e+05       0.0       0.0       0.0   \n",
       "feature_40       3.587043  1.286688e+01       0.0       0.0       0.0   \n",
       "feature_41       4.159316  1.729991e+01       0.0       0.0       0.0   \n",
       "feature_42       0.930806  8.663992e-01       0.0       0.0       0.0   \n",
       "feature_44  156846.154943  2.460072e+10       0.0  110001.0  110006.0   \n",
       "feature_52  100822.463405  1.016517e+10       0.0       0.0       0.0   \n",
       "feature_55       0.388569  1.509857e-01       1.0       1.0       1.0   \n",
       "feature_56       8.285993  6.865768e+01       2.0       2.0       2.0   \n",
       "feature_64       9.518517  9.060216e+01       2.0       2.0       2.0   \n",
       "feature_65     190.979066  3.647300e+04       1.0       3.0       8.0   \n",
       "feature_66  202001.890433  4.080476e+10  110001.0  110005.0  110017.0   \n",
       "feature_67       0.387796  1.503856e-01       0.0       0.0       0.0   \n",
       "feature_68       0.430009  1.849076e-01       1.0       1.0       1.0   \n",
       "feature_69  108786.028313  1.183440e+10       1.0       1.0       1.0   \n",
       "feature_71       9.077906  8.240837e+01       2.0       2.0       2.0   \n",
       "feature_76       0.084286  7.104086e-03       0.0       0.0       0.0   \n",
       "feature_78       0.224672  5.047751e-02       1.0       1.0       1.0   \n",
       "Bad_label        0.200628  4.025179e-02       0.0       0.0       0.0   \n",
       "\n",
       "                 P10       P25       P50       P75       P90       P95  \\\n",
       "feature_3      682.0     698.0     721.0     745.0     769.0     784.0   \n",
       "feature_4        1.0       1.0       3.0       3.0       3.0       3.0   \n",
       "feature_6       14.0      14.0      14.0      14.0      14.0      14.0   \n",
       "feature_7    50000.0   72000.0  104000.0  139000.0  192000.0  260000.0   \n",
       "feature_14       0.0       0.0      12.0      12.0      12.0      12.0   \n",
       "feature_19       1.0       1.0       1.0       1.0       1.0       1.0   \n",
       "feature_25       1.0       1.0       1.0       1.0       2.0       2.0   \n",
       "feature_26       0.0       0.0       0.0       2.0       2.0       3.0   \n",
       "feature_29  110025.0  110051.0  110094.0  390002.0  500044.0  500090.0   \n",
       "feature_30    1983.0    1991.0    2005.0    2011.0    2013.0    2014.0   \n",
       "feature_31       0.0       0.0       0.0       0.0       1.0       6.0   \n",
       "feature_34       1.0       1.0       1.0       1.0       2.0       2.0   \n",
       "feature_35       1.0       1.0   30000.0   43000.0   60000.0   81762.0   \n",
       "feature_39       0.0    1999.0    2010.0    2013.0    2014.0    2015.0   \n",
       "feature_40       0.0       0.0       2.0       6.0       9.0      11.0   \n",
       "feature_41       0.0       1.0       6.0      10.0      11.0      11.0   \n",
       "feature_42       0.0       0.0       0.0       0.0       0.0       0.0   \n",
       "feature_44  110017.0  110044.0  122001.0  390002.0  500034.0  500084.0   \n",
       "feature_52       0.0       0.0   50000.0  100000.0  160000.0  243000.0   \n",
       "feature_55       1.0       1.0       1.0       1.0       1.0       1.0   \n",
       "feature_56       2.0      10.0      10.0      13.0      31.0      33.0   \n",
       "feature_64       2.0      10.0      10.0      21.0      33.0      33.0   \n",
       "feature_65      14.0      39.0     157.0     157.0     315.0     627.0   \n",
       "feature_66  110029.0  110059.0  122012.0  400601.0  504106.0  700103.0   \n",
       "feature_67       0.0       0.0       0.0       0.0       1.0       1.0   \n",
       "feature_68       1.0       1.0       1.0       1.0       2.0       2.0   \n",
       "feature_69       1.0       1.0   30000.0   43000.0   60000.0   81762.0   \n",
       "feature_71       2.0      10.0      10.0      17.0      33.0      33.0   \n",
       "feature_76       0.0       0.0       0.0       0.0       0.0       0.0   \n",
       "feature_78       1.0       1.0       1.0       1.0       1.0       1.0   \n",
       "Bad_label        0.0       0.0       0.0       0.0       0.0       0.0   \n",
       "\n",
       "                 P99         MAX  \n",
       "feature_3      824.0       896.0  \n",
       "feature_4        3.0         3.0  \n",
       "feature_6       14.0        14.0  \n",
       "feature_7   442000.0   1217000.0  \n",
       "feature_14      12.0        12.0  \n",
       "feature_19       2.0         2.0  \n",
       "feature_25       2.0         2.0  \n",
       "feature_26       4.0        10.0  \n",
       "feature_29  600082.0    712245.0  \n",
       "feature_30    2015.0      2015.0  \n",
       "feature_31      12.0        12.0  \n",
       "feature_34       2.0         3.0  \n",
       "feature_35  168470.0  15000000.0  \n",
       "feature_39    2015.0      2015.0  \n",
       "feature_40      12.0        12.0  \n",
       "feature_41      11.0        11.0  \n",
       "feature_42       6.0        11.0  \n",
       "feature_44  600073.0    712201.0  \n",
       "feature_52  500000.0   3777000.0  \n",
       "feature_55       3.0         4.0  \n",
       "feature_56      33.0        35.0  \n",
       "feature_64      34.0        35.0  \n",
       "feature_65     818.0     10008.0  \n",
       "feature_66  845455.0    874401.0  \n",
       "feature_67       1.0         1.0  \n",
       "feature_68       2.0         3.0  \n",
       "feature_69  168470.0  15000000.0  \n",
       "feature_71      33.0        35.0  \n",
       "feature_76       0.0         4.0  \n",
       "feature_78       2.0         3.0  \n",
       "Bad_label        1.0         1.0  "
      ]
     },
     "execution_count": 10,
     "metadata": {},
     "output_type": "execute_result"
    }
   ],
   "source": [
    "def var_summary(x):\n",
    "    return pd.Series([x.count(), x.isnull().sum(), x.sum(), x.mean(), x.median(),  x.std(), x.var(), x.min(), x.quantile(0.01), x.quantile(0.05),x.quantile(0.10),x.quantile(0.25),x.quantile(0.50),x.quantile(0.75), x.quantile(0.90),x.quantile(0.95), x.quantile(0.99),x.max()], \n",
    "                  index=['N', 'NMISS', 'SUM', 'MEAN','MEDIAN', 'STD', 'VAR', 'MIN', 'P1' , 'P5' ,'P10' ,'P25' ,'P50' ,'P75' ,'P90' ,'P95' ,'P99' ,'MAX'])\n",
    "\n",
    "rdt_num.apply(lambda x: var_summary(x)).T"
   ]
  },
  {
   "cell_type": "markdown",
   "metadata": {},
   "source": [
    "Using Box plot also we can remove outliers"
   ]
  },
  {
   "cell_type": "code",
   "execution_count": 11,
   "metadata": {},
   "outputs": [
    {
     "data": {
      "text/plain": [
       "<matplotlib.axes._subplots.AxesSubplot at 0x21a425e91d0>"
      ]
     },
     "execution_count": 11,
     "metadata": {},
     "output_type": "execute_result"
    },
    {
     "data": {
      "image/png": "[encoded data removed]",
      "text/plain": [
       "<matplotlib.figure.Figure at 0x21a42572550>"
      ]
     },
     "metadata": {},
     "output_type": "display_data"
    }
   ],
   "source": [
    "sns.boxplot(raw_data_train['feature_3'])"
   ]
  },
  {
   "cell_type": "code",
   "execution_count": 12,
   "metadata": {
    "collapsed": true
   },
   "outputs": [],
   "source": [
    "rdt_num['feature_3']= rdt_num['feature_3'].clip_lower(rdt_num['feature_3'].quantile(0.01))"
   ]
  },
  {
   "cell_type": "code",
   "execution_count": 13,
   "metadata": {},
   "outputs": [
    {
     "data": {
      "text/plain": [
       "<matplotlib.axes._subplots.AxesSubplot at 0x21a42667550>"
      ]
     },
     "execution_count": 13,
     "metadata": {},
     "output_type": "execute_result"
    },
    {
     "data": {
      "image/png": "[encoded data removed]",
      "text/plain": [
       "<matplotlib.figure.Figure at 0x21a420e7cf8>"
      ]
     },
     "metadata": {},
     "output_type": "display_data"
    }
   ],
   "source": [
    "sns.boxplot(raw_data_train['feature_35'])"
   ]
  },
  {
   "cell_type": "code",
   "execution_count": 14,
   "metadata": {
    "collapsed": true
   },
   "outputs": [],
   "source": [
    "rdt_num['feature_35']= rdt_num['feature_35'].clip_upper(rdt_num['feature_35'].quantile(0.99))"
   ]
  },
  {
   "cell_type": "code",
   "execution_count": 15,
   "metadata": {},
   "outputs": [
    {
     "data": {
      "text/plain": [
       "<matplotlib.axes._subplots.AxesSubplot at 0x21a43e2dba8>"
      ]
     },
     "execution_count": 15,
     "metadata": {},
     "output_type": "execute_result"
    },
    {
     "data": {
      "image/png": "[encoded data removed]",
      "text/plain": [
       "<matplotlib.figure.Figure at 0x21a425724a8>"
      ]
     },
     "metadata": {},
     "output_type": "display_data"
    }
   ],
   "source": [
    "sns.boxplot(raw_data_train['feature_7'])"
   ]
  },
  {
   "cell_type": "code",
   "execution_count": 16,
   "metadata": {
    "collapsed": true
   },
   "outputs": [],
   "source": [
    "rdt_num['feature_7']= rdt_num['feature_7'].clip_upper(rdt_num['feature_7'].quantile(0.99))"
   ]
  },
  {
   "cell_type": "code",
   "execution_count": 17,
   "metadata": {},
   "outputs": [
    {
     "data": {
      "text/plain": [
       "<matplotlib.axes._subplots.AxesSubplot at 0x21a43e49940>"
      ]
     },
     "execution_count": 17,
     "metadata": {},
     "output_type": "execute_result"
    },
    {
     "data": {
      "image/png": "[encoded data removed]",
      "text/plain": [
       "<matplotlib.figure.Figure at 0x21a43e676a0>"
      ]
     },
     "metadata": {},
     "output_type": "display_data"
    }
   ],
   "source": [
    "sns.boxplot(raw_data_train['feature_65'])"
   ]
  },
  {
   "cell_type": "code",
   "execution_count": 18,
   "metadata": {
    "collapsed": true
   },
   "outputs": [],
   "source": [
    "rdt_num['feature_65']= rdt_num['feature_65'].clip_upper(rdt_num['feature_65'].quantile(0.99))"
   ]
  },
  {
   "cell_type": "code",
   "execution_count": 19,
   "metadata": {},
   "outputs": [
    {
     "data": {
      "text/plain": [
       "<matplotlib.axes._subplots.AxesSubplot at 0x21a43eeca90>"
      ]
     },
     "execution_count": 19,
     "metadata": {},
     "output_type": "execute_result"
    },
    {
     "data": {
      "image/png": "[encoded data removed]",
      "text/plain": [
       "<matplotlib.figure.Figure at 0x21a43e9cac8>"
      ]
     },
     "metadata": {},
     "output_type": "display_data"
    }
   ],
   "source": [
    "sns.boxplot(raw_data_train['feature_66'])"
   ]
  },
  {
   "cell_type": "code",
   "execution_count": 20,
   "metadata": {
    "collapsed": true
   },
   "outputs": [],
   "source": [
    "rdt_num['feature_66']= rdt_num['feature_66'].clip_upper(rdt_num['feature_66'].quantile(0.99))"
   ]
  },
  {
   "cell_type": "code",
   "execution_count": 21,
   "metadata": {},
   "outputs": [
    {
     "data": {
      "text/plain": [
       "<matplotlib.axes._subplots.AxesSubplot at 0x21a43e9c320>"
      ]
     },
     "execution_count": 21,
     "metadata": {},
     "output_type": "execute_result"
    },
    {
     "data": {
      "image/png": "[encoded data removed]",
      "text/plain": [
       "<matplotlib.figure.Figure at 0x21a43f021d0>"
      ]
     },
     "metadata": {},
     "output_type": "display_data"
    }
   ],
   "source": [
    "sns.boxplot(raw_data_train['feature_69'])"
   ]
  },
  {
   "cell_type": "code",
   "execution_count": 22,
   "metadata": {
    "collapsed": true
   },
   "outputs": [],
   "source": [
    "rdt_num['feature_69']= rdt_num['feature_69'].clip_upper(rdt_num['feature_69'].quantile(0.99))"
   ]
  },
  {
   "cell_type": "code",
   "execution_count": 23,
   "metadata": {},
   "outputs": [
    {
     "data": {
      "text/html": [
       "<div>\n",
       "<style>\n",
       "    .dataframe thead tr:only-child th {\n",
       "        text-align: right;\n",
       "    }\n",
       "\n",
       "    .dataframe thead th {\n",
       "        text-align: left;\n",
       "    }\n",
       "\n",
       "    .dataframe tbody tr th {\n",
       "        vertical-align: top;\n",
       "    }\n",
       "</style>\n",
       "<table border=\"1\" class=\"dataframe\">\n",
       "  <thead>\n",
       "    <tr style=\"text-align: right;\">\n",
       "      <th></th>\n",
       "      <th>count</th>\n",
       "      <th>mean</th>\n",
       "      <th>std</th>\n",
       "      <th>min</th>\n",
       "      <th>25%</th>\n",
       "      <th>50%</th>\n",
       "      <th>75%</th>\n",
       "      <th>max</th>\n",
       "    </tr>\n",
       "  </thead>\n",
       "  <tbody>\n",
       "    <tr>\n",
       "      <th>feature_3</th>\n",
       "      <td>21060.0</td>\n",
       "      <td>723.572697</td>\n",
       "      <td>34.643249</td>\n",
       "      <td>654.0</td>\n",
       "      <td>698.0</td>\n",
       "      <td>721.0</td>\n",
       "      <td>745.0</td>\n",
       "      <td>896.0</td>\n",
       "    </tr>\n",
       "    <tr>\n",
       "      <th>feature_4</th>\n",
       "      <td>23881.0</td>\n",
       "      <td>2.321595</td>\n",
       "      <td>0.892838</td>\n",
       "      <td>1.0</td>\n",
       "      <td>1.0</td>\n",
       "      <td>3.0</td>\n",
       "      <td>3.0</td>\n",
       "      <td>3.0</td>\n",
       "    </tr>\n",
       "    <tr>\n",
       "      <th>feature_6</th>\n",
       "      <td>23881.0</td>\n",
       "      <td>14.000000</td>\n",
       "      <td>0.000000</td>\n",
       "      <td>14.0</td>\n",
       "      <td>14.0</td>\n",
       "      <td>14.0</td>\n",
       "      <td>14.0</td>\n",
       "      <td>14.0</td>\n",
       "    </tr>\n",
       "    <tr>\n",
       "      <th>feature_7</th>\n",
       "      <td>23881.0</td>\n",
       "      <td>118092.822746</td>\n",
       "      <td>71265.846987</td>\n",
       "      <td>0.0</td>\n",
       "      <td>72000.0</td>\n",
       "      <td>104000.0</td>\n",
       "      <td>139000.0</td>\n",
       "      <td>442000.0</td>\n",
       "    </tr>\n",
       "    <tr>\n",
       "      <th>feature_14</th>\n",
       "      <td>16163.0</td>\n",
       "      <td>8.086618</td>\n",
       "      <td>5.625654</td>\n",
       "      <td>0.0</td>\n",
       "      <td>0.0</td>\n",
       "      <td>12.0</td>\n",
       "      <td>12.0</td>\n",
       "      <td>12.0</td>\n",
       "    </tr>\n",
       "    <tr>\n",
       "      <th>feature_19</th>\n",
       "      <td>23881.0</td>\n",
       "      <td>1.049412</td>\n",
       "      <td>0.216731</td>\n",
       "      <td>1.0</td>\n",
       "      <td>1.0</td>\n",
       "      <td>1.0</td>\n",
       "      <td>1.0</td>\n",
       "      <td>2.0</td>\n",
       "    </tr>\n",
       "    <tr>\n",
       "      <th>feature_25</th>\n",
       "      <td>23881.0</td>\n",
       "      <td>1.233910</td>\n",
       "      <td>0.423324</td>\n",
       "      <td>1.0</td>\n",
       "      <td>1.0</td>\n",
       "      <td>1.0</td>\n",
       "      <td>1.0</td>\n",
       "      <td>2.0</td>\n",
       "    </tr>\n",
       "    <tr>\n",
       "      <th>feature_26</th>\n",
       "      <td>23881.0</td>\n",
       "      <td>0.725640</td>\n",
       "      <td>1.124986</td>\n",
       "      <td>0.0</td>\n",
       "      <td>0.0</td>\n",
       "      <td>0.0</td>\n",
       "      <td>2.0</td>\n",
       "      <td>10.0</td>\n",
       "    </tr>\n",
       "    <tr>\n",
       "      <th>feature_29</th>\n",
       "      <td>23881.0</td>\n",
       "      <td>217620.229346</td>\n",
       "      <td>159267.102213</td>\n",
       "      <td>110001.0</td>\n",
       "      <td>110051.0</td>\n",
       "      <td>110094.0</td>\n",
       "      <td>390002.0</td>\n",
       "      <td>712245.0</td>\n",
       "    </tr>\n",
       "    <tr>\n",
       "      <th>feature_30</th>\n",
       "      <td>23881.0</td>\n",
       "      <td>2001.183996</td>\n",
       "      <td>11.993426</td>\n",
       "      <td>1964.0</td>\n",
       "      <td>1991.0</td>\n",
       "      <td>2005.0</td>\n",
       "      <td>2011.0</td>\n",
       "      <td>2015.0</td>\n",
       "    </tr>\n",
       "    <tr>\n",
       "      <th>feature_31</th>\n",
       "      <td>23881.0</td>\n",
       "      <td>0.652318</td>\n",
       "      <td>2.343709</td>\n",
       "      <td>0.0</td>\n",
       "      <td>0.0</td>\n",
       "      <td>0.0</td>\n",
       "      <td>0.0</td>\n",
       "      <td>12.0</td>\n",
       "    </tr>\n",
       "    <tr>\n",
       "      <th>feature_34</th>\n",
       "      <td>23881.0</td>\n",
       "      <td>1.238851</td>\n",
       "      <td>0.430009</td>\n",
       "      <td>1.0</td>\n",
       "      <td>1.0</td>\n",
       "      <td>1.0</td>\n",
       "      <td>1.0</td>\n",
       "      <td>3.0</td>\n",
       "    </tr>\n",
       "    <tr>\n",
       "      <th>feature_35</th>\n",
       "      <td>23881.0</td>\n",
       "      <td>30411.866086</td>\n",
       "      <td>30632.916128</td>\n",
       "      <td>1.0</td>\n",
       "      <td>1.0</td>\n",
       "      <td>30000.0</td>\n",
       "      <td>43000.0</td>\n",
       "      <td>168470.0</td>\n",
       "    </tr>\n",
       "    <tr>\n",
       "      <th>feature_39</th>\n",
       "      <td>23881.0</td>\n",
       "      <td>1533.268707</td>\n",
       "      <td>855.273257</td>\n",
       "      <td>0.0</td>\n",
       "      <td>1999.0</td>\n",
       "      <td>2010.0</td>\n",
       "      <td>2013.0</td>\n",
       "      <td>2015.0</td>\n",
       "    </tr>\n",
       "    <tr>\n",
       "      <th>feature_40</th>\n",
       "      <td>23881.0</td>\n",
       "      <td>3.348352</td>\n",
       "      <td>3.587043</td>\n",
       "      <td>0.0</td>\n",
       "      <td>0.0</td>\n",
       "      <td>2.0</td>\n",
       "      <td>6.0</td>\n",
       "      <td>12.0</td>\n",
       "    </tr>\n",
       "    <tr>\n",
       "      <th>feature_41</th>\n",
       "      <td>23881.0</td>\n",
       "      <td>5.702609</td>\n",
       "      <td>4.159316</td>\n",
       "      <td>0.0</td>\n",
       "      <td>1.0</td>\n",
       "      <td>6.0</td>\n",
       "      <td>10.0</td>\n",
       "      <td>11.0</td>\n",
       "    </tr>\n",
       "    <tr>\n",
       "      <th>feature_42</th>\n",
       "      <td>23881.0</td>\n",
       "      <td>0.154139</td>\n",
       "      <td>0.930806</td>\n",
       "      <td>0.0</td>\n",
       "      <td>0.0</td>\n",
       "      <td>0.0</td>\n",
       "      <td>0.0</td>\n",
       "      <td>11.0</td>\n",
       "    </tr>\n",
       "    <tr>\n",
       "      <th>feature_44</th>\n",
       "      <td>23881.0</td>\n",
       "      <td>222251.238474</td>\n",
       "      <td>156846.154943</td>\n",
       "      <td>0.0</td>\n",
       "      <td>110044.0</td>\n",
       "      <td>122001.0</td>\n",
       "      <td>390002.0</td>\n",
       "      <td>712201.0</td>\n",
       "    </tr>\n",
       "    <tr>\n",
       "      <th>feature_52</th>\n",
       "      <td>23881.0</td>\n",
       "      <td>65000.733679</td>\n",
       "      <td>100822.463405</td>\n",
       "      <td>0.0</td>\n",
       "      <td>0.0</td>\n",
       "      <td>50000.0</td>\n",
       "      <td>100000.0</td>\n",
       "      <td>3777000.0</td>\n",
       "    </tr>\n",
       "    <tr>\n",
       "      <th>feature_55</th>\n",
       "      <td>23881.0</td>\n",
       "      <td>1.085717</td>\n",
       "      <td>0.388569</td>\n",
       "      <td>1.0</td>\n",
       "      <td>1.0</td>\n",
       "      <td>1.0</td>\n",
       "      <td>1.0</td>\n",
       "      <td>4.0</td>\n",
       "    </tr>\n",
       "    <tr>\n",
       "      <th>feature_56</th>\n",
       "      <td>23881.0</td>\n",
       "      <td>13.337465</td>\n",
       "      <td>8.285993</td>\n",
       "      <td>2.0</td>\n",
       "      <td>10.0</td>\n",
       "      <td>10.0</td>\n",
       "      <td>13.0</td>\n",
       "      <td>35.0</td>\n",
       "    </tr>\n",
       "    <tr>\n",
       "      <th>feature_64</th>\n",
       "      <td>23881.0</td>\n",
       "      <td>14.587454</td>\n",
       "      <td>9.518517</td>\n",
       "      <td>2.0</td>\n",
       "      <td>10.0</td>\n",
       "      <td>10.0</td>\n",
       "      <td>21.0</td>\n",
       "      <td>35.0</td>\n",
       "    </tr>\n",
       "    <tr>\n",
       "      <th>feature_65</th>\n",
       "      <td>23881.0</td>\n",
       "      <td>155.374691</td>\n",
       "      <td>169.525106</td>\n",
       "      <td>1.0</td>\n",
       "      <td>39.0</td>\n",
       "      <td>157.0</td>\n",
       "      <td>157.0</td>\n",
       "      <td>818.0</td>\n",
       "    </tr>\n",
       "    <tr>\n",
       "      <th>feature_66</th>\n",
       "      <td>23881.0</td>\n",
       "      <td>264335.535865</td>\n",
       "      <td>201890.501687</td>\n",
       "      <td>110001.0</td>\n",
       "      <td>110059.0</td>\n",
       "      <td>122012.0</td>\n",
       "      <td>400601.0</td>\n",
       "      <td>845455.0</td>\n",
       "    </tr>\n",
       "    <tr>\n",
       "      <th>feature_67</th>\n",
       "      <td>23881.0</td>\n",
       "      <td>0.184373</td>\n",
       "      <td>0.387796</td>\n",
       "      <td>0.0</td>\n",
       "      <td>0.0</td>\n",
       "      <td>0.0</td>\n",
       "      <td>0.0</td>\n",
       "      <td>1.0</td>\n",
       "    </tr>\n",
       "    <tr>\n",
       "      <th>feature_68</th>\n",
       "      <td>23881.0</td>\n",
       "      <td>1.238851</td>\n",
       "      <td>0.430009</td>\n",
       "      <td>1.0</td>\n",
       "      <td>1.0</td>\n",
       "      <td>1.0</td>\n",
       "      <td>1.0</td>\n",
       "      <td>3.0</td>\n",
       "    </tr>\n",
       "    <tr>\n",
       "      <th>feature_69</th>\n",
       "      <td>23881.0</td>\n",
       "      <td>30411.866086</td>\n",
       "      <td>30632.916128</td>\n",
       "      <td>1.0</td>\n",
       "      <td>1.0</td>\n",
       "      <td>30000.0</td>\n",
       "      <td>43000.0</td>\n",
       "      <td>168470.0</td>\n",
       "    </tr>\n",
       "    <tr>\n",
       "      <th>feature_71</th>\n",
       "      <td>23881.0</td>\n",
       "      <td>14.539048</td>\n",
       "      <td>9.077906</td>\n",
       "      <td>2.0</td>\n",
       "      <td>10.0</td>\n",
       "      <td>10.0</td>\n",
       "      <td>17.0</td>\n",
       "      <td>35.0</td>\n",
       "    </tr>\n",
       "    <tr>\n",
       "      <th>feature_76</th>\n",
       "      <td>23881.0</td>\n",
       "      <td>0.003852</td>\n",
       "      <td>0.084286</td>\n",
       "      <td>0.0</td>\n",
       "      <td>0.0</td>\n",
       "      <td>0.0</td>\n",
       "      <td>0.0</td>\n",
       "      <td>4.0</td>\n",
       "    </tr>\n",
       "    <tr>\n",
       "      <th>feature_78</th>\n",
       "      <td>23881.0</td>\n",
       "      <td>1.043214</td>\n",
       "      <td>0.224672</td>\n",
       "      <td>1.0</td>\n",
       "      <td>1.0</td>\n",
       "      <td>1.0</td>\n",
       "      <td>1.0</td>\n",
       "      <td>3.0</td>\n",
       "    </tr>\n",
       "    <tr>\n",
       "      <th>Bad_label</th>\n",
       "      <td>23896.0</td>\n",
       "      <td>0.042015</td>\n",
       "      <td>0.200628</td>\n",
       "      <td>0.0</td>\n",
       "      <td>0.0</td>\n",
       "      <td>0.0</td>\n",
       "      <td>0.0</td>\n",
       "      <td>1.0</td>\n",
       "    </tr>\n",
       "  </tbody>\n",
       "</table>\n",
       "</div>"
      ],
      "text/plain": [
       "              count           mean            std       min       25%  \\\n",
       "feature_3   21060.0     723.572697      34.643249     654.0     698.0   \n",
       "feature_4   23881.0       2.321595       0.892838       1.0       1.0   \n",
       "feature_6   23881.0      14.000000       0.000000      14.0      14.0   \n",
       "feature_7   23881.0  118092.822746   71265.846987       0.0   72000.0   \n",
       "feature_14  16163.0       8.086618       5.625654       0.0       0.0   \n",
       "feature_19  23881.0       1.049412       0.216731       1.0       1.0   \n",
       "feature_25  23881.0       1.233910       0.423324       1.0       1.0   \n",
       "feature_26  23881.0       0.725640       1.124986       0.0       0.0   \n",
       "feature_29  23881.0  217620.229346  159267.102213  110001.0  110051.0   \n",
       "feature_30  23881.0    2001.183996      11.993426    1964.0    1991.0   \n",
       "feature_31  23881.0       0.652318       2.343709       0.0       0.0   \n",
       "feature_34  23881.0       1.238851       0.430009       1.0       1.0   \n",
       "feature_35  23881.0   30411.866086   30632.916128       1.0       1.0   \n",
       "feature_39  23881.0    1533.268707     855.273257       0.0    1999.0   \n",
       "feature_40  23881.0       3.348352       3.587043       0.0       0.0   \n",
       "feature_41  23881.0       5.702609       4.159316       0.0       1.0   \n",
       "feature_42  23881.0       0.154139       0.930806       0.0       0.0   \n",
       "feature_44  23881.0  222251.238474  156846.154943       0.0  110044.0   \n",
       "feature_52  23881.0   65000.733679  100822.463405       0.0       0.0   \n",
       "feature_55  23881.0       1.085717       0.388569       1.0       1.0   \n",
       "feature_56  23881.0      13.337465       8.285993       2.0      10.0   \n",
       "feature_64  23881.0      14.587454       9.518517       2.0      10.0   \n",
       "feature_65  23881.0     155.374691     169.525106       1.0      39.0   \n",
       "feature_66  23881.0  264335.535865  201890.501687  110001.0  110059.0   \n",
       "feature_67  23881.0       0.184373       0.387796       0.0       0.0   \n",
       "feature_68  23881.0       1.238851       0.430009       1.0       1.0   \n",
       "feature_69  23881.0   30411.866086   30632.916128       1.0       1.0   \n",
       "feature_71  23881.0      14.539048       9.077906       2.0      10.0   \n",
       "feature_76  23881.0       0.003852       0.084286       0.0       0.0   \n",
       "feature_78  23881.0       1.043214       0.224672       1.0       1.0   \n",
       "Bad_label   23896.0       0.042015       0.200628       0.0       0.0   \n",
       "\n",
       "                 50%       75%        max  \n",
       "feature_3      721.0     745.0      896.0  \n",
       "feature_4        3.0       3.0        3.0  \n",
       "feature_6       14.0      14.0       14.0  \n",
       "feature_7   104000.0  139000.0   442000.0  \n",
       "feature_14      12.0      12.0       12.0  \n",
       "feature_19       1.0       1.0        2.0  \n",
       "feature_25       1.0       1.0        2.0  \n",
       "feature_26       0.0       2.0       10.0  \n",
       "feature_29  110094.0  390002.0   712245.0  \n",
       "feature_30    2005.0    2011.0     2015.0  \n",
       "feature_31       0.0       0.0       12.0  \n",
       "feature_34       1.0       1.0        3.0  \n",
       "feature_35   30000.0   43000.0   168470.0  \n",
       "feature_39    2010.0    2013.0     2015.0  \n",
       "feature_40       2.0       6.0       12.0  \n",
       "feature_41       6.0      10.0       11.0  \n",
       "feature_42       0.0       0.0       11.0  \n",
       "feature_44  122001.0  390002.0   712201.0  \n",
       "feature_52   50000.0  100000.0  3777000.0  \n",
       "feature_55       1.0       1.0        4.0  \n",
       "feature_56      10.0      13.0       35.0  \n",
       "feature_64      10.0      21.0       35.0  \n",
       "feature_65     157.0     157.0      818.0  \n",
       "feature_66  122012.0  400601.0   845455.0  \n",
       "feature_67       0.0       0.0        1.0  \n",
       "feature_68       1.0       1.0        3.0  \n",
       "feature_69   30000.0   43000.0   168470.0  \n",
       "feature_71      10.0      17.0       35.0  \n",
       "feature_76       0.0       0.0        4.0  \n",
       "feature_78       1.0       1.0        3.0  \n",
       "Bad_label        0.0       0.0        1.0  "
      ]
     },
     "execution_count": 23,
     "metadata": {},
     "output_type": "execute_result"
    }
   ],
   "source": [
    "rdt_num.describe().T"
   ]
  },
  {
   "cell_type": "code",
   "execution_count": 24,
   "metadata": {
    "collapsed": true
   },
   "outputs": [],
   "source": [
    "#Now lets fill all the rdt_num with mean..\n",
    "rdt_num[\"feature_14\"] = rdt_num[\"feature_14\"].fillna(12.0)\n",
    "rdt_num['feature_3']=rdt_num['feature_3'].fillna(rdt_num['feature_3'].mean())\n",
    "rdt_num['feature_30']=rdt_num['feature_30'].fillna(rdt_num['feature_30'].median())\n",
    "rdt_num['feature_39']=rdt_num['feature_39'].fillna(0.0)\n",
    "rdt_num['feature_35']=rdt_num['feature_35'].fillna(rdt_num['feature_35'].mean())\n",
    "rdt_num['feature_34']=rdt_num['feature_34'].fillna(1.0)\n",
    "rdt_num['feature_31']=rdt_num['feature_31'].fillna(0.0)\n",
    "rdt_num['feature_40']=rdt_num['feature_40'].fillna(0.0)\n",
    "rdt_num['feature_41']=rdt_num['feature_41'].fillna(0.0)\n",
    "rdt_num['feature_29']=rdt_num['feature_29'].fillna(rdt_num['feature_29'].mean())\n",
    "rdt_num['feature_25']=rdt_num['feature_25'].fillna(1.0)\n",
    "rdt_num['feature_19']=rdt_num['feature_19'].fillna(1.0)\n",
    "rdt_num['feature_7']=rdt_num['feature_7'].fillna(rdt_num['feature_7'].mean())\n",
    "rdt_num['feature_6']=rdt_num['feature_6'].fillna(14.0)\n",
    "rdt_num['feature_26']=rdt_num['feature_26'].fillna(0.0)\n",
    "rdt_num['feature_42']=rdt_num['feature_42'].fillna(0.0)\n",
    "rdt_num['feature_78']=rdt_num['feature_78'].fillna(1.0)\n",
    "rdt_num['feature_44']=rdt_num['feature_44'].fillna(rdt_num['feature_44'].mean())\n",
    "rdt_num['feature_52']=rdt_num['feature_52'].fillna(0.0)\n",
    "rdt_num['feature_55']=rdt_num['feature_55'].fillna(1.0)\n",
    "rdt_num['feature_56']=rdt_num['feature_56'].fillna(10.0)\n",
    "rdt_num['feature_64']=rdt_num['feature_64'].fillna(10.0)\n",
    "rdt_num['feature_65']=rdt_num['feature_65'].fillna(rdt_num['feature_65'].mean())\n",
    "rdt_num['feature_66']=rdt_num['feature_66'].fillna(rdt_num['feature_66'].mean())\n",
    "rdt_num['feature_67']=rdt_num['feature_67'].fillna(0.0)\n",
    "rdt_num['feature_68']=rdt_num['feature_68'].fillna(1.0)\n",
    "rdt_num['feature_69']=rdt_num['feature_69'].fillna(rdt_num['feature_69'].mean())\n",
    "rdt_num['feature_71']=rdt_num['feature_71'].fillna(10.0)\n",
    "rdt_num['feature_76']=rdt_num['feature_76'].fillna(0.0)\n",
    "rdt_num['feature_4']=rdt_num['feature_4'].fillna(3.0)"
   ]
  },
  {
   "cell_type": "markdown",
   "metadata": {},
   "source": [
    "since these are dates fill it with mode and chenge the dtype also.."
   ]
  },
  {
   "cell_type": "code",
   "execution_count": 25,
   "metadata": {
    "collapsed": true
   },
   "outputs": [],
   "source": [
    "#feature_30,feature_39 are dates so lets convert them to object..\n",
    "rdt_num['feature_30']=rdt_num['feature_30'].astype('object')\n",
    "rdt_num['feature_39']=rdt_num['feature_39'].astype('object')"
   ]
  },
  {
   "cell_type": "code",
   "execution_count": 26,
   "metadata": {},
   "outputs": [
    {
     "data": {
      "text/plain": [
       "False"
      ]
     },
     "execution_count": 26,
     "metadata": {},
     "output_type": "execute_result"
    }
   ],
   "source": [
    "#lets check for null values before moving further..\n",
    "rdt_num.isnull().sum().any()"
   ]
  },
  {
   "cell_type": "markdown",
   "metadata": {
    "collapsed": true
   },
   "source": [
    "so there are no null values and we imupted null values with central tendencies succesfully"
   ]
  },
  {
   "cell_type": "code",
   "execution_count": 27,
   "metadata": {},
   "outputs": [
    {
     "data": {
      "text/plain": [
       "Index(['feature_3', 'feature_4', 'feature_6', 'feature_7', 'feature_14',\n",
       "       'feature_19', 'feature_25', 'feature_26', 'feature_29', 'feature_30',\n",
       "       'feature_31', 'feature_34', 'feature_35', 'feature_39', 'feature_40',\n",
       "       'feature_41', 'feature_42', 'feature_44', 'feature_52', 'feature_55',\n",
       "       'feature_56', 'feature_64', 'feature_65', 'feature_66', 'feature_67',\n",
       "       'feature_68', 'feature_69', 'feature_71', 'feature_76', 'feature_78',\n",
       "       'Bad_label'],\n",
       "      dtype='object')"
      ]
     },
     "execution_count": 27,
     "metadata": {},
     "output_type": "execute_result"
    }
   ],
   "source": [
    "rdt_num.columns"
   ]
  },
  {
   "cell_type": "markdown",
   "metadata": {},
   "source": [
    "# Now it's time to deal with  categorical attributes"
   ]
  },
  {
   "cell_type": "code",
   "execution_count": 28,
   "metadata": {},
   "outputs": [
    {
     "data": {
      "text/plain": [
       "feature_36    5682\n",
       "feature_37    5682\n",
       "feature_38    5682\n",
       "feature_27    3637\n",
       "feature_2     2836\n",
       "feature_24     640\n",
       "feature_46      94\n",
       "feature_16      27\n",
       "feature_15      23\n",
       "feature_23      15\n",
       "feature_79      15\n",
       "feature_21      15\n",
       "feature_32      15\n",
       "feature_12      15\n",
       "feature_11      15\n",
       "feature_5       15\n",
       "feature_1       15\n",
       "entry_time      15\n",
       "feature_28      15\n",
       "feature_33      15\n",
       "feature_43      15\n",
       "feature_50      15\n",
       "feature_54      15\n",
       "feature_58      15\n",
       "feature_59      15\n",
       "feature_60      15\n",
       "feature_62      15\n",
       "feature_63      15\n",
       "feature_70      15\n",
       "feature_72      15\n",
       "feature_75      15\n",
       "feature_77       0\n",
       "feature_47       0\n",
       "feature_22       0\n",
       "feature_20       0\n",
       "dt_opened        0\n",
       "dtype: int64"
      ]
     },
     "execution_count": 28,
     "metadata": {},
     "output_type": "execute_result"
    }
   ],
   "source": [
    "#Lets check null values categorical attributes and fill them accordingly\n",
    "rdt_cat.isnull().sum().sort_values(ascending = False)"
   ]
  },
  {
   "cell_type": "code",
   "execution_count": 29,
   "metadata": {},
   "outputs": [
    {
     "data": {
      "text/html": [
       "<div>\n",
       "<style>\n",
       "    .dataframe thead tr:only-child th {\n",
       "        text-align: right;\n",
       "    }\n",
       "\n",
       "    .dataframe thead th {\n",
       "        text-align: left;\n",
       "    }\n",
       "\n",
       "    .dataframe tbody tr th {\n",
       "        vertical-align: top;\n",
       "    }\n",
       "</style>\n",
       "<table border=\"1\" class=\"dataframe\">\n",
       "  <thead>\n",
       "    <tr style=\"text-align: right;\">\n",
       "      <th></th>\n",
       "      <th>count</th>\n",
       "      <th>unique</th>\n",
       "      <th>top</th>\n",
       "      <th>freq</th>\n",
       "    </tr>\n",
       "  </thead>\n",
       "  <tbody>\n",
       "    <tr>\n",
       "      <th>dt_opened</th>\n",
       "      <td>23896</td>\n",
       "      <td>197</td>\n",
       "      <td>16-Nov-15</td>\n",
       "      <td>699</td>\n",
       "    </tr>\n",
       "    <tr>\n",
       "      <th>entry_time</th>\n",
       "      <td>23881</td>\n",
       "      <td>296</td>\n",
       "      <td>19-Oct-15</td>\n",
       "      <td>180</td>\n",
       "    </tr>\n",
       "    <tr>\n",
       "      <th>feature_1</th>\n",
       "      <td>23881</td>\n",
       "      <td>7</td>\n",
       "      <td>Platinum Maxima</td>\n",
       "      <td>9056</td>\n",
       "    </tr>\n",
       "    <tr>\n",
       "      <th>feature_2</th>\n",
       "      <td>21060</td>\n",
       "      <td>281</td>\n",
       "      <td>19-Oct-15</td>\n",
       "      <td>182</td>\n",
       "    </tr>\n",
       "    <tr>\n",
       "      <th>feature_5</th>\n",
       "      <td>23881</td>\n",
       "      <td>1</td>\n",
       "      <td>Card Setup</td>\n",
       "      <td>23881</td>\n",
       "    </tr>\n",
       "    <tr>\n",
       "      <th>feature_11</th>\n",
       "      <td>23881</td>\n",
       "      <td>2</td>\n",
       "      <td>Y</td>\n",
       "      <td>22611</td>\n",
       "    </tr>\n",
       "    <tr>\n",
       "      <th>feature_12</th>\n",
       "      <td>23881</td>\n",
       "      <td>16</td>\n",
       "      <td>PM1</td>\n",
       "      <td>8853</td>\n",
       "    </tr>\n",
       "    <tr>\n",
       "      <th>feature_15</th>\n",
       "      <td>23873</td>\n",
       "      <td>364</td>\n",
       "      <td>SA03</td>\n",
       "      <td>9331</td>\n",
       "    </tr>\n",
       "    <tr>\n",
       "      <th>feature_16</th>\n",
       "      <td>23869</td>\n",
       "      <td>522</td>\n",
       "      <td>AS19</td>\n",
       "      <td>1374</td>\n",
       "    </tr>\n",
       "    <tr>\n",
       "      <th>feature_20</th>\n",
       "      <td>23896</td>\n",
       "      <td>10610</td>\n",
       "      <td>AXMPKXXXXX</td>\n",
       "      <td>16</td>\n",
       "    </tr>\n",
       "    <tr>\n",
       "      <th>feature_21</th>\n",
       "      <td>23881</td>\n",
       "      <td>8462</td>\n",
       "      <td>1-Jan-85</td>\n",
       "      <td>33</td>\n",
       "    </tr>\n",
       "    <tr>\n",
       "      <th>feature_22</th>\n",
       "      <td>23896</td>\n",
       "      <td>3251</td>\n",
       "      <td>99999XXXXX</td>\n",
       "      <td>194</td>\n",
       "    </tr>\n",
       "    <tr>\n",
       "      <th>feature_23</th>\n",
       "      <td>23881</td>\n",
       "      <td>2</td>\n",
       "      <td>N</td>\n",
       "      <td>21528</td>\n",
       "    </tr>\n",
       "    <tr>\n",
       "      <th>feature_24</th>\n",
       "      <td>23256</td>\n",
       "      <td>721</td>\n",
       "      <td>@GMAIL.COM</td>\n",
       "      <td>15595</td>\n",
       "    </tr>\n",
       "    <tr>\n",
       "      <th>feature_27</th>\n",
       "      <td>20259</td>\n",
       "      <td>10</td>\n",
       "      <td>Graduate</td>\n",
       "      <td>14610</td>\n",
       "    </tr>\n",
       "    <tr>\n",
       "      <th>feature_28</th>\n",
       "      <td>23881</td>\n",
       "      <td>62</td>\n",
       "      <td>New Delhi</td>\n",
       "      <td>12539</td>\n",
       "    </tr>\n",
       "    <tr>\n",
       "      <th>feature_32</th>\n",
       "      <td>23881</td>\n",
       "      <td>5</td>\n",
       "      <td>Self</td>\n",
       "      <td>10833</td>\n",
       "    </tr>\n",
       "    <tr>\n",
       "      <th>feature_33</th>\n",
       "      <td>23881</td>\n",
       "      <td>2</td>\n",
       "      <td>Y</td>\n",
       "      <td>19478</td>\n",
       "    </tr>\n",
       "    <tr>\n",
       "      <th>feature_36</th>\n",
       "      <td>18214</td>\n",
       "      <td>9</td>\n",
       "      <td>Private Ltd. Co.</td>\n",
       "      <td>8677</td>\n",
       "    </tr>\n",
       "    <tr>\n",
       "      <th>feature_37</th>\n",
       "      <td>18214</td>\n",
       "      <td>11</td>\n",
       "      <td>Banking/Financial Services</td>\n",
       "      <td>13187</td>\n",
       "    </tr>\n",
       "    <tr>\n",
       "      <th>feature_38</th>\n",
       "      <td>18214</td>\n",
       "      <td>5663</td>\n",
       "      <td>MANAGER</td>\n",
       "      <td>1624</td>\n",
       "    </tr>\n",
       "    <tr>\n",
       "      <th>feature_43</th>\n",
       "      <td>23881</td>\n",
       "      <td>70</td>\n",
       "      <td>New Delhi</td>\n",
       "      <td>9760</td>\n",
       "    </tr>\n",
       "    <tr>\n",
       "      <th>feature_46</th>\n",
       "      <td>23802</td>\n",
       "      <td>5</td>\n",
       "      <td>PAN Card</td>\n",
       "      <td>22796</td>\n",
       "    </tr>\n",
       "    <tr>\n",
       "      <th>feature_47</th>\n",
       "      <td>23896</td>\n",
       "      <td>11250</td>\n",
       "      <td>XXXXX</td>\n",
       "      <td>94</td>\n",
       "    </tr>\n",
       "    <tr>\n",
       "      <th>feature_50</th>\n",
       "      <td>23881</td>\n",
       "      <td>2</td>\n",
       "      <td>Y</td>\n",
       "      <td>12565</td>\n",
       "    </tr>\n",
       "    <tr>\n",
       "      <th>feature_54</th>\n",
       "      <td>23881</td>\n",
       "      <td>1</td>\n",
       "      <td>17-Jun-16</td>\n",
       "      <td>23881</td>\n",
       "    </tr>\n",
       "    <tr>\n",
       "      <th>feature_58</th>\n",
       "      <td>23881</td>\n",
       "      <td>2</td>\n",
       "      <td>N</td>\n",
       "      <td>23425</td>\n",
       "    </tr>\n",
       "    <tr>\n",
       "      <th>feature_59</th>\n",
       "      <td>23881</td>\n",
       "      <td>2</td>\n",
       "      <td>Y</td>\n",
       "      <td>22611</td>\n",
       "    </tr>\n",
       "    <tr>\n",
       "      <th>feature_60</th>\n",
       "      <td>23881</td>\n",
       "      <td>2</td>\n",
       "      <td>N</td>\n",
       "      <td>23563</td>\n",
       "    </tr>\n",
       "    <tr>\n",
       "      <th>feature_62</th>\n",
       "      <td>23881</td>\n",
       "      <td>2</td>\n",
       "      <td>Y</td>\n",
       "      <td>23876</td>\n",
       "    </tr>\n",
       "    <tr>\n",
       "      <th>feature_63</th>\n",
       "      <td>23881</td>\n",
       "      <td>491</td>\n",
       "      <td>2010-0</td>\n",
       "      <td>1670</td>\n",
       "    </tr>\n",
       "    <tr>\n",
       "      <th>feature_70</th>\n",
       "      <td>23881</td>\n",
       "      <td>133</td>\n",
       "      <td>0-0</td>\n",
       "      <td>18235</td>\n",
       "    </tr>\n",
       "    <tr>\n",
       "      <th>feature_72</th>\n",
       "      <td>23881</td>\n",
       "      <td>2</td>\n",
       "      <td>R</td>\n",
       "      <td>15617</td>\n",
       "    </tr>\n",
       "    <tr>\n",
       "      <th>feature_75</th>\n",
       "      <td>23881</td>\n",
       "      <td>62</td>\n",
       "      <td>0000-00-00</td>\n",
       "      <td>23820</td>\n",
       "    </tr>\n",
       "    <tr>\n",
       "      <th>feature_77</th>\n",
       "      <td>23896</td>\n",
       "      <td>3124</td>\n",
       "      <td>XXXXX</td>\n",
       "      <td>2149</td>\n",
       "    </tr>\n",
       "    <tr>\n",
       "      <th>feature_79</th>\n",
       "      <td>23881</td>\n",
       "      <td>2</td>\n",
       "      <td>N</td>\n",
       "      <td>23876</td>\n",
       "    </tr>\n",
       "  </tbody>\n",
       "</table>\n",
       "</div>"
      ],
      "text/plain": [
       "            count unique                         top   freq\n",
       "dt_opened   23896    197                   16-Nov-15    699\n",
       "entry_time  23881    296                   19-Oct-15    180\n",
       "feature_1   23881      7             Platinum Maxima   9056\n",
       "feature_2   21060    281                   19-Oct-15    182\n",
       "feature_5   23881      1                  Card Setup  23881\n",
       "feature_11  23881      2                           Y  22611\n",
       "feature_12  23881     16                         PM1   8853\n",
       "feature_15  23873    364                        SA03   9331\n",
       "feature_16  23869    522                        AS19   1374\n",
       "feature_20  23896  10610                  AXMPKXXXXX     16\n",
       "feature_21  23881   8462                    1-Jan-85     33\n",
       "feature_22  23896   3251                  99999XXXXX    194\n",
       "feature_23  23881      2                           N  21528\n",
       "feature_24  23256    721                  @GMAIL.COM  15595\n",
       "feature_27  20259     10                    Graduate  14610\n",
       "feature_28  23881     62                   New Delhi  12539\n",
       "feature_32  23881      5                        Self  10833\n",
       "feature_33  23881      2                           Y  19478\n",
       "feature_36  18214      9            Private Ltd. Co.   8677\n",
       "feature_37  18214     11  Banking/Financial Services  13187\n",
       "feature_38  18214   5663                     MANAGER   1624\n",
       "feature_43  23881     70                   New Delhi   9760\n",
       "feature_46  23802      5                    PAN Card  22796\n",
       "feature_47  23896  11250                       XXXXX     94\n",
       "feature_50  23881      2                           Y  12565\n",
       "feature_54  23881      1                   17-Jun-16  23881\n",
       "feature_58  23881      2                           N  23425\n",
       "feature_59  23881      2                           Y  22611\n",
       "feature_60  23881      2                           N  23563\n",
       "feature_62  23881      2                           Y  23876\n",
       "feature_63  23881    491                      2010-0   1670\n",
       "feature_70  23881    133                         0-0  18235\n",
       "feature_72  23881      2                           R  15617\n",
       "feature_75  23881     62                  0000-00-00  23820\n",
       "feature_77  23896   3124                       XXXXX   2149\n",
       "feature_79  23881      2                           N  23876"
      ]
     },
     "execution_count": 29,
     "metadata": {},
     "output_type": "execute_result"
    }
   ],
   "source": [
    "rdt_cat.describe().T"
   ]
  },
  {
   "cell_type": "code",
   "execution_count": null,
   "metadata": {
    "collapsed": true
   },
   "outputs": [],
   "source": []
  },
  {
   "cell_type": "code",
   "execution_count": 30,
   "metadata": {
    "collapsed": true
   },
   "outputs": [],
   "source": [
    "#Filling categorical with mode..\n",
    "#some are filled with others because no info is provided\n",
    "rdt_cat[\"feature_36\"] = rdt_cat[\"feature_36\"].fillna(\"Others\")\n",
    "rdt_cat[\"feature_37\"] = rdt_cat[\"feature_37\"].fillna(\"Others\")\n",
    "rdt_cat[\"feature_38\"] = rdt_cat[\"feature_38\"].fillna(\"Others\")\n",
    "rdt_cat[\"feature_27\"] = rdt_cat[\"feature_27\"].fillna(\"Others\")\n",
    "rdt_cat[\"feature_2\"] = rdt_cat[\"feature_2\"].fillna(\"23-Dec-17\")\n",
    "rdt_cat[\"feature_24\"] = rdt_cat[\"feature_24\"].fillna(\"@GMAIL.COM\")\n",
    "rdt_cat[\"feature_46\"] = rdt_cat[\"feature_46\"].fillna(\"PAN Card\")\n",
    "rdt_cat[\"feature_16\"] = rdt_cat[\"feature_16\"].fillna(\"AS19\")\n",
    "rdt_cat[\"feature_15\"] = rdt_cat[\"feature_15\"].fillna(\"SA03\")\n",
    "rdt_cat[\"feature_23\"] = rdt_cat[\"feature_23\"].fillna(\"N\")\n",
    "rdt_cat[\"feature_79\"] = rdt_cat[\"feature_79\"].fillna(\"N\")\n",
    "rdt_cat[\"feature_21\"] = rdt_cat[\"feature_21\"].fillna(\"1-Jan-85\")\n",
    "rdt_cat[\"feature_32\"] = rdt_cat[\"feature_32\"].fillna(\"Self\")\n",
    "rdt_cat[\"feature_12\"] = rdt_cat[\"feature_12\"].fillna(\"PM1\")\n",
    "rdt_cat[\"feature_11\"] = rdt_cat[\"feature_11\"].fillna(\"Y\")\n",
    "rdt_cat[\"feature_5\"] = rdt_cat[\"feature_5\"].fillna(\"Card Setup\")\n",
    "rdt_cat[\"feature_1\"] = rdt_cat[\"feature_1\"].fillna(\"Platinum Maxim1\")\n",
    "rdt_cat[\"entry_time\"] = rdt_cat[\"entry_time\"].fillna(\"19-Oct-15\")\n",
    "rdt_cat[\"feature_28\"] = rdt_cat[\"feature_28\"].fillna(\"New Delhi\")\n",
    "rdt_cat[\"feature_33\"] = rdt_cat[\"feature_33\"].fillna(\"Y\")\n",
    "rdt_cat[\"feature_43\"] = rdt_cat[\"feature_43\"].fillna(\"New Delhi\")\n",
    "rdt_cat[\"feature_50\"] = rdt_cat[\"feature_50\"].fillna(\"Y\")\n",
    "rdt_cat[\"feature_54\"] = rdt_cat[\"feature_54\"].fillna(\"17-Jun-16\")\n",
    "rdt_cat[\"feature_58\"] = rdt_cat[\"feature_58\"].fillna(\"Y\")\n",
    "rdt_cat[\"feature_59\"] = rdt_cat[\"feature_59\"].fillna(\"Y\")\n",
    "rdt_cat[\"feature_60\"] = rdt_cat[\"feature_60\"].fillna(\"Y\")\n",
    "rdt_cat[\"feature_62\"] = rdt_cat[\"feature_62\"].fillna(\"Y\")\n",
    "rdt_cat[\"feature_63\"] = rdt_cat[\"feature_63\"].fillna(\"2010-0\")\n",
    "rdt_cat[\"feature_70\"] = rdt_cat[\"feature_70\"].fillna(\"0-0\")\n",
    "rdt_cat[\"feature_72\"] = rdt_cat[\"feature_72\"].fillna(\"R\")\n",
    "rdt_cat[\"feature_75\"] = rdt_cat[\"feature_75\"].fillna(\"0000-00-00\")"
   ]
  },
  {
   "cell_type": "markdown",
   "metadata": {},
   "source": [
    "Good there are no null values now"
   ]
  },
  {
   "cell_type": "code",
   "execution_count": 31,
   "metadata": {
    "collapsed": true
   },
   "outputs": [],
   "source": [
    "#Lets concat numaric and categorical attributes..\n",
    "rdt_train = pd.concat([rdt_num,rdt_cat],axis=1)"
   ]
  },
  {
   "cell_type": "code",
   "execution_count": 32,
   "metadata": {},
   "outputs": [
    {
     "data": {
      "text/plain": [
       "False"
      ]
     },
     "execution_count": 32,
     "metadata": {},
     "output_type": "execute_result"
    }
   ],
   "source": [
    "#checking wether still null values present or not\n",
    "rdt_train.isnull().sum().any()"
   ]
  },
  {
   "cell_type": "code",
   "execution_count": 82,
   "metadata": {
    "collapsed": true
   },
   "outputs": [],
   "source": [
    "rdt_final1 = rdt_num.drop(['feature_6', 'feature_30', 'feature_39'],axis =1);\n",
    "                         "
   ]
  },
  {
   "cell_type": "code",
   "execution_count": 83,
   "metadata": {},
   "outputs": [
    {
     "data": {
      "text/plain": [
       "Index(['feature_3', 'feature_4', 'feature_7', 'feature_14', 'feature_19',\n",
       "       'feature_25', 'feature_26', 'feature_29', 'feature_31', 'feature_34',\n",
       "       'feature_35', 'feature_40', 'feature_41', 'feature_42', 'feature_44',\n",
       "       'feature_52', 'feature_55', 'feature_56', 'feature_64', 'feature_65',\n",
       "       'feature_66', 'feature_67', 'feature_68', 'feature_69', 'feature_71',\n",
       "       'feature_76', 'feature_78', 'Bad_label'],\n",
       "      dtype='object')"
      ]
     },
     "execution_count": 83,
     "metadata": {},
     "output_type": "execute_result"
    }
   ],
   "source": [
    "rdt_final1.columns"
   ]
  },
  {
   "cell_type": "code",
   "execution_count": 84,
   "metadata": {},
   "outputs": [
    {
     "data": {
      "text/plain": [
       "Index(['dt_opened', 'entry_time', 'feature_1', 'feature_2', 'feature_5',\n",
       "       'feature_11', 'feature_12', 'feature_15', 'feature_16', 'feature_20',\n",
       "       'feature_21', 'feature_22', 'feature_23', 'feature_24', 'feature_27',\n",
       "       'feature_28', 'feature_32', 'feature_33', 'feature_36', 'feature_37',\n",
       "       'feature_38', 'feature_43', 'feature_46', 'feature_47', 'feature_50',\n",
       "       'feature_54', 'feature_58', 'feature_59', 'feature_60', 'feature_62',\n",
       "       'feature_63', 'feature_70', 'feature_72', 'feature_75', 'feature_77',\n",
       "       'feature_79'],\n",
       "      dtype='object')"
      ]
     },
     "execution_count": 84,
     "metadata": {},
     "output_type": "execute_result"
    }
   ],
   "source": [
    "rdt_cat.columns"
   ]
  },
  {
   "cell_type": "code",
   "execution_count": 121,
   "metadata": {},
   "outputs": [
    {
     "data": {
      "text/plain": [
       "N    23891\n",
       "Y        5\n",
       "Name: feature_79, dtype: int64"
      ]
     },
     "execution_count": 121,
     "metadata": {},
     "output_type": "execute_result"
    }
   ],
   "source": [
    "rdt_cat.feature_79.value_counts()"
   ]
  },
  {
   "cell_type": "code",
   "execution_count": 33,
   "metadata": {},
   "outputs": [
    {
     "data": {
      "text/plain": [
       "Index(['dt_opened', 'entry_time', 'feature_1', 'feature_2', 'feature_5',\n",
       "       'feature_11', 'feature_12', 'feature_15', 'feature_16', 'feature_20',\n",
       "       'feature_21', 'feature_22', 'feature_23', 'feature_24', 'feature_27',\n",
       "       'feature_28', 'feature_32', 'feature_33', 'feature_36', 'feature_37',\n",
       "       'feature_38', 'feature_43', 'feature_46', 'feature_47', 'feature_50',\n",
       "       'feature_54', 'feature_58', 'feature_59', 'feature_60', 'feature_62',\n",
       "       'feature_63', 'feature_70', 'feature_72', 'feature_75', 'feature_77',\n",
       "       'feature_79'],\n",
       "      dtype='object')"
      ]
     },
     "execution_count": 33,
     "metadata": {},
     "output_type": "execute_result"
    }
   ],
   "source": [
    "rdt_cat.columns"
   ]
  },
  {
   "cell_type": "code",
   "execution_count": 125,
   "metadata": {
    "collapsed": true
   },
   "outputs": [],
   "source": [
    "rdt_final2 = rdt_cat.drop(['dt_opened', 'entry_time', 'feature_2', 'feature_5', 'feature_15',\n",
    "       'feature_16', 'feature_20', 'feature_21', 'feature_22', 'feature_24',\n",
    "       'feature_28', 'feature_38', 'feature_43', 'feature_47', 'feature_54',\n",
    "       'feature_63', 'feature_70', 'feature_75', 'feature_77'],axis = 1)"
   ]
  },
  {
   "cell_type": "code",
   "execution_count": 126,
   "metadata": {},
   "outputs": [
    {
     "data": {
      "text/plain": [
       "Index(['feature_1', 'feature_11', 'feature_12', 'feature_23', 'feature_27',\n",
       "       'feature_32', 'feature_33', 'feature_36', 'feature_37', 'feature_46',\n",
       "       'feature_50', 'feature_58', 'feature_59', 'feature_60', 'feature_62',\n",
       "       'feature_72', 'feature_79'],\n",
       "      dtype='object')"
      ]
     },
     "execution_count": 126,
     "metadata": {},
     "output_type": "execute_result"
    }
   ],
   "source": [
    "rdt_final2.columns"
   ]
  },
  {
   "cell_type": "code",
   "execution_count": 128,
   "metadata": {
    "collapsed": true
   },
   "outputs": [],
   "source": [
    "dum= pd.get_dummies(rdt_final2, columns=['feature_1', 'feature_11', 'feature_12', 'feature_23', 'feature_27',\n",
    "       'feature_32', 'feature_33', 'feature_36', 'feature_37', 'feature_46',\n",
    "       'feature_50', 'feature_58', 'feature_59', 'feature_60', 'feature_62',\n",
    "       'feature_72', 'feature_79'],drop_first =True)"
   ]
  },
  {
   "cell_type": "code",
   "execution_count": 131,
   "metadata": {
    "collapsed": true
   },
   "outputs": [],
   "source": [
    "rdt_t =pd.concat([rdt_final1,dum],axis =1)"
   ]
  },
  {
   "cell_type": "raw",
   "metadata": {},
   "source": [
    "Before doing correlation lets remove"
   ]
  },
  {
   "cell_type": "code",
   "execution_count": 204,
   "metadata": {
    "collapsed": true
   },
   "outputs": [],
   "source": [
    "from sklearn.model_selection import train_test_split\n",
    "X_train , X_test, Y_train, Y_test = train_test_split(\n",
    "        rdt_t.drop([\"Bad_label\"],axis =1),\n",
    "        rdt_t.Bad_label,\n",
    "        test_size=0.20,\n",
    "        random_state=123)"
   ]
  },
  {
   "cell_type": "markdown",
   "metadata": {},
   "source": [
    "# decision tree"
   ]
  },
  {
   "cell_type": "code",
   "execution_count": 133,
   "metadata": {
    "collapsed": true
   },
   "outputs": [],
   "source": [
    "from sklearn import metrics\n",
    "from sklearn.tree import DecisionTreeClassifier, export_graphviz, export \n",
    "from sklearn.grid_search import GridSearchCV"
   ]
  },
  {
   "cell_type": "code",
   "execution_count": 137,
   "metadata": {},
   "outputs": [
    {
     "name": "stdout",
     "output_type": "stream",
     "text": [
      "depth: 1 accuracy: 0.958158995816\n",
      "depth: 2 accuracy: 0.958158995816\n",
      "depth: 3 accuracy: 0.958158995816\n",
      "depth: 4 accuracy: 0.957949790795\n",
      "depth: 5 accuracy: 0.957949790795\n",
      "depth: 6 accuracy: 0.957531380753\n",
      "depth: 7 accuracy: 0.955857740586\n",
      "depth: 8 accuracy: 0.955230125523\n",
      "depth: 9 accuracy: 0.954393305439\n",
      "depth: 10 accuracy: 0.951464435146\n",
      "depth: 11 accuracy: 0.952510460251\n",
      "depth: 12 accuracy: 0.947907949791\n",
      "depth: 13 accuracy: 0.944142259414\n",
      "depth: 14 accuracy: 0.9410041841\n",
      "depth: 15 accuracy: 0.938493723849\n",
      "depth: 16 accuracy: 0.933682008368\n",
      "depth: 17 accuracy: 0.930125523013\n",
      "depth: 18 accuracy: 0.927615062762\n",
      "depth: 19 accuracy: 0.920920502092\n"
     ]
    }
   ],
   "source": [
    "depth_list = list(range(1,20))\n",
    "for depth in depth_list:\n",
    "    dt_obj = DecisionTreeClassifier(max_depth = depth)\n",
    "    dt_obj.fit(X_train,Y_train)\n",
    "    print('depth:',depth , 'accuracy:', metrics.accuracy_score(Y_test, dt_obj.predict(X_test)))"
   ]
  },
  {
   "cell_type": "code",
   "execution_count": 138,
   "metadata": {},
   "outputs": [
    {
     "data": {
      "text/plain": [
       "GridSearchCV(cv=10, error_score='raise',\n",
       "       estimator=DecisionTreeClassifier(class_weight=None, criterion='gini', max_depth=None,\n",
       "            max_features=None, max_leaf_nodes=None,\n",
       "            min_impurity_decrease=0.0, min_impurity_split=None,\n",
       "            min_samples_leaf=1, min_samples_split=2,\n",
       "            min_weight_fraction_leaf=0.0, presort=False, random_state=None,\n",
       "            splitter='best'),\n",
       "       fit_params={}, iid=True, n_jobs=1,\n",
       "       param_grid={'max_depth': array([3, 4, 5, 6, 7, 8, 9])},\n",
       "       pre_dispatch='2*n_jobs', refit=True, scoring=None, verbose=0)"
      ]
     },
     "execution_count": 138,
     "metadata": {},
     "output_type": "execute_result"
    }
   ],
   "source": [
    "param_grid ={'max_depth': np.arange(3,10)}\n",
    "tree = GridSearchCV(DecisionTreeClassifier(), param_grid, cv=10)\n",
    "tree.fit(X_train, Y_train)"
   ]
  },
  {
   "cell_type": "code",
   "execution_count": 139,
   "metadata": {},
   "outputs": [
    {
     "data": {
      "text/plain": [
       "{'max_depth': 4}"
      ]
     },
     "execution_count": 139,
     "metadata": {},
     "output_type": "execute_result"
    }
   ],
   "source": [
    "tree.best_params_"
   ]
  },
  {
   "cell_type": "code",
   "execution_count": 140,
   "metadata": {},
   "outputs": [
    {
     "data": {
      "text/plain": [
       "0.9578886796400921"
      ]
     },
     "execution_count": 140,
     "metadata": {},
     "output_type": "execute_result"
    }
   ],
   "source": [
    "tree.best_score_"
   ]
  },
  {
   "cell_type": "code",
   "execution_count": 141,
   "metadata": {},
   "outputs": [
    {
     "data": {
      "text/plain": [
       "DecisionTreeClassifier(class_weight=None, criterion='gini', max_depth=4,\n",
       "            max_features=None, max_leaf_nodes=None,\n",
       "            min_impurity_decrease=0.0, min_impurity_split=None,\n",
       "            min_samples_leaf=1, min_samples_split=2,\n",
       "            min_weight_fraction_leaf=0.0, presort=False, random_state=None,\n",
       "            splitter='best')"
      ]
     },
     "execution_count": 141,
     "metadata": {},
     "output_type": "execute_result"
    }
   ],
   "source": [
    "tree_final = DecisionTreeClassifier(max_depth=4)\n",
    "tree_final.fit(X_train, Y_train)"
   ]
  },
  {
   "cell_type": "code",
   "execution_count": 142,
   "metadata": {},
   "outputs": [
    {
     "name": "stdout",
     "output_type": "stream",
     "text": [
      "tree depth: 1 Accuracy: 0.958158995816\n",
      "tree depth: 2 Accuracy: 0.958158995816\n",
      "tree depth: 3 Accuracy: 0.958158995816\n",
      "tree depth: 4 Accuracy: 0.957949790795\n",
      "tree depth: 5 Accuracy: 0.958158995816\n",
      "tree depth: 6 Accuracy: 0.957949790795\n",
      "tree depth: 7 Accuracy: 0.955857740586\n",
      "tree depth: 8 Accuracy: 0.955439330544\n",
      "tree depth: 9 Accuracy: 0.953974895397\n"
     ]
    }
   ],
   "source": [
    "depth_list = list(range(1,10))\n",
    "for depth in depth_list:\n",
    "    tree1 = DecisionTreeClassifier(max_depth=depth)\n",
    "    tree1.fit(X_train, Y_train)\n",
    "    print ('tree depth:', depth, 'Accuracy:', metrics.accuracy_score(Y_test, tree1.predict(X_test)))"
   ]
  },
  {
   "cell_type": "code",
   "execution_count": 143,
   "metadata": {
    "collapsed": true
   },
   "outputs": [],
   "source": [
    "tree_test_pred = pd.DataFrame({'actual': Y_test, 'predicted': tree_final.predict(X_test)})"
   ]
  },
  {
   "cell_type": "code",
   "execution_count": 145,
   "metadata": {},
   "outputs": [
    {
     "data": {
      "text/html": [
       "<div>\n",
       "<style>\n",
       "    .dataframe thead tr:only-child th {\n",
       "        text-align: right;\n",
       "    }\n",
       "\n",
       "    .dataframe thead th {\n",
       "        text-align: left;\n",
       "    }\n",
       "\n",
       "    .dataframe tbody tr th {\n",
       "        vertical-align: top;\n",
       "    }\n",
       "</style>\n",
       "<table border=\"1\" class=\"dataframe\">\n",
       "  <thead>\n",
       "    <tr style=\"text-align: right;\">\n",
       "      <th></th>\n",
       "      <th>actual</th>\n",
       "      <th>predicted</th>\n",
       "    </tr>\n",
       "  </thead>\n",
       "  <tbody>\n",
       "    <tr>\n",
       "      <th>10813</th>\n",
       "      <td>0</td>\n",
       "      <td>0</td>\n",
       "    </tr>\n",
       "    <tr>\n",
       "      <th>2473</th>\n",
       "      <td>0</td>\n",
       "      <td>0</td>\n",
       "    </tr>\n",
       "    <tr>\n",
       "      <th>16375</th>\n",
       "      <td>0</td>\n",
       "      <td>0</td>\n",
       "    </tr>\n",
       "    <tr>\n",
       "      <th>11888</th>\n",
       "      <td>0</td>\n",
       "      <td>0</td>\n",
       "    </tr>\n",
       "    <tr>\n",
       "      <th>2832</th>\n",
       "      <td>0</td>\n",
       "      <td>0</td>\n",
       "    </tr>\n",
       "  </tbody>\n",
       "</table>\n",
       "</div>"
      ],
      "text/plain": [
       "       actual  predicted\n",
       "10813       0          0\n",
       "2473        0          0\n",
       "16375       0          0\n",
       "11888       0          0\n",
       "2832        0          0"
      ]
     },
     "execution_count": 145,
     "metadata": {},
     "output_type": "execute_result"
    }
   ],
   "source": [
    "tree_test_pred.head()"
   ]
  },
  {
   "cell_type": "code",
   "execution_count": 146,
   "metadata": {},
   "outputs": [
    {
     "data": {
      "text/plain": [
       "0.95794979079497911"
      ]
     },
     "execution_count": 146,
     "metadata": {},
     "output_type": "execute_result"
    }
   ],
   "source": [
    "metrics.accuracy_score(tree_test_pred.actual, tree_test_pred.predicted)"
   ]
  },
  {
   "cell_type": "code",
   "execution_count": 151,
   "metadata": {},
   "outputs": [
    {
     "data": {
      "text/plain": [
       "Text(0.5,14.0938,'Predicted label')"
      ]
     },
     "execution_count": 151,
     "metadata": {},
     "output_type": "execute_result"
    },
    {
     "data": {
      "image/png": "[encoded data removed]",
      "text/plain": [
       "<matplotlib.figure.Figure at 0x21a466ae5c0>"
      ]
     },
     "metadata": {},
     "output_type": "display_data"
    }
   ],
   "source": [
    "cm = metrics.confusion_matrix(Y_test,\n",
    "                              tree_test_pred.predicted, [0,1])\n",
    "sns.heatmap(cm, annot=True,  fmt='.2f', xticklabels = [\"bad_0\",'bad_1'] , yticklabels =  [\"bad_0\",\"bad_1\"] )\n",
    "plt.ylabel('True label')\n",
    "plt.xlabel('Predicted label')"
   ]
  },
  {
   "cell_type": "markdown",
   "metadata": {
    "collapsed": true
   },
   "source": [
    "# PCA"
   ]
  },
  {
   "cell_type": "code",
   "execution_count": 152,
   "metadata": {
    "collapsed": true
   },
   "outputs": [],
   "source": [
    "from sklearn.decomposition import PCA\n",
    "from sklearn.preprocessing import StandardScaler \n",
    "scaler = StandardScaler()\n",
    "scaler.fit( rdt_t.drop([\"Bad_label\"],axis =1))                \n",
    "t_train = scaler.transform( rdt_t.drop([\"Bad_label\"],axis =1))"
   ]
  },
  {
   "cell_type": "code",
   "execution_count": 153,
   "metadata": {},
   "outputs": [
    {
     "name": "stdout",
     "output_type": "stream",
     "text": [
      "(23896, 94) (23896, 73)\n"
     ]
    }
   ],
   "source": [
    "pca_har = PCA(0.99)\n",
    "x_fit = pca_har.fit_transform(t_train)\n",
    "print (t_train.shape, x_fit.shape)"
   ]
  },
  {
   "cell_type": "code",
   "execution_count": 154,
   "metadata": {},
   "outputs": [
    {
     "data": {
      "text/plain": [
       "LogisticRegression(C=1.0, class_weight=None, dual=False, fit_intercept=True,\n",
       "          intercept_scaling=1, max_iter=100, multi_class='ovr', n_jobs=1,\n",
       "          penalty='l2', random_state=None, solver='liblinear', tol=0.0001,\n",
       "          verbose=0, warm_start=False)"
      ]
     },
     "execution_count": 154,
     "metadata": {},
     "output_type": "execute_result"
    }
   ],
   "source": [
    "from sklearn.model_selection import train_test_split\n",
    "from sklearn.linear_model import LogisticRegression\n",
    "log = LogisticRegression()\n",
    "log.fit(x_fit,rdt_t.Bad_label)"
   ]
  },
  {
   "cell_type": "code",
   "execution_count": 191,
   "metadata": {
    "collapsed": true
   },
   "outputs": [],
   "source": [
    "X_train , X_test, Y_train, Y_test = train_test_split(\n",
    "        x_fit,\n",
    "        rdt_t.Bad_label,\n",
    "        test_size=0.35,\n",
    "        random_state=5)"
   ]
  },
  {
   "cell_type": "code",
   "execution_count": 192,
   "metadata": {
    "collapsed": true
   },
   "outputs": [],
   "source": [
    "y_pred = log.predict(X_test)"
   ]
  },
  {
   "cell_type": "code",
   "execution_count": 193,
   "metadata": {},
   "outputs": [
    {
     "data": {
      "text/plain": [
       "0.95743663318986127"
      ]
     },
     "execution_count": 193,
     "metadata": {},
     "output_type": "execute_result"
    }
   ],
   "source": [
    "from sklearn import metrics\n",
    "metrics.accuracy_score(Y_test, y_pred)"
   ]
  },
  {
   "cell_type": "code",
   "execution_count": 194,
   "metadata": {},
   "outputs": [
    {
     "data": {
      "text/plain": [
       "Text(0.5,14.0938,'Predicted label')"
      ]
     },
     "execution_count": 194,
     "metadata": {},
     "output_type": "execute_result"
    },
    {
     "data": {
      "image/png": "[encoded data removed]",
      "text/plain": [
       "<matplotlib.figure.Figure at 0x21a4411b978>"
      ]
     },
     "metadata": {},
     "output_type": "display_data"
    }
   ],
   "source": [
    "cm = metrics.confusion_matrix(Y_test,\n",
    "                              y_pred, [0,1])\n",
    "sns.heatmap(cm, annot=True,  fmt='.2f', xticklabels = [\"bad_0\",'bad_1'] , yticklabels =  [\"bad_0\",\"bad_1\"] )\n",
    "plt.ylabel('True label')\n",
    "plt.xlabel('Predicted label')"
   ]
  },
  {
   "cell_type": "markdown",
   "metadata": {},
   "source": [
    "# Random Forest"
   ]
  },
  {
   "cell_type": "code",
   "execution_count": 205,
   "metadata": {
    "collapsed": true
   },
   "outputs": [],
   "source": [
    "from sklearn.ensemble import RandomForestClassifier"
   ]
  },
  {
   "cell_type": "code",
   "execution_count": 206,
   "metadata": {},
   "outputs": [
    {
     "data": {
      "text/plain": [
       "RandomForestClassifier(bootstrap=True, class_weight=None, criterion='gini',\n",
       "            max_depth=None, max_features='auto', max_leaf_nodes=None,\n",
       "            min_impurity_decrease=0.0, min_impurity_split=None,\n",
       "            min_samples_leaf=1, min_samples_split=2,\n",
       "            min_weight_fraction_leaf=0.0, n_estimators=100, n_jobs=1,\n",
       "            oob_score=True, random_state=None, verbose=0, warm_start=False)"
      ]
     },
     "execution_count": 206,
     "metadata": {},
     "output_type": "execute_result"
    }
   ],
   "source": [
    "rad_clf = RandomForestClassifier(oob_score = True ,n_estimators =100)\n",
    "rad_clf.fit(X_train,Y_train)"
   ]
  },
  {
   "cell_type": "code",
   "execution_count": 207,
   "metadata": {
    "collapsed": true
   },
   "outputs": [],
   "source": [
    "rad_test_pred = pd.DataFrame({'actual': Y_test ,\n",
    "                             'predicted': rad_clf.predict( X_test ) } )"
   ]
  },
  {
   "cell_type": "code",
   "execution_count": 208,
   "metadata": {},
   "outputs": [
    {
     "data": {
      "text/plain": [
       "0.95815899581589958"
      ]
     },
     "execution_count": 208,
     "metadata": {},
     "output_type": "execute_result"
    }
   ],
   "source": [
    "metrics.accuracy_score( rad_test_pred.actual, rad_test_pred.predicted )"
   ]
  },
  {
   "cell_type": "code",
   "execution_count": 209,
   "metadata": {
    "collapsed": true
   },
   "outputs": [],
   "source": [
    "indices = np.argsort(rad_clf.feature_importances_)[::-1]"
   ]
  },
  {
   "cell_type": "code",
   "execution_count": null,
   "metadata": {},
   "outputs": [],
   "source": []
  },
  {
   "cell_type": "code",
   "execution_count": 217,
   "metadata": {},
   "outputs": [
    {
     "name": "stderr",
     "output_type": "stream",
     "text": [
      "C:\\ProgramData\\Anaconda3\\lib\\site-packages\\matplotlib\\cbook\\deprecation.py:106: MatplotlibDeprecationWarning: Adding an axes using the same arguments as a previous axes currently reuses the earlier instance.  In a future version, a new instance will always be created and returned.  Meanwhile, this warning can be suppressed, and the future behavior ensured, by passing a unique label to each axes instance.\n",
      "  warnings.warn(message, mplDeprecation, stacklevel=1)\n"
     ]
    },
    {
     "data": {
      "image/png": "[encoded data removed]",
      "text/plain": [
       "<matplotlib.figure.Figure at 0x21a034d1eb8>"
      ]
     },
     "metadata": {},
     "output_type": "display_data"
    }
   ],
   "source": [
    "indices = np.argsort(rad_clf.feature_importances_)[::-1]\n",
    "feature_rank = pd.DataFrame( columns = ['rank', 'feature', 'importance'] )\n",
    "for f in range(X_train.shape[1]):\n",
    "    feature_rank.loc[f] = [f+1,\n",
    "                         X_train.columns[indices[f]],\n",
    "                         rad_clf.feature_importances_[indices[f]]]\n",
    "    \n",
    "    \n",
    "    import matplotlib.font_manager as fm\n",
    "\n",
    "fontsize2use = 10\n",
    "\n",
    "fig = plt.figure(figsize=(10,40))\n",
    "plt.xticks(fontsize=fontsize2use)  \n",
    "plt.yticks(fontsize=fontsize2use)    \n",
    "fontprop = fm.FontProperties(size=fontsize2use)\n",
    "ax = fig.add_subplot(111)\n",
    "ax.set_xlabel('importance')\n",
    "ax.set_ylabel('feature')\n",
    "\n",
    "sns.barplot( y = 'feature', x = 'importance', data = feature_rank)\n",
    "plt.show()"
   ]
  },
  {
   "cell_type": "code",
   "execution_count": 229,
   "metadata": {},
   "outputs": [
    {
     "data": {
      "image/png": "[encoded data removed]",
      "text/plain": [
       "<matplotlib.figure.Figure at 0x21a022bb6d8>"
      ]
     },
     "metadata": {},
     "output_type": "display_data"
    }
   ],
   "source": [
    "tree_cm = metrics.confusion_matrix(rad_test_pred.predicted ,rad_test_pred.actual,[1,0])\n",
    "sns.heatmap(tree_cm, annot=True, fmt='.2f', \n",
    "            xticklabels= ['0','1'], yticklabels=['0','1'])\n",
    "\n",
    "plt.ylabel('True label')\n",
    "plt.xlabel('Predicted label')\n",
    "plt.show()"
   ]
  },
  {
   "cell_type": "code",
   "execution_count": 234,
   "metadata": {},
   "outputs": [
    {
     "data": {
      "text/plain": [
       "0    22892\n",
       "1     1004\n",
       "Name: Bad_label, dtype: int64"
      ]
     },
     "execution_count": 234,
     "metadata": {},
     "output_type": "execute_result"
    }
   ],
   "source": [
    "rdt_num.Bad_label.value_counts()"
   ]
  },
  {
   "cell_type": "markdown",
   "metadata": {},
   "source": [
    "# Unbalenced Problem"
   ]
  },
  {
   "cell_type": "code",
   "execution_count": 236,
   "metadata": {
    "collapsed": true
   },
   "outputs": [],
   "source": [
    "from sklearn.utils import resample"
   ]
  },
  {
   "cell_type": "code",
   "execution_count": 237,
   "metadata": {
    "collapsed": true
   },
   "outputs": [],
   "source": [
    "df_majority = rdt_t[rdt_t.Bad_label==0]\n",
    "df_minority = rdt_t[rdt_t.Bad_label==1]"
   ]
  },
  {
   "cell_type": "code",
   "execution_count": 296,
   "metadata": {},
   "outputs": [],
   "source": [
    "#upsample minority class \n",
    "df_minority_upsampled = resample(df_minority,\n",
    "                                replace =True,   #sample with replacement\n",
    "                                n_samples = 1004,  #To match majority class\n",
    "                                random_state = 123)"
   ]
  },
  {
   "cell_type": "code",
   "execution_count": 297,
   "metadata": {
    "collapsed": true
   },
   "outputs": [],
   "source": [
    "df_upsampled = pd.concat([df_majority, df_minority_upsampled])"
   ]
  },
  {
   "cell_type": "code",
   "execution_count": 298,
   "metadata": {},
   "outputs": [
    {
     "data": {
      "text/plain": [
       "0    22892\n",
       "1     1004\n",
       "Name: Bad_label, dtype: int64"
      ]
     },
     "execution_count": 298,
     "metadata": {},
     "output_type": "execute_result"
    }
   ],
   "source": [
    "df_upsampled.Bad_label.value_counts()"
   ]
  },
  {
   "cell_type": "code",
   "execution_count": 299,
   "metadata": {},
   "outputs": [
    {
     "data": {
      "text/plain": [
       "0    22892\n",
       "1     1004\n",
       "Name: Bad_label, dtype: int64"
      ]
     },
     "execution_count": 299,
     "metadata": {},
     "output_type": "execute_result"
    }
   ],
   "source": [
    "rdt_num.Bad_label.value_counts()"
   ]
  },
  {
   "cell_type": "code",
   "execution_count": 300,
   "metadata": {},
   "outputs": [
    {
     "name": "stdout",
     "output_type": "stream",
     "text": [
      "<class 'pandas.core.frame.DataFrame'>\n",
      "Int64Index: 23896 entries, 0 to 7347\n",
      "Data columns (total 95 columns):\n",
      "feature_3                                23896 non-null float64\n",
      "feature_4                                23896 non-null float64\n",
      "feature_7                                23896 non-null float64\n",
      "feature_14                               23896 non-null float64\n",
      "feature_19                               23896 non-null float64\n",
      "feature_25                               23896 non-null float64\n",
      "feature_26                               23896 non-null float64\n",
      "feature_29                               23896 non-null float64\n",
      "feature_31                               23896 non-null float64\n",
      "feature_34                               23896 non-null float64\n",
      "feature_35                               23896 non-null float64\n",
      "feature_40                               23896 non-null float64\n",
      "feature_41                               23896 non-null float64\n",
      "feature_42                               23896 non-null float64\n",
      "feature_44                               23896 non-null float64\n",
      "feature_52                               23896 non-null float64\n",
      "feature_55                               23896 non-null float64\n",
      "feature_56                               23896 non-null float64\n",
      "feature_64                               23896 non-null float64\n",
      "feature_65                               23896 non-null float64\n",
      "feature_66                               23896 non-null float64\n",
      "feature_67                               23896 non-null float64\n",
      "feature_68                               23896 non-null float64\n",
      "feature_69                               23896 non-null float64\n",
      "feature_71                               23896 non-null float64\n",
      "feature_76                               23896 non-null float64\n",
      "feature_78                               23896 non-null float64\n",
      "Bad_label                                23896 non-null int64\n",
      "feature_1_Insignia                       23896 non-null uint8\n",
      "feature_1_Platinum Cricke                23896 non-null uint8\n",
      "feature_1_Platinum Deligh                23896 non-null uint8\n",
      "feature_1_Platinum Maxim1                23896 non-null uint8\n",
      "feature_1_Platinum Maxima                23896 non-null uint8\n",
      "feature_1_RBL Bank Fun+                  23896 non-null uint8\n",
      "feature_1_Titanium Deligh                23896 non-null uint8\n",
      "feature_11_Y                             23896 non-null uint8\n",
      "feature_12_DD2                           23896 non-null uint8\n",
      "feature_12_GO1                           23896 non-null uint8\n",
      "feature_12_IS1                           23896 non-null uint8\n",
      "feature_12_IS2                           23896 non-null uint8\n",
      "feature_12_PB1                           23896 non-null uint8\n",
      "feature_12_PB2                           23896 non-null uint8\n",
      "feature_12_PD1                           23896 non-null uint8\n",
      "feature_12_PD2                           23896 non-null uint8\n",
      "feature_12_PD3                           23896 non-null uint8\n",
      "feature_12_PM1                           23896 non-null uint8\n",
      "feature_12_PM2                           23896 non-null uint8\n",
      "feature_12_PM3                           23896 non-null uint8\n",
      "feature_12_PM4                           23896 non-null uint8\n",
      "feature_12_TD1                           23896 non-null uint8\n",
      "feature_12_TD2                           23896 non-null uint8\n",
      "feature_23_Y                             23896 non-null uint8\n",
      "feature_27_CA                            23896 non-null uint8\n",
      "feature_27_Diploma                       23896 non-null uint8\n",
      "feature_27_Doctor                        23896 non-null uint8\n",
      "feature_27_Engineer                      23896 non-null uint8\n",
      "feature_27_Graduate                      23896 non-null uint8\n",
      "feature_27_MBA/MMS                       23896 non-null uint8\n",
      "feature_27_Others                        23896 non-null uint8\n",
      "feature_27_Post-Graduate                 23896 non-null uint8\n",
      "feature_27_Professional                  23896 non-null uint8\n",
      "feature_32_PG/Ho                         23896 non-null uint8\n",
      "feature_32_Paren                         23896 non-null uint8\n",
      "feature_32_Rente                         23896 non-null uint8\n",
      "feature_32_Self                          23896 non-null uint8\n",
      "feature_33_Y                             23896 non-null uint8\n",
      "feature_36_MNC                           23896 non-null uint8\n",
      "feature_36_Others                        23896 non-null uint8\n",
      "feature_36_PSU                           23896 non-null uint8\n",
      "feature_36_Partnership                   23896 non-null uint8\n",
      "feature_36_Partnership Co.               23896 non-null uint8\n",
      "feature_36_Private Ltd. Co.              23896 non-null uint8\n",
      "feature_36_Proprietorship                23896 non-null uint8\n",
      "feature_36_Public Ltd Co.                23896 non-null uint8\n",
      "feature_37_Banking/Financial Services    23896 non-null uint8\n",
      "feature_37_Health Care                   23896 non-null uint8\n",
      "feature_37_Industrial                    23896 non-null uint8\n",
      "feature_37_Information Technology        23896 non-null uint8\n",
      "feature_37_KPO/LPO/ITES                  23896 non-null uint8\n",
      "feature_37_Manufacturing                 23896 non-null uint8\n",
      "feature_37_Others                        23896 non-null uint8\n",
      "feature_37_Real Estate                   23896 non-null uint8\n",
      "feature_37_Tourism                       23896 non-null uint8\n",
      "feature_37_Transportation/Logistics      23896 non-null uint8\n",
      "feature_46_Driving License               23896 non-null uint8\n",
      "feature_46_PAN Card                      23896 non-null uint8\n",
      "feature_46_Passport                      23896 non-null uint8\n",
      "feature_46_Voter ID                      23896 non-null uint8\n",
      "feature_50_Y                             23896 non-null uint8\n",
      "feature_58_Y                             23896 non-null uint8\n",
      "feature_59_Y                             23896 non-null uint8\n",
      "feature_60_Y                             23896 non-null uint8\n",
      "feature_62_Y                             23896 non-null uint8\n",
      "feature_72_R                             23896 non-null uint8\n",
      "feature_79_Y                             23896 non-null uint8\n",
      "dtypes: float64(27), int64(1), uint8(67)\n",
      "memory usage: 6.8 MB\n"
     ]
    }
   ],
   "source": [
    "df_upsampled.info()"
   ]
  },
  {
   "cell_type": "code",
   "execution_count": 301,
   "metadata": {
    "collapsed": true
   },
   "outputs": [],
   "source": [
    "from sklearn.model_selection import train_test_split\n",
    "X_train , X_test, Y_train, Y_test = train_test_split(\n",
    "        df_upsampled.drop([\"Bad_label\"],axis =1),\n",
    "        df_upsampled.Bad_label,\n",
    "        test_size=0.20,\n",
    "        random_state=123)"
   ]
  },
  {
   "cell_type": "markdown",
   "metadata": {},
   "source": [
    "# Random Forest"
   ]
  },
  {
   "cell_type": "code",
   "execution_count": 302,
   "metadata": {
    "collapsed": true
   },
   "outputs": [],
   "source": [
    "from sklearn.ensemble import RandomForestClassifier"
   ]
  },
  {
   "cell_type": "code",
   "execution_count": 303,
   "metadata": {},
   "outputs": [
    {
     "data": {
      "text/plain": [
       "RandomForestClassifier(bootstrap=True, class_weight=None, criterion='gini',\n",
       "            max_depth=None, max_features='auto', max_leaf_nodes=None,\n",
       "            min_impurity_decrease=0.0, min_impurity_split=None,\n",
       "            min_samples_leaf=1, min_samples_split=2,\n",
       "            min_weight_fraction_leaf=0.0, n_estimators=100, n_jobs=1,\n",
       "            oob_score=True, random_state=None, verbose=0, warm_start=False)"
      ]
     },
     "execution_count": 303,
     "metadata": {},
     "output_type": "execute_result"
    }
   ],
   "source": [
    "rad_clf = RandomForestClassifier(oob_score = True ,n_estimators =100)\n",
    "rad_clf.fit(X_train,Y_train)"
   ]
  },
  {
   "cell_type": "code",
   "execution_count": 304,
   "metadata": {
    "collapsed": true
   },
   "outputs": [],
   "source": [
    "rad_test_pred = pd.DataFrame({'actual': Y_test ,\n",
    "                             'predicted': rad_clf.predict( X_test ) } )"
   ]
  },
  {
   "cell_type": "code",
   "execution_count": 305,
   "metadata": {},
   "outputs": [
    {
     "data": {
      "text/plain": [
       "0.98158995815899586"
      ]
     },
     "execution_count": 305,
     "metadata": {},
     "output_type": "execute_result"
    }
   ],
   "source": [
    "metrics.accuracy_score( rad_test_pred.actual, rad_test_pred.predicted )"
   ]
  },
  {
   "cell_type": "code",
   "execution_count": 306,
   "metadata": {},
   "outputs": [
    {
     "name": "stderr",
     "output_type": "stream",
     "text": [
      "C:\\ProgramData\\Anaconda3\\lib\\site-packages\\matplotlib\\cbook\\deprecation.py:106: MatplotlibDeprecationWarning: Adding an axes using the same arguments as a previous axes currently reuses the earlier instance.  In a future version, a new instance will always be created and returned.  Meanwhile, this warning can be suppressed, and the future behavior ensured, by passing a unique label to each axes instance.\n",
      "  warnings.warn(message, mplDeprecation, stacklevel=1)\n"
     ]
    },
    {
     "data": {
      "image/png": "[encoded data removed]",
      "text/plain": [
       "<matplotlib.figure.Figure at 0x21a034fd470>"
      ]
     },
     "metadata": {},
     "output_type": "display_data"
    }
   ],
   "source": [
    "indices = np.argsort(rad_clf.feature_importances_)[::-1]\n",
    "feature_rank = pd.DataFrame( columns = ['rank', 'feature', 'importance'] )\n",
    "for f in range(X_train.shape[1]):\n",
    "    feature_rank.loc[f] = [f+1,\n",
    "                         X_train.columns[indices[f]],\n",
    "                         rad_clf.feature_importances_[indices[f]]]\n",
    "    \n",
    "    \n",
    "    import matplotlib.font_manager as fm\n",
    "\n",
    "fontsize2use = 10\n",
    "\n",
    "fig = plt.figure(figsize=(10,40))\n",
    "plt.xticks(fontsize=fontsize2use)  \n",
    "plt.yticks(fontsize=fontsize2use)    \n",
    "fontprop = fm.FontProperties(size=fontsize2use)\n",
    "ax = fig.add_subplot(111)\n",
    "ax.set_xlabel('importance')\n",
    "ax.set_ylabel('feature')\n",
    "\n",
    "sns.barplot( y = 'feature', x = 'importance', data = feature_rank)\n",
    "plt.show()"
   ]
  },
  {
   "cell_type": "code",
   "execution_count": 307,
   "metadata": {},
   "outputs": [
    {
     "data": {
      "image/png": "[encoded data removed]",
      "text/plain": [
       "<matplotlib.figure.Figure at 0x21a0252dfd0>"
      ]
     },
     "metadata": {},
     "output_type": "display_data"
    }
   ],
   "source": [
    "tree_cm = metrics.confusion_matrix(rad_test_pred.predicted ,rad_test_pred.actual,[1,0])\n",
    "sns.heatmap(tree_cm, annot=True, fmt='.2f', \n",
    "            xticklabels= ['1','0'], yticklabels=['1','0'])\n",
    "\n",
    "plt.ylabel('True label')\n",
    "plt.xlabel('Predicted label')\n",
    "plt.show()"
   ]
  },
  {
   "cell_type": "code",
   "execution_count": null,
   "metadata": {
    "collapsed": true
   },
   "outputs": [],
   "source": []
  },
  {
   "cell_type": "code",
   "execution_count": 309,
   "metadata": {},
   "outputs": [
    {
     "data": {
      "text/plain": [
       "0    17-Jun-16\n",
       "1    17-Jun-16\n",
       "2    17-Jun-16\n",
       "3    17-Jun-16\n",
       "4    17-Jun-16\n",
       "Name: feature_54, dtype: object"
      ]
     },
     "execution_count": 309,
     "metadata": {},
     "output_type": "execute_result"
    }
   ],
   "source": [
    "raw_data_train.feature_54.head()"
   ]
  },
  {
   "cell_type": "code",
   "execution_count": 310,
   "metadata": {},
   "outputs": [
    {
     "data": {
      "text/plain": [
       "0         1965-0\n",
       "1         1969-0\n",
       "2         1966-0\n",
       "3         1988-0\n",
       "4         1995-0\n",
       "5         2000-0\n",
       "6         1964-0\n",
       "7         1964-0\n",
       "8         1977-0\n",
       "9         1969-0\n",
       "10        2007-0\n",
       "11        2012-0\n",
       "12        2000-0\n",
       "13        1988-0\n",
       "14        1978-0\n",
       "15        1999-0\n",
       "16        1990-0\n",
       "17        2010-0\n",
       "18        1995-0\n",
       "19        2000-0\n",
       "20        1964-0\n",
       "21        2009-0\n",
       "22        2000-0\n",
       "23        1970-0\n",
       "24        1964-0\n",
       "25        1970-0\n",
       "26        1975-0\n",
       "27        1980-0\n",
       "28        1981-0\n",
       "29        1980-0\n",
       "          ...   \n",
       "23866     2001-0\n",
       "23867     2010-0\n",
       "23868     1992-0\n",
       "23869     1990-0\n",
       "23870     2014-0\n",
       "23871     1986-0\n",
       "23872     1978-0\n",
       "23873     2010-0\n",
       "23874     2008-0\n",
       "23875     2011-0\n",
       "23876     2014-0\n",
       "23877     2009-0\n",
       "23878     2014-0\n",
       "23879     2005-0\n",
       "23880     2013-0\n",
       "23881     1990-0\n",
       "23882     1995-0\n",
       "23883     2006-1\n",
       "23884     1992-1\n",
       "23885     1988-0\n",
       "23886     1975-0\n",
       "23887    2008-12\n",
       "23888     2013-0\n",
       "23889     2014-0\n",
       "23890     1992-0\n",
       "23891    1988-10\n",
       "23892    2014-12\n",
       "23893     1986-0\n",
       "23894     2010-0\n",
       "23895     2005-0\n",
       "Name: feature_63, Length: 23896, dtype: object"
      ]
     },
     "execution_count": 310,
     "metadata": {},
     "output_type": "execute_result"
    }
   ],
   "source": [
    "raw_data_train.feature_63"
   ]
  },
  {
   "cell_type": "code",
   "execution_count": null,
   "metadata": {
    "collapsed": true
   },
   "outputs": [],
   "source": []
  }
 ],
 "metadata": {
  "kernelspec": {
   "display_name": "Python 3",
   "language": "python",
   "name": "python3"
  },
  "language_info": {
   "codemirror_mode": {
    "name": "ipython",
    "version": 3
   },
   "file_extension": ".py",
   "mimetype": "text/x-python",
   "name": "python",
   "nbconvert_exporter": "python",
   "pygments_lexer": "ipython3",
   "version": "3.6.3"
  }
 },
 "nbformat": 4,
 "nbformat_minor": 2
}
