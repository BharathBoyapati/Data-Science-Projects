{
 "cells": [
  {
   "cell_type": "markdown",
   "metadata": {},
   "source": [
    "# Human Activity Recognition"
   ]
  },
  {
   "cell_type": "raw",
   "metadata": {},
   "source": [
    "In this we are going to predict the human activity with the given information.\n",
    "our Target attribute is Activity.So lets jump into it......\n",
    "\n",
    "\n",
    "#The target attribute is a multiclass so our problem is a multiclass problem."
   ]
  },
  {
   "cell_type": "code",
   "execution_count": 1,
   "metadata": {
    "collapsed": true
   },
   "outputs": [],
   "source": [
    "#Import all the required libraries...\n",
    "import numpy as np\n",
    "import pandas as pd\n",
    "import matplotlib.pyplot as plt\n",
    "import seaborn as sns\n",
    "%matplotlib inline"
   ]
  },
  {
   "cell_type": "code",
   "execution_count": 2,
   "metadata": {
    "collapsed": true
   },
   "outputs": [],
   "source": [
    "#Load the data...\n",
    "train = pd.read_csv(\"C:\\\\Users\\\\bhara\\\\Downloads\\\\human-activity-recognition-with-smartphones (1)\\\\train.csv\")\n",
    "test = pd.read_csv(\"C:\\\\Users\\\\bhara\\\\Downloads\\\\human-activity-recognition-with-smartphones (1)\\\\test.csv\")"
   ]
  },
  {
   "cell_type": "raw",
   "metadata": {},
   "source": [
    "After loading the data lets check wether data is loaded correctly and also analyse the data by looking at attributes if you understand"
   ]
  },
  {
   "cell_type": "code",
   "execution_count": 3,
   "metadata": {},
   "outputs": [
    {
     "data": {
      "text/html": [
       "<div>\n",
       "<style>\n",
       "    .dataframe thead tr:only-child th {\n",
       "        text-align: right;\n",
       "    }\n",
       "\n",
       "    .dataframe thead th {\n",
       "        text-align: left;\n",
       "    }\n",
       "\n",
       "    .dataframe tbody tr th {\n",
       "        vertical-align: top;\n",
       "    }\n",
       "</style>\n",
       "<table border=\"1\" class=\"dataframe\">\n",
       "  <thead>\n",
       "    <tr style=\"text-align: right;\">\n",
       "      <th></th>\n",
       "      <th>tBodyAcc-mean()-X</th>\n",
       "      <th>tBodyAcc-mean()-Y</th>\n",
       "      <th>tBodyAcc-mean()-Z</th>\n",
       "      <th>tBodyAcc-std()-X</th>\n",
       "      <th>tBodyAcc-std()-Y</th>\n",
       "      <th>tBodyAcc-std()-Z</th>\n",
       "      <th>tBodyAcc-mad()-X</th>\n",
       "      <th>tBodyAcc-mad()-Y</th>\n",
       "      <th>tBodyAcc-mad()-Z</th>\n",
       "      <th>tBodyAcc-max()-X</th>\n",
       "      <th>...</th>\n",
       "      <th>fBodyBodyGyroJerkMag-kurtosis()</th>\n",
       "      <th>angle(tBodyAccMean,gravity)</th>\n",
       "      <th>angle(tBodyAccJerkMean),gravityMean)</th>\n",
       "      <th>angle(tBodyGyroMean,gravityMean)</th>\n",
       "      <th>angle(tBodyGyroJerkMean,gravityMean)</th>\n",
       "      <th>angle(X,gravityMean)</th>\n",
       "      <th>angle(Y,gravityMean)</th>\n",
       "      <th>angle(Z,gravityMean)</th>\n",
       "      <th>subject</th>\n",
       "      <th>Activity</th>\n",
       "    </tr>\n",
       "  </thead>\n",
       "  <tbody>\n",
       "    <tr>\n",
       "      <th>0</th>\n",
       "      <td>0.288585</td>\n",
       "      <td>-0.020294</td>\n",
       "      <td>-0.132905</td>\n",
       "      <td>-0.995279</td>\n",
       "      <td>-0.983111</td>\n",
       "      <td>-0.913526</td>\n",
       "      <td>-0.995112</td>\n",
       "      <td>-0.983185</td>\n",
       "      <td>-0.923527</td>\n",
       "      <td>-0.934724</td>\n",
       "      <td>...</td>\n",
       "      <td>-0.710304</td>\n",
       "      <td>-0.112754</td>\n",
       "      <td>0.030400</td>\n",
       "      <td>-0.464761</td>\n",
       "      <td>-0.018446</td>\n",
       "      <td>-0.841247</td>\n",
       "      <td>0.179941</td>\n",
       "      <td>-0.058627</td>\n",
       "      <td>1</td>\n",
       "      <td>STANDING</td>\n",
       "    </tr>\n",
       "    <tr>\n",
       "      <th>1</th>\n",
       "      <td>0.278419</td>\n",
       "      <td>-0.016411</td>\n",
       "      <td>-0.123520</td>\n",
       "      <td>-0.998245</td>\n",
       "      <td>-0.975300</td>\n",
       "      <td>-0.960322</td>\n",
       "      <td>-0.998807</td>\n",
       "      <td>-0.974914</td>\n",
       "      <td>-0.957686</td>\n",
       "      <td>-0.943068</td>\n",
       "      <td>...</td>\n",
       "      <td>-0.861499</td>\n",
       "      <td>0.053477</td>\n",
       "      <td>-0.007435</td>\n",
       "      <td>-0.732626</td>\n",
       "      <td>0.703511</td>\n",
       "      <td>-0.844788</td>\n",
       "      <td>0.180289</td>\n",
       "      <td>-0.054317</td>\n",
       "      <td>1</td>\n",
       "      <td>STANDING</td>\n",
       "    </tr>\n",
       "    <tr>\n",
       "      <th>2</th>\n",
       "      <td>0.279653</td>\n",
       "      <td>-0.019467</td>\n",
       "      <td>-0.113462</td>\n",
       "      <td>-0.995380</td>\n",
       "      <td>-0.967187</td>\n",
       "      <td>-0.978944</td>\n",
       "      <td>-0.996520</td>\n",
       "      <td>-0.963668</td>\n",
       "      <td>-0.977469</td>\n",
       "      <td>-0.938692</td>\n",
       "      <td>...</td>\n",
       "      <td>-0.760104</td>\n",
       "      <td>-0.118559</td>\n",
       "      <td>0.177899</td>\n",
       "      <td>0.100699</td>\n",
       "      <td>0.808529</td>\n",
       "      <td>-0.848933</td>\n",
       "      <td>0.180637</td>\n",
       "      <td>-0.049118</td>\n",
       "      <td>1</td>\n",
       "      <td>STANDING</td>\n",
       "    </tr>\n",
       "    <tr>\n",
       "      <th>3</th>\n",
       "      <td>0.279174</td>\n",
       "      <td>-0.026201</td>\n",
       "      <td>-0.123283</td>\n",
       "      <td>-0.996091</td>\n",
       "      <td>-0.983403</td>\n",
       "      <td>-0.990675</td>\n",
       "      <td>-0.997099</td>\n",
       "      <td>-0.982750</td>\n",
       "      <td>-0.989302</td>\n",
       "      <td>-0.938692</td>\n",
       "      <td>...</td>\n",
       "      <td>-0.482845</td>\n",
       "      <td>-0.036788</td>\n",
       "      <td>-0.012892</td>\n",
       "      <td>0.640011</td>\n",
       "      <td>-0.485366</td>\n",
       "      <td>-0.848649</td>\n",
       "      <td>0.181935</td>\n",
       "      <td>-0.047663</td>\n",
       "      <td>1</td>\n",
       "      <td>STANDING</td>\n",
       "    </tr>\n",
       "    <tr>\n",
       "      <th>4</th>\n",
       "      <td>0.276629</td>\n",
       "      <td>-0.016570</td>\n",
       "      <td>-0.115362</td>\n",
       "      <td>-0.998139</td>\n",
       "      <td>-0.980817</td>\n",
       "      <td>-0.990482</td>\n",
       "      <td>-0.998321</td>\n",
       "      <td>-0.979672</td>\n",
       "      <td>-0.990441</td>\n",
       "      <td>-0.942469</td>\n",
       "      <td>...</td>\n",
       "      <td>-0.699205</td>\n",
       "      <td>0.123320</td>\n",
       "      <td>0.122542</td>\n",
       "      <td>0.693578</td>\n",
       "      <td>-0.615971</td>\n",
       "      <td>-0.847865</td>\n",
       "      <td>0.185151</td>\n",
       "      <td>-0.043892</td>\n",
       "      <td>1</td>\n",
       "      <td>STANDING</td>\n",
       "    </tr>\n",
       "  </tbody>\n",
       "</table>\n",
       "<p>5 rows × 563 columns</p>\n",
       "</div>"
      ],
      "text/plain": [
       "   tBodyAcc-mean()-X  tBodyAcc-mean()-Y  tBodyAcc-mean()-Z  tBodyAcc-std()-X  \\\n",
       "0           0.288585          -0.020294          -0.132905         -0.995279   \n",
       "1           0.278419          -0.016411          -0.123520         -0.998245   \n",
       "2           0.279653          -0.019467          -0.113462         -0.995380   \n",
       "3           0.279174          -0.026201          -0.123283         -0.996091   \n",
       "4           0.276629          -0.016570          -0.115362         -0.998139   \n",
       "\n",
       "   tBodyAcc-std()-Y  tBodyAcc-std()-Z  tBodyAcc-mad()-X  tBodyAcc-mad()-Y  \\\n",
       "0         -0.983111         -0.913526         -0.995112         -0.983185   \n",
       "1         -0.975300         -0.960322         -0.998807         -0.974914   \n",
       "2         -0.967187         -0.978944         -0.996520         -0.963668   \n",
       "3         -0.983403         -0.990675         -0.997099         -0.982750   \n",
       "4         -0.980817         -0.990482         -0.998321         -0.979672   \n",
       "\n",
       "   tBodyAcc-mad()-Z  tBodyAcc-max()-X    ...     \\\n",
       "0         -0.923527         -0.934724    ...      \n",
       "1         -0.957686         -0.943068    ...      \n",
       "2         -0.977469         -0.938692    ...      \n",
       "3         -0.989302         -0.938692    ...      \n",
       "4         -0.990441         -0.942469    ...      \n",
       "\n",
       "   fBodyBodyGyroJerkMag-kurtosis()  angle(tBodyAccMean,gravity)  \\\n",
       "0                        -0.710304                    -0.112754   \n",
       "1                        -0.861499                     0.053477   \n",
       "2                        -0.760104                    -0.118559   \n",
       "3                        -0.482845                    -0.036788   \n",
       "4                        -0.699205                     0.123320   \n",
       "\n",
       "   angle(tBodyAccJerkMean),gravityMean)  angle(tBodyGyroMean,gravityMean)  \\\n",
       "0                              0.030400                         -0.464761   \n",
       "1                             -0.007435                         -0.732626   \n",
       "2                              0.177899                          0.100699   \n",
       "3                             -0.012892                          0.640011   \n",
       "4                              0.122542                          0.693578   \n",
       "\n",
       "   angle(tBodyGyroJerkMean,gravityMean)  angle(X,gravityMean)  \\\n",
       "0                             -0.018446             -0.841247   \n",
       "1                              0.703511             -0.844788   \n",
       "2                              0.808529             -0.848933   \n",
       "3                             -0.485366             -0.848649   \n",
       "4                             -0.615971             -0.847865   \n",
       "\n",
       "   angle(Y,gravityMean)  angle(Z,gravityMean)  subject  Activity  \n",
       "0              0.179941             -0.058627        1  STANDING  \n",
       "1              0.180289             -0.054317        1  STANDING  \n",
       "2              0.180637             -0.049118        1  STANDING  \n",
       "3              0.181935             -0.047663        1  STANDING  \n",
       "4              0.185151             -0.043892        1  STANDING  \n",
       "\n",
       "[5 rows x 563 columns]"
      ]
     },
     "execution_count": 3,
     "metadata": {},
     "output_type": "execute_result"
    }
   ],
   "source": [
    "train.head(5)"
   ]
  },
  {
   "cell_type": "code",
   "execution_count": 4,
   "metadata": {},
   "outputs": [
    {
     "data": {
      "text/plain": [
       "LAYING                1407\n",
       "STANDING              1374\n",
       "SITTING               1286\n",
       "WALKING               1226\n",
       "WALKING_UPSTAIRS      1073\n",
       "WALKING_DOWNSTAIRS     986\n",
       "Name: Activity, dtype: int64"
      ]
     },
     "execution_count": 4,
     "metadata": {},
     "output_type": "execute_result"
    }
   ],
   "source": [
    "train.Activity.value_counts()"
   ]
  },
  {
   "cell_type": "code",
   "execution_count": 6,
   "metadata": {},
   "outputs": [
    {
     "name": "stdout",
     "output_type": "stream",
     "text": [
      "<class 'pandas.core.frame.DataFrame'>\n",
      "RangeIndex: 2947 entries, 0 to 2946\n",
      "Columns: 563 entries, tBodyAcc-mean()-X to Activity\n",
      "dtypes: float64(561), int64(1), object(1)\n",
      "memory usage: 12.7+ MB\n"
     ]
    }
   ],
   "source": [
    "test.info()"
   ]
  },
  {
   "cell_type": "code",
   "execution_count": 7,
   "metadata": {},
   "outputs": [
    {
     "data": {
      "text/html": [
       "<div>\n",
       "<style>\n",
       "    .dataframe thead tr:only-child th {\n",
       "        text-align: right;\n",
       "    }\n",
       "\n",
       "    .dataframe thead th {\n",
       "        text-align: left;\n",
       "    }\n",
       "\n",
       "    .dataframe tbody tr th {\n",
       "        vertical-align: top;\n",
       "    }\n",
       "</style>\n",
       "<table border=\"1\" class=\"dataframe\">\n",
       "  <thead>\n",
       "    <tr style=\"text-align: right;\">\n",
       "      <th></th>\n",
       "      <th>count</th>\n",
       "      <th>mean</th>\n",
       "      <th>std</th>\n",
       "      <th>min</th>\n",
       "      <th>25%</th>\n",
       "      <th>50%</th>\n",
       "      <th>75%</th>\n",
       "      <th>max</th>\n",
       "    </tr>\n",
       "  </thead>\n",
       "  <tbody>\n",
       "    <tr>\n",
       "      <th>tBodyAcc-mean()-X</th>\n",
       "      <td>7352.0</td>\n",
       "      <td>0.274488</td>\n",
       "      <td>0.070261</td>\n",
       "      <td>-1.000000</td>\n",
       "      <td>0.262975</td>\n",
       "      <td>0.277193</td>\n",
       "      <td>0.288461</td>\n",
       "      <td>1.000000</td>\n",
       "    </tr>\n",
       "    <tr>\n",
       "      <th>tBodyAcc-mean()-Y</th>\n",
       "      <td>7352.0</td>\n",
       "      <td>-0.017695</td>\n",
       "      <td>0.040811</td>\n",
       "      <td>-1.000000</td>\n",
       "      <td>-0.024863</td>\n",
       "      <td>-0.017219</td>\n",
       "      <td>-0.010783</td>\n",
       "      <td>1.000000</td>\n",
       "    </tr>\n",
       "    <tr>\n",
       "      <th>tBodyAcc-mean()-Z</th>\n",
       "      <td>7352.0</td>\n",
       "      <td>-0.109141</td>\n",
       "      <td>0.056635</td>\n",
       "      <td>-1.000000</td>\n",
       "      <td>-0.120993</td>\n",
       "      <td>-0.108676</td>\n",
       "      <td>-0.097794</td>\n",
       "      <td>1.000000</td>\n",
       "    </tr>\n",
       "    <tr>\n",
       "      <th>tBodyAcc-std()-X</th>\n",
       "      <td>7352.0</td>\n",
       "      <td>-0.605438</td>\n",
       "      <td>0.448734</td>\n",
       "      <td>-1.000000</td>\n",
       "      <td>-0.992754</td>\n",
       "      <td>-0.946196</td>\n",
       "      <td>-0.242813</td>\n",
       "      <td>1.000000</td>\n",
       "    </tr>\n",
       "    <tr>\n",
       "      <th>tBodyAcc-std()-Y</th>\n",
       "      <td>7352.0</td>\n",
       "      <td>-0.510938</td>\n",
       "      <td>0.502645</td>\n",
       "      <td>-0.999873</td>\n",
       "      <td>-0.978129</td>\n",
       "      <td>-0.851897</td>\n",
       "      <td>-0.034231</td>\n",
       "      <td>0.916238</td>\n",
       "    </tr>\n",
       "    <tr>\n",
       "      <th>tBodyAcc-std()-Z</th>\n",
       "      <td>7352.0</td>\n",
       "      <td>-0.604754</td>\n",
       "      <td>0.418687</td>\n",
       "      <td>-1.000000</td>\n",
       "      <td>-0.980233</td>\n",
       "      <td>-0.859365</td>\n",
       "      <td>-0.262415</td>\n",
       "      <td>1.000000</td>\n",
       "    </tr>\n",
       "    <tr>\n",
       "      <th>tBodyAcc-mad()-X</th>\n",
       "      <td>7352.0</td>\n",
       "      <td>-0.630512</td>\n",
       "      <td>0.424073</td>\n",
       "      <td>-1.000000</td>\n",
       "      <td>-0.993591</td>\n",
       "      <td>-0.950709</td>\n",
       "      <td>-0.292680</td>\n",
       "      <td>1.000000</td>\n",
       "    </tr>\n",
       "    <tr>\n",
       "      <th>tBodyAcc-mad()-Y</th>\n",
       "      <td>7352.0</td>\n",
       "      <td>-0.526907</td>\n",
       "      <td>0.485942</td>\n",
       "      <td>-1.000000</td>\n",
       "      <td>-0.978162</td>\n",
       "      <td>-0.857328</td>\n",
       "      <td>-0.066701</td>\n",
       "      <td>0.967664</td>\n",
       "    </tr>\n",
       "    <tr>\n",
       "      <th>tBodyAcc-mad()-Z</th>\n",
       "      <td>7352.0</td>\n",
       "      <td>-0.606150</td>\n",
       "      <td>0.414122</td>\n",
       "      <td>-1.000000</td>\n",
       "      <td>-0.980251</td>\n",
       "      <td>-0.857143</td>\n",
       "      <td>-0.265671</td>\n",
       "      <td>1.000000</td>\n",
       "    </tr>\n",
       "    <tr>\n",
       "      <th>tBodyAcc-max()-X</th>\n",
       "      <td>7352.0</td>\n",
       "      <td>-0.468604</td>\n",
       "      <td>0.544547</td>\n",
       "      <td>-1.000000</td>\n",
       "      <td>-0.936219</td>\n",
       "      <td>-0.881637</td>\n",
       "      <td>-0.017129</td>\n",
       "      <td>1.000000</td>\n",
       "    </tr>\n",
       "    <tr>\n",
       "      <th>tBodyAcc-max()-Y</th>\n",
       "      <td>7352.0</td>\n",
       "      <td>-0.306043</td>\n",
       "      <td>0.282243</td>\n",
       "      <td>-1.000000</td>\n",
       "      <td>-0.563561</td>\n",
       "      <td>-0.479677</td>\n",
       "      <td>-0.065364</td>\n",
       "      <td>1.000000</td>\n",
       "    </tr>\n",
       "    <tr>\n",
       "      <th>tBodyAcc-max()-Z</th>\n",
       "      <td>7352.0</td>\n",
       "      <td>-0.557121</td>\n",
       "      <td>0.293867</td>\n",
       "      <td>-1.000000</td>\n",
       "      <td>-0.812744</td>\n",
       "      <td>-0.736516</td>\n",
       "      <td>-0.332014</td>\n",
       "      <td>1.000000</td>\n",
       "    </tr>\n",
       "    <tr>\n",
       "      <th>tBodyAcc-min()-X</th>\n",
       "      <td>7352.0</td>\n",
       "      <td>0.523551</td>\n",
       "      <td>0.363594</td>\n",
       "      <td>-1.000000</td>\n",
       "      <td>0.197051</td>\n",
       "      <td>0.792060</td>\n",
       "      <td>0.844420</td>\n",
       "      <td>1.000000</td>\n",
       "    </tr>\n",
       "    <tr>\n",
       "      <th>tBodyAcc-min()-Y</th>\n",
       "      <td>7352.0</td>\n",
       "      <td>0.387386</td>\n",
       "      <td>0.343611</td>\n",
       "      <td>-1.000000</td>\n",
       "      <td>0.101829</td>\n",
       "      <td>0.627737</td>\n",
       "      <td>0.685622</td>\n",
       "      <td>1.000000</td>\n",
       "    </tr>\n",
       "    <tr>\n",
       "      <th>tBodyAcc-min()-Z</th>\n",
       "      <td>7352.0</td>\n",
       "      <td>0.594374</td>\n",
       "      <td>0.297818</td>\n",
       "      <td>-1.000000</td>\n",
       "      <td>0.389787</td>\n",
       "      <td>0.778059</td>\n",
       "      <td>0.837323</td>\n",
       "      <td>1.000000</td>\n",
       "    </tr>\n",
       "    <tr>\n",
       "      <th>tBodyAcc-sma()</th>\n",
       "      <td>7352.0</td>\n",
       "      <td>-0.547569</td>\n",
       "      <td>0.471808</td>\n",
       "      <td>-1.000000</td>\n",
       "      <td>-0.982992</td>\n",
       "      <td>-0.885461</td>\n",
       "      <td>-0.107428</td>\n",
       "      <td>1.000000</td>\n",
       "    </tr>\n",
       "    <tr>\n",
       "      <th>tBodyAcc-energy()-X</th>\n",
       "      <td>7352.0</td>\n",
       "      <td>-0.820041</td>\n",
       "      <td>0.259607</td>\n",
       "      <td>-1.000000</td>\n",
       "      <td>-0.999936</td>\n",
       "      <td>-0.998046</td>\n",
       "      <td>-0.710707</td>\n",
       "      <td>1.000000</td>\n",
       "    </tr>\n",
       "    <tr>\n",
       "      <th>tBodyAcc-energy()-Y</th>\n",
       "      <td>7352.0</td>\n",
       "      <td>-0.901874</td>\n",
       "      <td>0.126333</td>\n",
       "      <td>-0.999999</td>\n",
       "      <td>-0.999786</td>\n",
       "      <td>-0.994065</td>\n",
       "      <td>-0.816703</td>\n",
       "      <td>1.000000</td>\n",
       "    </tr>\n",
       "    <tr>\n",
       "      <th>tBodyAcc-energy()-Z</th>\n",
       "      <td>7352.0</td>\n",
       "      <td>-0.845784</td>\n",
       "      <td>0.221983</td>\n",
       "      <td>-1.000000</td>\n",
       "      <td>-0.999460</td>\n",
       "      <td>-0.985546</td>\n",
       "      <td>-0.748018</td>\n",
       "      <td>1.000000</td>\n",
       "    </tr>\n",
       "    <tr>\n",
       "      <th>tBodyAcc-iqr()-X</th>\n",
       "      <td>7352.0</td>\n",
       "      <td>-0.684345</td>\n",
       "      <td>0.371608</td>\n",
       "      <td>-1.000000</td>\n",
       "      <td>-0.994387</td>\n",
       "      <td>-0.957859</td>\n",
       "      <td>-0.393220</td>\n",
       "      <td>1.000000</td>\n",
       "    </tr>\n",
       "    <tr>\n",
       "      <th>tBodyAcc-iqr()-Y</th>\n",
       "      <td>7352.0</td>\n",
       "      <td>-0.643770</td>\n",
       "      <td>0.371581</td>\n",
       "      <td>-1.000000</td>\n",
       "      <td>-0.982159</td>\n",
       "      <td>-0.896093</td>\n",
       "      <td>-0.310548</td>\n",
       "      <td>1.000000</td>\n",
       "    </tr>\n",
       "    <tr>\n",
       "      <th>tBodyAcc-iqr()-Z</th>\n",
       "      <td>7352.0</td>\n",
       "      <td>-0.631069</td>\n",
       "      <td>0.386569</td>\n",
       "      <td>-1.000000</td>\n",
       "      <td>-0.979623</td>\n",
       "      <td>-0.864515</td>\n",
       "      <td>-0.316037</td>\n",
       "      <td>1.000000</td>\n",
       "    </tr>\n",
       "    <tr>\n",
       "      <th>tBodyAcc-entropy()-X</th>\n",
       "      <td>7352.0</td>\n",
       "      <td>-0.102993</td>\n",
       "      <td>0.468959</td>\n",
       "      <td>-1.000000</td>\n",
       "      <td>-0.573441</td>\n",
       "      <td>-0.073369</td>\n",
       "      <td>0.336504</td>\n",
       "      <td>0.919662</td>\n",
       "    </tr>\n",
       "    <tr>\n",
       "      <th>tBodyAcc-entropy()-Y</th>\n",
       "      <td>7352.0</td>\n",
       "      <td>-0.137937</td>\n",
       "      <td>0.437268</td>\n",
       "      <td>-1.000000</td>\n",
       "      <td>-0.559584</td>\n",
       "      <td>-0.136793</td>\n",
       "      <td>0.280170</td>\n",
       "      <td>1.000000</td>\n",
       "    </tr>\n",
       "    <tr>\n",
       "      <th>tBodyAcc-entropy()-Z</th>\n",
       "      <td>7352.0</td>\n",
       "      <td>-0.163946</td>\n",
       "      <td>0.371363</td>\n",
       "      <td>-1.000000</td>\n",
       "      <td>-0.505512</td>\n",
       "      <td>-0.148889</td>\n",
       "      <td>0.164123</td>\n",
       "      <td>1.000000</td>\n",
       "    </tr>\n",
       "    <tr>\n",
       "      <th>tBodyAcc-arCoeff()-X,1</th>\n",
       "      <td>7352.0</td>\n",
       "      <td>-0.116599</td>\n",
       "      <td>0.306507</td>\n",
       "      <td>-0.925897</td>\n",
       "      <td>-0.364926</td>\n",
       "      <td>-0.129393</td>\n",
       "      <td>0.132657</td>\n",
       "      <td>1.000000</td>\n",
       "    </tr>\n",
       "    <tr>\n",
       "      <th>tBodyAcc-arCoeff()-X,2</th>\n",
       "      <td>7352.0</td>\n",
       "      <td>0.102762</td>\n",
       "      <td>0.246593</td>\n",
       "      <td>-0.963099</td>\n",
       "      <td>-0.082544</td>\n",
       "      <td>0.070073</td>\n",
       "      <td>0.276872</td>\n",
       "      <td>0.978449</td>\n",
       "    </tr>\n",
       "    <tr>\n",
       "      <th>tBodyAcc-arCoeff()-X,3</th>\n",
       "      <td>7352.0</td>\n",
       "      <td>-0.037786</td>\n",
       "      <td>0.243635</td>\n",
       "      <td>-1.000000</td>\n",
       "      <td>-0.190581</td>\n",
       "      <td>-0.019001</td>\n",
       "      <td>0.128635</td>\n",
       "      <td>1.000000</td>\n",
       "    </tr>\n",
       "    <tr>\n",
       "      <th>tBodyAcc-arCoeff()-X,4</th>\n",
       "      <td>7352.0</td>\n",
       "      <td>0.130477</td>\n",
       "      <td>0.230067</td>\n",
       "      <td>-0.822053</td>\n",
       "      <td>-0.023857</td>\n",
       "      <td>0.134149</td>\n",
       "      <td>0.285318</td>\n",
       "      <td>1.000000</td>\n",
       "    </tr>\n",
       "    <tr>\n",
       "      <th>tBodyAcc-arCoeff()-Y,1</th>\n",
       "      <td>7352.0</td>\n",
       "      <td>-0.026229</td>\n",
       "      <td>0.257383</td>\n",
       "      <td>-1.000000</td>\n",
       "      <td>-0.221943</td>\n",
       "      <td>-0.040710</td>\n",
       "      <td>0.172344</td>\n",
       "      <td>1.000000</td>\n",
       "    </tr>\n",
       "    <tr>\n",
       "      <th>...</th>\n",
       "      <td>...</td>\n",
       "      <td>...</td>\n",
       "      <td>...</td>\n",
       "      <td>...</td>\n",
       "      <td>...</td>\n",
       "      <td>...</td>\n",
       "      <td>...</td>\n",
       "      <td>...</td>\n",
       "    </tr>\n",
       "    <tr>\n",
       "      <th>fBodyBodyGyroMag-min()</th>\n",
       "      <td>7352.0</td>\n",
       "      <td>-0.885103</td>\n",
       "      <td>0.173574</td>\n",
       "      <td>-1.000000</td>\n",
       "      <td>-0.994189</td>\n",
       "      <td>-0.960136</td>\n",
       "      <td>-0.837425</td>\n",
       "      <td>1.000000</td>\n",
       "    </tr>\n",
       "    <tr>\n",
       "      <th>fBodyBodyGyroMag-sma()</th>\n",
       "      <td>7352.0</td>\n",
       "      <td>-0.693210</td>\n",
       "      <td>0.335026</td>\n",
       "      <td>-1.000000</td>\n",
       "      <td>-0.984123</td>\n",
       "      <td>-0.886439</td>\n",
       "      <td>-0.438439</td>\n",
       "      <td>1.000000</td>\n",
       "    </tr>\n",
       "    <tr>\n",
       "      <th>fBodyBodyGyroMag-energy()</th>\n",
       "      <td>7352.0</td>\n",
       "      <td>-0.874292</td>\n",
       "      <td>0.192684</td>\n",
       "      <td>-1.000000</td>\n",
       "      <td>-0.999725</td>\n",
       "      <td>-0.986266</td>\n",
       "      <td>-0.800743</td>\n",
       "      <td>1.000000</td>\n",
       "    </tr>\n",
       "    <tr>\n",
       "      <th>fBodyBodyGyroMag-iqr()</th>\n",
       "      <td>7352.0</td>\n",
       "      <td>-0.719795</td>\n",
       "      <td>0.318706</td>\n",
       "      <td>-1.000000</td>\n",
       "      <td>-0.986633</td>\n",
       "      <td>-0.923298</td>\n",
       "      <td>-0.484202</td>\n",
       "      <td>1.000000</td>\n",
       "    </tr>\n",
       "    <tr>\n",
       "      <th>fBodyBodyGyroMag-entropy()</th>\n",
       "      <td>7352.0</td>\n",
       "      <td>-0.087878</td>\n",
       "      <td>0.611793</td>\n",
       "      <td>-1.000000</td>\n",
       "      <td>-0.690397</td>\n",
       "      <td>-0.190223</td>\n",
       "      <td>0.515789</td>\n",
       "      <td>1.000000</td>\n",
       "    </tr>\n",
       "    <tr>\n",
       "      <th>fBodyBodyGyroMag-maxInds</th>\n",
       "      <td>7352.0</td>\n",
       "      <td>-0.889442</td>\n",
       "      <td>0.157653</td>\n",
       "      <td>-1.000000</td>\n",
       "      <td>-1.000000</td>\n",
       "      <td>-0.948718</td>\n",
       "      <td>-0.846154</td>\n",
       "      <td>1.000000</td>\n",
       "    </tr>\n",
       "    <tr>\n",
       "      <th>fBodyBodyGyroMag-meanFreq()</th>\n",
       "      <td>7352.0</td>\n",
       "      <td>-0.046516</td>\n",
       "      <td>0.282665</td>\n",
       "      <td>-0.997500</td>\n",
       "      <td>-0.240882</td>\n",
       "      <td>-0.061597</td>\n",
       "      <td>0.148795</td>\n",
       "      <td>1.000000</td>\n",
       "    </tr>\n",
       "    <tr>\n",
       "      <th>fBodyBodyGyroMag-skewness()</th>\n",
       "      <td>7352.0</td>\n",
       "      <td>-0.253649</td>\n",
       "      <td>0.326624</td>\n",
       "      <td>-1.000000</td>\n",
       "      <td>-0.492028</td>\n",
       "      <td>-0.309252</td>\n",
       "      <td>-0.069952</td>\n",
       "      <td>0.969311</td>\n",
       "    </tr>\n",
       "    <tr>\n",
       "      <th>fBodyBodyGyroMag-kurtosis()</th>\n",
       "      <td>7352.0</td>\n",
       "      <td>-0.565425</td>\n",
       "      <td>0.326620</td>\n",
       "      <td>-1.000000</td>\n",
       "      <td>-0.802207</td>\n",
       "      <td>-0.655594</td>\n",
       "      <td>-0.428376</td>\n",
       "      <td>0.949350</td>\n",
       "    </tr>\n",
       "    <tr>\n",
       "      <th>fBodyBodyGyroJerkMag-mean()</th>\n",
       "      <td>7352.0</td>\n",
       "      <td>-0.779376</td>\n",
       "      <td>0.275733</td>\n",
       "      <td>-0.999996</td>\n",
       "      <td>-0.993100</td>\n",
       "      <td>-0.952398</td>\n",
       "      <td>-0.611952</td>\n",
       "      <td>1.000000</td>\n",
       "    </tr>\n",
       "    <tr>\n",
       "      <th>fBodyBodyGyroJerkMag-std()</th>\n",
       "      <td>7352.0</td>\n",
       "      <td>-0.792391</td>\n",
       "      <td>0.265434</td>\n",
       "      <td>-1.000000</td>\n",
       "      <td>-0.993508</td>\n",
       "      <td>-0.947140</td>\n",
       "      <td>-0.642627</td>\n",
       "      <td>1.000000</td>\n",
       "    </tr>\n",
       "    <tr>\n",
       "      <th>fBodyBodyGyroJerkMag-mad()</th>\n",
       "      <td>7352.0</td>\n",
       "      <td>-0.772836</td>\n",
       "      <td>0.287613</td>\n",
       "      <td>-1.000000</td>\n",
       "      <td>-0.992736</td>\n",
       "      <td>-0.945223</td>\n",
       "      <td>-0.608047</td>\n",
       "      <td>1.000000</td>\n",
       "    </tr>\n",
       "    <tr>\n",
       "      <th>fBodyBodyGyroJerkMag-max()</th>\n",
       "      <td>7352.0</td>\n",
       "      <td>-0.811409</td>\n",
       "      <td>0.246680</td>\n",
       "      <td>-1.000000</td>\n",
       "      <td>-0.994355</td>\n",
       "      <td>-0.950796</td>\n",
       "      <td>-0.688776</td>\n",
       "      <td>1.000000</td>\n",
       "    </tr>\n",
       "    <tr>\n",
       "      <th>fBodyBodyGyroJerkMag-min()</th>\n",
       "      <td>7352.0</td>\n",
       "      <td>-0.871927</td>\n",
       "      <td>0.193344</td>\n",
       "      <td>-1.000000</td>\n",
       "      <td>-0.994065</td>\n",
       "      <td>-0.975676</td>\n",
       "      <td>-0.808263</td>\n",
       "      <td>1.000000</td>\n",
       "    </tr>\n",
       "    <tr>\n",
       "      <th>fBodyBodyGyroJerkMag-sma()</th>\n",
       "      <td>7352.0</td>\n",
       "      <td>-0.779376</td>\n",
       "      <td>0.275733</td>\n",
       "      <td>-0.999996</td>\n",
       "      <td>-0.993100</td>\n",
       "      <td>-0.952398</td>\n",
       "      <td>-0.611952</td>\n",
       "      <td>1.000000</td>\n",
       "    </tr>\n",
       "    <tr>\n",
       "      <th>fBodyBodyGyroJerkMag-energy()</th>\n",
       "      <td>7352.0</td>\n",
       "      <td>-0.935785</td>\n",
       "      <td>0.138683</td>\n",
       "      <td>-1.000000</td>\n",
       "      <td>-0.999957</td>\n",
       "      <td>-0.998471</td>\n",
       "      <td>-0.922503</td>\n",
       "      <td>1.000000</td>\n",
       "    </tr>\n",
       "    <tr>\n",
       "      <th>fBodyBodyGyroJerkMag-iqr()</th>\n",
       "      <td>7352.0</td>\n",
       "      <td>-0.771497</td>\n",
       "      <td>0.287577</td>\n",
       "      <td>-1.000000</td>\n",
       "      <td>-0.992268</td>\n",
       "      <td>-0.949768</td>\n",
       "      <td>-0.603952</td>\n",
       "      <td>1.000000</td>\n",
       "    </tr>\n",
       "    <tr>\n",
       "      <th>fBodyBodyGyroJerkMag-entropy()</th>\n",
       "      <td>7352.0</td>\n",
       "      <td>-0.284627</td>\n",
       "      <td>0.630896</td>\n",
       "      <td>-1.000000</td>\n",
       "      <td>-0.955696</td>\n",
       "      <td>-0.455569</td>\n",
       "      <td>0.336785</td>\n",
       "      <td>1.000000</td>\n",
       "    </tr>\n",
       "    <tr>\n",
       "      <th>fBodyBodyGyroJerkMag-maxInds</th>\n",
       "      <td>7352.0</td>\n",
       "      <td>-0.898859</td>\n",
       "      <td>0.143135</td>\n",
       "      <td>-1.000000</td>\n",
       "      <td>-0.968254</td>\n",
       "      <td>-0.904762</td>\n",
       "      <td>-0.873016</td>\n",
       "      <td>0.968254</td>\n",
       "    </tr>\n",
       "    <tr>\n",
       "      <th>fBodyBodyGyroJerkMag-meanFreq()</th>\n",
       "      <td>7352.0</td>\n",
       "      <td>0.125293</td>\n",
       "      <td>0.250994</td>\n",
       "      <td>-1.000000</td>\n",
       "      <td>-0.023692</td>\n",
       "      <td>0.134000</td>\n",
       "      <td>0.289096</td>\n",
       "      <td>0.946700</td>\n",
       "    </tr>\n",
       "    <tr>\n",
       "      <th>fBodyBodyGyroJerkMag-skewness()</th>\n",
       "      <td>7352.0</td>\n",
       "      <td>-0.307009</td>\n",
       "      <td>0.321011</td>\n",
       "      <td>-0.995357</td>\n",
       "      <td>-0.542602</td>\n",
       "      <td>-0.343685</td>\n",
       "      <td>-0.126979</td>\n",
       "      <td>0.989538</td>\n",
       "    </tr>\n",
       "    <tr>\n",
       "      <th>fBodyBodyGyroJerkMag-kurtosis()</th>\n",
       "      <td>7352.0</td>\n",
       "      <td>-0.625294</td>\n",
       "      <td>0.307584</td>\n",
       "      <td>-0.999765</td>\n",
       "      <td>-0.845573</td>\n",
       "      <td>-0.711692</td>\n",
       "      <td>-0.503878</td>\n",
       "      <td>0.956845</td>\n",
       "    </tr>\n",
       "    <tr>\n",
       "      <th>angle(tBodyAccMean,gravity)</th>\n",
       "      <td>7352.0</td>\n",
       "      <td>0.008684</td>\n",
       "      <td>0.336787</td>\n",
       "      <td>-0.976580</td>\n",
       "      <td>-0.121527</td>\n",
       "      <td>0.009509</td>\n",
       "      <td>0.150865</td>\n",
       "      <td>1.000000</td>\n",
       "    </tr>\n",
       "    <tr>\n",
       "      <th>angle(tBodyAccJerkMean),gravityMean)</th>\n",
       "      <td>7352.0</td>\n",
       "      <td>0.002186</td>\n",
       "      <td>0.448306</td>\n",
       "      <td>-1.000000</td>\n",
       "      <td>-0.289549</td>\n",
       "      <td>0.008943</td>\n",
       "      <td>0.292861</td>\n",
       "      <td>1.000000</td>\n",
       "    </tr>\n",
       "    <tr>\n",
       "      <th>angle(tBodyGyroMean,gravityMean)</th>\n",
       "      <td>7352.0</td>\n",
       "      <td>0.008726</td>\n",
       "      <td>0.608303</td>\n",
       "      <td>-1.000000</td>\n",
       "      <td>-0.482273</td>\n",
       "      <td>0.008735</td>\n",
       "      <td>0.506187</td>\n",
       "      <td>0.998702</td>\n",
       "    </tr>\n",
       "    <tr>\n",
       "      <th>angle(tBodyGyroJerkMean,gravityMean)</th>\n",
       "      <td>7352.0</td>\n",
       "      <td>-0.005981</td>\n",
       "      <td>0.477975</td>\n",
       "      <td>-1.000000</td>\n",
       "      <td>-0.376341</td>\n",
       "      <td>-0.000368</td>\n",
       "      <td>0.359368</td>\n",
       "      <td>0.996078</td>\n",
       "    </tr>\n",
       "    <tr>\n",
       "      <th>angle(X,gravityMean)</th>\n",
       "      <td>7352.0</td>\n",
       "      <td>-0.489547</td>\n",
       "      <td>0.511807</td>\n",
       "      <td>-1.000000</td>\n",
       "      <td>-0.812065</td>\n",
       "      <td>-0.709417</td>\n",
       "      <td>-0.509079</td>\n",
       "      <td>1.000000</td>\n",
       "    </tr>\n",
       "    <tr>\n",
       "      <th>angle(Y,gravityMean)</th>\n",
       "      <td>7352.0</td>\n",
       "      <td>0.058593</td>\n",
       "      <td>0.297480</td>\n",
       "      <td>-1.000000</td>\n",
       "      <td>-0.017885</td>\n",
       "      <td>0.182071</td>\n",
       "      <td>0.248353</td>\n",
       "      <td>0.478157</td>\n",
       "    </tr>\n",
       "    <tr>\n",
       "      <th>angle(Z,gravityMean)</th>\n",
       "      <td>7352.0</td>\n",
       "      <td>-0.056515</td>\n",
       "      <td>0.279122</td>\n",
       "      <td>-1.000000</td>\n",
       "      <td>-0.143414</td>\n",
       "      <td>0.003181</td>\n",
       "      <td>0.107659</td>\n",
       "      <td>1.000000</td>\n",
       "    </tr>\n",
       "    <tr>\n",
       "      <th>subject</th>\n",
       "      <td>7352.0</td>\n",
       "      <td>17.413085</td>\n",
       "      <td>8.975143</td>\n",
       "      <td>1.000000</td>\n",
       "      <td>8.000000</td>\n",
       "      <td>19.000000</td>\n",
       "      <td>26.000000</td>\n",
       "      <td>30.000000</td>\n",
       "    </tr>\n",
       "  </tbody>\n",
       "</table>\n",
       "<p>562 rows × 8 columns</p>\n",
       "</div>"
      ],
      "text/plain": [
       "                                       count       mean       std       min  \\\n",
       "tBodyAcc-mean()-X                     7352.0   0.274488  0.070261 -1.000000   \n",
       "tBodyAcc-mean()-Y                     7352.0  -0.017695  0.040811 -1.000000   \n",
       "tBodyAcc-mean()-Z                     7352.0  -0.109141  0.056635 -1.000000   \n",
       "tBodyAcc-std()-X                      7352.0  -0.605438  0.448734 -1.000000   \n",
       "tBodyAcc-std()-Y                      7352.0  -0.510938  0.502645 -0.999873   \n",
       "tBodyAcc-std()-Z                      7352.0  -0.604754  0.418687 -1.000000   \n",
       "tBodyAcc-mad()-X                      7352.0  -0.630512  0.424073 -1.000000   \n",
       "tBodyAcc-mad()-Y                      7352.0  -0.526907  0.485942 -1.000000   \n",
       "tBodyAcc-mad()-Z                      7352.0  -0.606150  0.414122 -1.000000   \n",
       "tBodyAcc-max()-X                      7352.0  -0.468604  0.544547 -1.000000   \n",
       "tBodyAcc-max()-Y                      7352.0  -0.306043  0.282243 -1.000000   \n",
       "tBodyAcc-max()-Z                      7352.0  -0.557121  0.293867 -1.000000   \n",
       "tBodyAcc-min()-X                      7352.0   0.523551  0.363594 -1.000000   \n",
       "tBodyAcc-min()-Y                      7352.0   0.387386  0.343611 -1.000000   \n",
       "tBodyAcc-min()-Z                      7352.0   0.594374  0.297818 -1.000000   \n",
       "tBodyAcc-sma()                        7352.0  -0.547569  0.471808 -1.000000   \n",
       "tBodyAcc-energy()-X                   7352.0  -0.820041  0.259607 -1.000000   \n",
       "tBodyAcc-energy()-Y                   7352.0  -0.901874  0.126333 -0.999999   \n",
       "tBodyAcc-energy()-Z                   7352.0  -0.845784  0.221983 -1.000000   \n",
       "tBodyAcc-iqr()-X                      7352.0  -0.684345  0.371608 -1.000000   \n",
       "tBodyAcc-iqr()-Y                      7352.0  -0.643770  0.371581 -1.000000   \n",
       "tBodyAcc-iqr()-Z                      7352.0  -0.631069  0.386569 -1.000000   \n",
       "tBodyAcc-entropy()-X                  7352.0  -0.102993  0.468959 -1.000000   \n",
       "tBodyAcc-entropy()-Y                  7352.0  -0.137937  0.437268 -1.000000   \n",
       "tBodyAcc-entropy()-Z                  7352.0  -0.163946  0.371363 -1.000000   \n",
       "tBodyAcc-arCoeff()-X,1                7352.0  -0.116599  0.306507 -0.925897   \n",
       "tBodyAcc-arCoeff()-X,2                7352.0   0.102762  0.246593 -0.963099   \n",
       "tBodyAcc-arCoeff()-X,3                7352.0  -0.037786  0.243635 -1.000000   \n",
       "tBodyAcc-arCoeff()-X,4                7352.0   0.130477  0.230067 -0.822053   \n",
       "tBodyAcc-arCoeff()-Y,1                7352.0  -0.026229  0.257383 -1.000000   \n",
       "...                                      ...        ...       ...       ...   \n",
       "fBodyBodyGyroMag-min()                7352.0  -0.885103  0.173574 -1.000000   \n",
       "fBodyBodyGyroMag-sma()                7352.0  -0.693210  0.335026 -1.000000   \n",
       "fBodyBodyGyroMag-energy()             7352.0  -0.874292  0.192684 -1.000000   \n",
       "fBodyBodyGyroMag-iqr()                7352.0  -0.719795  0.318706 -1.000000   \n",
       "fBodyBodyGyroMag-entropy()            7352.0  -0.087878  0.611793 -1.000000   \n",
       "fBodyBodyGyroMag-maxInds              7352.0  -0.889442  0.157653 -1.000000   \n",
       "fBodyBodyGyroMag-meanFreq()           7352.0  -0.046516  0.282665 -0.997500   \n",
       "fBodyBodyGyroMag-skewness()           7352.0  -0.253649  0.326624 -1.000000   \n",
       "fBodyBodyGyroMag-kurtosis()           7352.0  -0.565425  0.326620 -1.000000   \n",
       "fBodyBodyGyroJerkMag-mean()           7352.0  -0.779376  0.275733 -0.999996   \n",
       "fBodyBodyGyroJerkMag-std()            7352.0  -0.792391  0.265434 -1.000000   \n",
       "fBodyBodyGyroJerkMag-mad()            7352.0  -0.772836  0.287613 -1.000000   \n",
       "fBodyBodyGyroJerkMag-max()            7352.0  -0.811409  0.246680 -1.000000   \n",
       "fBodyBodyGyroJerkMag-min()            7352.0  -0.871927  0.193344 -1.000000   \n",
       "fBodyBodyGyroJerkMag-sma()            7352.0  -0.779376  0.275733 -0.999996   \n",
       "fBodyBodyGyroJerkMag-energy()         7352.0  -0.935785  0.138683 -1.000000   \n",
       "fBodyBodyGyroJerkMag-iqr()            7352.0  -0.771497  0.287577 -1.000000   \n",
       "fBodyBodyGyroJerkMag-entropy()        7352.0  -0.284627  0.630896 -1.000000   \n",
       "fBodyBodyGyroJerkMag-maxInds          7352.0  -0.898859  0.143135 -1.000000   \n",
       "fBodyBodyGyroJerkMag-meanFreq()       7352.0   0.125293  0.250994 -1.000000   \n",
       "fBodyBodyGyroJerkMag-skewness()       7352.0  -0.307009  0.321011 -0.995357   \n",
       "fBodyBodyGyroJerkMag-kurtosis()       7352.0  -0.625294  0.307584 -0.999765   \n",
       "angle(tBodyAccMean,gravity)           7352.0   0.008684  0.336787 -0.976580   \n",
       "angle(tBodyAccJerkMean),gravityMean)  7352.0   0.002186  0.448306 -1.000000   \n",
       "angle(tBodyGyroMean,gravityMean)      7352.0   0.008726  0.608303 -1.000000   \n",
       "angle(tBodyGyroJerkMean,gravityMean)  7352.0  -0.005981  0.477975 -1.000000   \n",
       "angle(X,gravityMean)                  7352.0  -0.489547  0.511807 -1.000000   \n",
       "angle(Y,gravityMean)                  7352.0   0.058593  0.297480 -1.000000   \n",
       "angle(Z,gravityMean)                  7352.0  -0.056515  0.279122 -1.000000   \n",
       "subject                               7352.0  17.413085  8.975143  1.000000   \n",
       "\n",
       "                                           25%        50%        75%  \\\n",
       "tBodyAcc-mean()-X                     0.262975   0.277193   0.288461   \n",
       "tBodyAcc-mean()-Y                    -0.024863  -0.017219  -0.010783   \n",
       "tBodyAcc-mean()-Z                    -0.120993  -0.108676  -0.097794   \n",
       "tBodyAcc-std()-X                     -0.992754  -0.946196  -0.242813   \n",
       "tBodyAcc-std()-Y                     -0.978129  -0.851897  -0.034231   \n",
       "tBodyAcc-std()-Z                     -0.980233  -0.859365  -0.262415   \n",
       "tBodyAcc-mad()-X                     -0.993591  -0.950709  -0.292680   \n",
       "tBodyAcc-mad()-Y                     -0.978162  -0.857328  -0.066701   \n",
       "tBodyAcc-mad()-Z                     -0.980251  -0.857143  -0.265671   \n",
       "tBodyAcc-max()-X                     -0.936219  -0.881637  -0.017129   \n",
       "tBodyAcc-max()-Y                     -0.563561  -0.479677  -0.065364   \n",
       "tBodyAcc-max()-Z                     -0.812744  -0.736516  -0.332014   \n",
       "tBodyAcc-min()-X                      0.197051   0.792060   0.844420   \n",
       "tBodyAcc-min()-Y                      0.101829   0.627737   0.685622   \n",
       "tBodyAcc-min()-Z                      0.389787   0.778059   0.837323   \n",
       "tBodyAcc-sma()                       -0.982992  -0.885461  -0.107428   \n",
       "tBodyAcc-energy()-X                  -0.999936  -0.998046  -0.710707   \n",
       "tBodyAcc-energy()-Y                  -0.999786  -0.994065  -0.816703   \n",
       "tBodyAcc-energy()-Z                  -0.999460  -0.985546  -0.748018   \n",
       "tBodyAcc-iqr()-X                     -0.994387  -0.957859  -0.393220   \n",
       "tBodyAcc-iqr()-Y                     -0.982159  -0.896093  -0.310548   \n",
       "tBodyAcc-iqr()-Z                     -0.979623  -0.864515  -0.316037   \n",
       "tBodyAcc-entropy()-X                 -0.573441  -0.073369   0.336504   \n",
       "tBodyAcc-entropy()-Y                 -0.559584  -0.136793   0.280170   \n",
       "tBodyAcc-entropy()-Z                 -0.505512  -0.148889   0.164123   \n",
       "tBodyAcc-arCoeff()-X,1               -0.364926  -0.129393   0.132657   \n",
       "tBodyAcc-arCoeff()-X,2               -0.082544   0.070073   0.276872   \n",
       "tBodyAcc-arCoeff()-X,3               -0.190581  -0.019001   0.128635   \n",
       "tBodyAcc-arCoeff()-X,4               -0.023857   0.134149   0.285318   \n",
       "tBodyAcc-arCoeff()-Y,1               -0.221943  -0.040710   0.172344   \n",
       "...                                        ...        ...        ...   \n",
       "fBodyBodyGyroMag-min()               -0.994189  -0.960136  -0.837425   \n",
       "fBodyBodyGyroMag-sma()               -0.984123  -0.886439  -0.438439   \n",
       "fBodyBodyGyroMag-energy()            -0.999725  -0.986266  -0.800743   \n",
       "fBodyBodyGyroMag-iqr()               -0.986633  -0.923298  -0.484202   \n",
       "fBodyBodyGyroMag-entropy()           -0.690397  -0.190223   0.515789   \n",
       "fBodyBodyGyroMag-maxInds             -1.000000  -0.948718  -0.846154   \n",
       "fBodyBodyGyroMag-meanFreq()          -0.240882  -0.061597   0.148795   \n",
       "fBodyBodyGyroMag-skewness()          -0.492028  -0.309252  -0.069952   \n",
       "fBodyBodyGyroMag-kurtosis()          -0.802207  -0.655594  -0.428376   \n",
       "fBodyBodyGyroJerkMag-mean()          -0.993100  -0.952398  -0.611952   \n",
       "fBodyBodyGyroJerkMag-std()           -0.993508  -0.947140  -0.642627   \n",
       "fBodyBodyGyroJerkMag-mad()           -0.992736  -0.945223  -0.608047   \n",
       "fBodyBodyGyroJerkMag-max()           -0.994355  -0.950796  -0.688776   \n",
       "fBodyBodyGyroJerkMag-min()           -0.994065  -0.975676  -0.808263   \n",
       "fBodyBodyGyroJerkMag-sma()           -0.993100  -0.952398  -0.611952   \n",
       "fBodyBodyGyroJerkMag-energy()        -0.999957  -0.998471  -0.922503   \n",
       "fBodyBodyGyroJerkMag-iqr()           -0.992268  -0.949768  -0.603952   \n",
       "fBodyBodyGyroJerkMag-entropy()       -0.955696  -0.455569   0.336785   \n",
       "fBodyBodyGyroJerkMag-maxInds         -0.968254  -0.904762  -0.873016   \n",
       "fBodyBodyGyroJerkMag-meanFreq()      -0.023692   0.134000   0.289096   \n",
       "fBodyBodyGyroJerkMag-skewness()      -0.542602  -0.343685  -0.126979   \n",
       "fBodyBodyGyroJerkMag-kurtosis()      -0.845573  -0.711692  -0.503878   \n",
       "angle(tBodyAccMean,gravity)          -0.121527   0.009509   0.150865   \n",
       "angle(tBodyAccJerkMean),gravityMean) -0.289549   0.008943   0.292861   \n",
       "angle(tBodyGyroMean,gravityMean)     -0.482273   0.008735   0.506187   \n",
       "angle(tBodyGyroJerkMean,gravityMean) -0.376341  -0.000368   0.359368   \n",
       "angle(X,gravityMean)                 -0.812065  -0.709417  -0.509079   \n",
       "angle(Y,gravityMean)                 -0.017885   0.182071   0.248353   \n",
       "angle(Z,gravityMean)                 -0.143414   0.003181   0.107659   \n",
       "subject                               8.000000  19.000000  26.000000   \n",
       "\n",
       "                                            max  \n",
       "tBodyAcc-mean()-X                      1.000000  \n",
       "tBodyAcc-mean()-Y                      1.000000  \n",
       "tBodyAcc-mean()-Z                      1.000000  \n",
       "tBodyAcc-std()-X                       1.000000  \n",
       "tBodyAcc-std()-Y                       0.916238  \n",
       "tBodyAcc-std()-Z                       1.000000  \n",
       "tBodyAcc-mad()-X                       1.000000  \n",
       "tBodyAcc-mad()-Y                       0.967664  \n",
       "tBodyAcc-mad()-Z                       1.000000  \n",
       "tBodyAcc-max()-X                       1.000000  \n",
       "tBodyAcc-max()-Y                       1.000000  \n",
       "tBodyAcc-max()-Z                       1.000000  \n",
       "tBodyAcc-min()-X                       1.000000  \n",
       "tBodyAcc-min()-Y                       1.000000  \n",
       "tBodyAcc-min()-Z                       1.000000  \n",
       "tBodyAcc-sma()                         1.000000  \n",
       "tBodyAcc-energy()-X                    1.000000  \n",
       "tBodyAcc-energy()-Y                    1.000000  \n",
       "tBodyAcc-energy()-Z                    1.000000  \n",
       "tBodyAcc-iqr()-X                       1.000000  \n",
       "tBodyAcc-iqr()-Y                       1.000000  \n",
       "tBodyAcc-iqr()-Z                       1.000000  \n",
       "tBodyAcc-entropy()-X                   0.919662  \n",
       "tBodyAcc-entropy()-Y                   1.000000  \n",
       "tBodyAcc-entropy()-Z                   1.000000  \n",
       "tBodyAcc-arCoeff()-X,1                 1.000000  \n",
       "tBodyAcc-arCoeff()-X,2                 0.978449  \n",
       "tBodyAcc-arCoeff()-X,3                 1.000000  \n",
       "tBodyAcc-arCoeff()-X,4                 1.000000  \n",
       "tBodyAcc-arCoeff()-Y,1                 1.000000  \n",
       "...                                         ...  \n",
       "fBodyBodyGyroMag-min()                 1.000000  \n",
       "fBodyBodyGyroMag-sma()                 1.000000  \n",
       "fBodyBodyGyroMag-energy()              1.000000  \n",
       "fBodyBodyGyroMag-iqr()                 1.000000  \n",
       "fBodyBodyGyroMag-entropy()             1.000000  \n",
       "fBodyBodyGyroMag-maxInds               1.000000  \n",
       "fBodyBodyGyroMag-meanFreq()            1.000000  \n",
       "fBodyBodyGyroMag-skewness()            0.969311  \n",
       "fBodyBodyGyroMag-kurtosis()            0.949350  \n",
       "fBodyBodyGyroJerkMag-mean()            1.000000  \n",
       "fBodyBodyGyroJerkMag-std()             1.000000  \n",
       "fBodyBodyGyroJerkMag-mad()             1.000000  \n",
       "fBodyBodyGyroJerkMag-max()             1.000000  \n",
       "fBodyBodyGyroJerkMag-min()             1.000000  \n",
       "fBodyBodyGyroJerkMag-sma()             1.000000  \n",
       "fBodyBodyGyroJerkMag-energy()          1.000000  \n",
       "fBodyBodyGyroJerkMag-iqr()             1.000000  \n",
       "fBodyBodyGyroJerkMag-entropy()         1.000000  \n",
       "fBodyBodyGyroJerkMag-maxInds           0.968254  \n",
       "fBodyBodyGyroJerkMag-meanFreq()        0.946700  \n",
       "fBodyBodyGyroJerkMag-skewness()        0.989538  \n",
       "fBodyBodyGyroJerkMag-kurtosis()        0.956845  \n",
       "angle(tBodyAccMean,gravity)            1.000000  \n",
       "angle(tBodyAccJerkMean),gravityMean)   1.000000  \n",
       "angle(tBodyGyroMean,gravityMean)       0.998702  \n",
       "angle(tBodyGyroJerkMean,gravityMean)   0.996078  \n",
       "angle(X,gravityMean)                   1.000000  \n",
       "angle(Y,gravityMean)                   0.478157  \n",
       "angle(Z,gravityMean)                   1.000000  \n",
       "subject                               30.000000  \n",
       "\n",
       "[562 rows x 8 columns]"
      ]
     },
     "execution_count": 7,
     "metadata": {},
     "output_type": "execute_result"
    }
   ],
   "source": [
    "train.describe().T"
   ]
  },
  {
   "cell_type": "raw",
   "metadata": {},
   "source": [
    "Check for null values if any exist then fill them with central tendencies..."
   ]
  },
  {
   "cell_type": "code",
   "execution_count": 8,
   "metadata": {},
   "outputs": [
    {
     "data": {
      "text/plain": [
       "False"
      ]
     },
     "execution_count": 8,
     "metadata": {},
     "output_type": "execute_result"
    }
   ],
   "source": [
    "train.isnull().sum().any()"
   ]
  },
  {
   "cell_type": "raw",
   "metadata": {},
   "source": [
    "So there are no null values and it seems like there is no need for preprocessing because all the attributes are numaric and most of them rangong between -1 and +1..."
   ]
  },
  {
   "cell_type": "code",
   "execution_count": 9,
   "metadata": {
    "collapsed": true
   },
   "outputs": [],
   "source": [
    "#get all the numaric values\n",
    "train_num = train._get_numeric_data()"
   ]
  },
  {
   "cell_type": "code",
   "execution_count": 10,
   "metadata": {},
   "outputs": [
    {
     "data": {
      "text/plain": [
       "Index(['tBodyAcc-mean()-X', 'tBodyAcc-mean()-Y', 'tBodyAcc-mean()-Z',\n",
       "       'tBodyAcc-std()-X', 'tBodyAcc-std()-Y', 'tBodyAcc-std()-Z',\n",
       "       'tBodyAcc-mad()-X', 'tBodyAcc-mad()-Y', 'tBodyAcc-mad()-Z',\n",
       "       'tBodyAcc-max()-X',\n",
       "       ...\n",
       "       'fBodyBodyGyroJerkMag-skewness()', 'fBodyBodyGyroJerkMag-kurtosis()',\n",
       "       'angle(tBodyAccMean,gravity)', 'angle(tBodyAccJerkMean),gravityMean)',\n",
       "       'angle(tBodyGyroMean,gravityMean)',\n",
       "       'angle(tBodyGyroJerkMean,gravityMean)', 'angle(X,gravityMean)',\n",
       "       'angle(Y,gravityMean)', 'angle(Z,gravityMean)', 'subject'],\n",
       "      dtype='object', length=562)"
      ]
     },
     "execution_count": 10,
     "metadata": {},
     "output_type": "execute_result"
    }
   ],
   "source": [
    "train_num.columns"
   ]
  },
  {
   "cell_type": "code",
   "execution_count": 11,
   "metadata": {
    "collapsed": true
   },
   "outputs": [],
   "source": [
    "#get all the categorical attributes\n",
    "train_cat = train.drop(train_num.columns,axis = 1)"
   ]
  },
  {
   "cell_type": "code",
   "execution_count": 12,
   "metadata": {},
   "outputs": [
    {
     "data": {
      "text/plain": [
       "Index(['Activity'], dtype='object')"
      ]
     },
     "execution_count": 12,
     "metadata": {},
     "output_type": "execute_result"
    }
   ],
   "source": [
    "train_cat.columns"
   ]
  },
  {
   "cell_type": "code",
   "execution_count": 13,
   "metadata": {
    "collapsed": true
   },
   "outputs": [],
   "source": [
    "#Lets seperate test num_cols and cat_cols\n",
    "test_num = test._get_numeric_data()\n",
    "test_cat = test.drop(test_num.columns,axis = 1)"
   ]
  },
  {
   "cell_type": "code",
   "execution_count": 14,
   "metadata": {},
   "outputs": [
    {
     "data": {
      "text/plain": [
       "Index(['Activity'], dtype='object')"
      ]
     },
     "execution_count": 14,
     "metadata": {},
     "output_type": "execute_result"
    }
   ],
   "source": [
    "test_cat.columns"
   ]
  },
  {
   "cell_type": "code",
   "execution_count": 15,
   "metadata": {},
   "outputs": [
    {
     "data": {
      "text/plain": [
       "Index(['tBodyAcc-mean()-X', 'tBodyAcc-mean()-Y', 'tBodyAcc-mean()-Z',\n",
       "       'tBodyAcc-std()-X', 'tBodyAcc-std()-Y', 'tBodyAcc-std()-Z',\n",
       "       'tBodyAcc-mad()-X', 'tBodyAcc-mad()-Y', 'tBodyAcc-mad()-Z',\n",
       "       'tBodyAcc-max()-X',\n",
       "       ...\n",
       "       'fBodyBodyGyroJerkMag-skewness()', 'fBodyBodyGyroJerkMag-kurtosis()',\n",
       "       'angle(tBodyAccMean,gravity)', 'angle(tBodyAccJerkMean),gravityMean)',\n",
       "       'angle(tBodyGyroMean,gravityMean)',\n",
       "       'angle(tBodyGyroJerkMean,gravityMean)', 'angle(X,gravityMean)',\n",
       "       'angle(Y,gravityMean)', 'angle(Z,gravityMean)', 'subject'],\n",
       "      dtype='object', length=562)"
      ]
     },
     "execution_count": 15,
     "metadata": {},
     "output_type": "execute_result"
    }
   ],
   "source": [
    "test_num.columns"
   ]
  },
  {
   "cell_type": "markdown",
   "metadata": {},
   "source": [
    "# Lable Encoding"
   ]
  },
  {
   "cell_type": "raw",
   "metadata": {},
   "source": [
    "Here we only have one categorical attribute and the data type of it is object\n",
    "#so we need to convert the data type of activity to caregorical because to do lable encoding.\n",
    "#for doing lable encoding the data type must be in categorical.."
   ]
  },
  {
   "cell_type": "code",
   "execution_count": 16,
   "metadata": {
    "collapsed": true
   },
   "outputs": [],
   "source": [
    "for i in train_cat:\n",
    "    train_cat[i] = train_cat[i].astype('category')"
   ]
  },
  {
   "cell_type": "code",
   "execution_count": 17,
   "metadata": {
    "collapsed": true
   },
   "outputs": [],
   "source": [
    "for i in test_cat:\n",
    "    test_cat[i] = test_cat[i].astype('category')"
   ]
  },
  {
   "cell_type": "code",
   "execution_count": 18,
   "metadata": {
    "collapsed": true
   },
   "outputs": [],
   "source": [
    "for i in train_cat:\n",
    "    train_cat[i] =train_cat[i].cat.codes"
   ]
  },
  {
   "cell_type": "code",
   "execution_count": 19,
   "metadata": {
    "collapsed": true
   },
   "outputs": [],
   "source": [
    "for i in test_cat:\n",
    "    test_cat[i] =test_cat[i].cat.codes"
   ]
  },
  {
   "cell_type": "code",
   "execution_count": 20,
   "metadata": {},
   "outputs": [
    {
     "data": {
      "text/html": [
       "<div>\n",
       "<style>\n",
       "    .dataframe thead tr:only-child th {\n",
       "        text-align: right;\n",
       "    }\n",
       "\n",
       "    .dataframe thead th {\n",
       "        text-align: left;\n",
       "    }\n",
       "\n",
       "    .dataframe tbody tr th {\n",
       "        vertical-align: top;\n",
       "    }\n",
       "</style>\n",
       "<table border=\"1\" class=\"dataframe\">\n",
       "  <thead>\n",
       "    <tr style=\"text-align: right;\">\n",
       "      <th></th>\n",
       "      <th>Activity</th>\n",
       "    </tr>\n",
       "  </thead>\n",
       "  <tbody>\n",
       "    <tr>\n",
       "      <th>0</th>\n",
       "      <td>2</td>\n",
       "    </tr>\n",
       "    <tr>\n",
       "      <th>1</th>\n",
       "      <td>2</td>\n",
       "    </tr>\n",
       "    <tr>\n",
       "      <th>2</th>\n",
       "      <td>2</td>\n",
       "    </tr>\n",
       "    <tr>\n",
       "      <th>3</th>\n",
       "      <td>2</td>\n",
       "    </tr>\n",
       "  </tbody>\n",
       "</table>\n",
       "</div>"
      ],
      "text/plain": [
       "   Activity\n",
       "0         2\n",
       "1         2\n",
       "2         2\n",
       "3         2"
      ]
     },
     "execution_count": 20,
     "metadata": {},
     "output_type": "execute_result"
    }
   ],
   "source": [
    "train_cat.head(4)"
   ]
  },
  {
   "cell_type": "code",
   "execution_count": 21,
   "metadata": {},
   "outputs": [
    {
     "data": {
      "text/html": [
       "<div>\n",
       "<style>\n",
       "    .dataframe thead tr:only-child th {\n",
       "        text-align: right;\n",
       "    }\n",
       "\n",
       "    .dataframe thead th {\n",
       "        text-align: left;\n",
       "    }\n",
       "\n",
       "    .dataframe tbody tr th {\n",
       "        vertical-align: top;\n",
       "    }\n",
       "</style>\n",
       "<table border=\"1\" class=\"dataframe\">\n",
       "  <thead>\n",
       "    <tr style=\"text-align: right;\">\n",
       "      <th></th>\n",
       "      <th>Activity</th>\n",
       "    </tr>\n",
       "  </thead>\n",
       "  <tbody>\n",
       "    <tr>\n",
       "      <th>0</th>\n",
       "      <td>2</td>\n",
       "    </tr>\n",
       "    <tr>\n",
       "      <th>1</th>\n",
       "      <td>2</td>\n",
       "    </tr>\n",
       "    <tr>\n",
       "      <th>2</th>\n",
       "      <td>2</td>\n",
       "    </tr>\n",
       "    <tr>\n",
       "      <th>3</th>\n",
       "      <td>2</td>\n",
       "    </tr>\n",
       "  </tbody>\n",
       "</table>\n",
       "</div>"
      ],
      "text/plain": [
       "   Activity\n",
       "0         2\n",
       "1         2\n",
       "2         2\n",
       "3         2"
      ]
     },
     "execution_count": 21,
     "metadata": {},
     "output_type": "execute_result"
    }
   ],
   "source": [
    "test_cat.head(4)"
   ]
  },
  {
   "cell_type": "code",
   "execution_count": 22,
   "metadata": {},
   "outputs": [
    {
     "data": {
      "text/plain": [
       "<matplotlib.axes._subplots.AxesSubplot at 0x16f4c740b38>"
      ]
     },
     "execution_count": 22,
     "metadata": {},
     "output_type": "execute_result"
    },
    {
     "data": {
      "image/png": "[encoded data removed]",
      "text/plain": [
       "<matplotlib.figure.Figure at 0x16f4e73e828>"
      ]
     },
     "metadata": {},
     "output_type": "display_data"
    }
   ],
   "source": [
    "plt.subplots(figsize=(10,4))\n",
    "sns.countplot(train_cat['Activity'])"
   ]
  },
  {
   "cell_type": "raw",
   "metadata": {},
   "source": [
    "By observing count plot we come to know that there are 6 classes in targer attributes.."
   ]
  },
  {
   "cell_type": "code",
   "execution_count": 23,
   "metadata": {
    "collapsed": true
   },
   "outputs": [],
   "source": [
    "train_HAR = pd.concat([train_num,train_cat],axis = 1)\n",
    "test_HAR = pd.concat([test_num,test_cat],axis=1)"
   ]
  },
  {
   "cell_type": "code",
   "execution_count": 24,
   "metadata": {},
   "outputs": [
    {
     "data": {
      "text/html": [
       "<div>\n",
       "<style>\n",
       "    .dataframe thead tr:only-child th {\n",
       "        text-align: right;\n",
       "    }\n",
       "\n",
       "    .dataframe thead th {\n",
       "        text-align: left;\n",
       "    }\n",
       "\n",
       "    .dataframe tbody tr th {\n",
       "        vertical-align: top;\n",
       "    }\n",
       "</style>\n",
       "<table border=\"1\" class=\"dataframe\">\n",
       "  <thead>\n",
       "    <tr style=\"text-align: right;\">\n",
       "      <th></th>\n",
       "      <th>tBodyAcc-mean()-X</th>\n",
       "      <th>tBodyAcc-mean()-Y</th>\n",
       "      <th>tBodyAcc-mean()-Z</th>\n",
       "      <th>tBodyAcc-std()-X</th>\n",
       "      <th>tBodyAcc-std()-Y</th>\n",
       "      <th>tBodyAcc-std()-Z</th>\n",
       "      <th>tBodyAcc-mad()-X</th>\n",
       "      <th>tBodyAcc-mad()-Y</th>\n",
       "      <th>tBodyAcc-mad()-Z</th>\n",
       "      <th>tBodyAcc-max()-X</th>\n",
       "      <th>...</th>\n",
       "      <th>fBodyBodyGyroJerkMag-kurtosis()</th>\n",
       "      <th>angle(tBodyAccMean,gravity)</th>\n",
       "      <th>angle(tBodyAccJerkMean),gravityMean)</th>\n",
       "      <th>angle(tBodyGyroMean,gravityMean)</th>\n",
       "      <th>angle(tBodyGyroJerkMean,gravityMean)</th>\n",
       "      <th>angle(X,gravityMean)</th>\n",
       "      <th>angle(Y,gravityMean)</th>\n",
       "      <th>angle(Z,gravityMean)</th>\n",
       "      <th>subject</th>\n",
       "      <th>Activity</th>\n",
       "    </tr>\n",
       "  </thead>\n",
       "  <tbody>\n",
       "    <tr>\n",
       "      <th>0</th>\n",
       "      <td>0.288585</td>\n",
       "      <td>-0.020294</td>\n",
       "      <td>-0.132905</td>\n",
       "      <td>-0.995279</td>\n",
       "      <td>-0.983111</td>\n",
       "      <td>-0.913526</td>\n",
       "      <td>-0.995112</td>\n",
       "      <td>-0.983185</td>\n",
       "      <td>-0.923527</td>\n",
       "      <td>-0.934724</td>\n",
       "      <td>...</td>\n",
       "      <td>-0.710304</td>\n",
       "      <td>-0.112754</td>\n",
       "      <td>0.030400</td>\n",
       "      <td>-0.464761</td>\n",
       "      <td>-0.018446</td>\n",
       "      <td>-0.841247</td>\n",
       "      <td>0.179941</td>\n",
       "      <td>-0.058627</td>\n",
       "      <td>1</td>\n",
       "      <td>2</td>\n",
       "    </tr>\n",
       "    <tr>\n",
       "      <th>1</th>\n",
       "      <td>0.278419</td>\n",
       "      <td>-0.016411</td>\n",
       "      <td>-0.123520</td>\n",
       "      <td>-0.998245</td>\n",
       "      <td>-0.975300</td>\n",
       "      <td>-0.960322</td>\n",
       "      <td>-0.998807</td>\n",
       "      <td>-0.974914</td>\n",
       "      <td>-0.957686</td>\n",
       "      <td>-0.943068</td>\n",
       "      <td>...</td>\n",
       "      <td>-0.861499</td>\n",
       "      <td>0.053477</td>\n",
       "      <td>-0.007435</td>\n",
       "      <td>-0.732626</td>\n",
       "      <td>0.703511</td>\n",
       "      <td>-0.844788</td>\n",
       "      <td>0.180289</td>\n",
       "      <td>-0.054317</td>\n",
       "      <td>1</td>\n",
       "      <td>2</td>\n",
       "    </tr>\n",
       "  </tbody>\n",
       "</table>\n",
       "<p>2 rows × 563 columns</p>\n",
       "</div>"
      ],
      "text/plain": [
       "   tBodyAcc-mean()-X  tBodyAcc-mean()-Y  tBodyAcc-mean()-Z  tBodyAcc-std()-X  \\\n",
       "0           0.288585          -0.020294          -0.132905         -0.995279   \n",
       "1           0.278419          -0.016411          -0.123520         -0.998245   \n",
       "\n",
       "   tBodyAcc-std()-Y  tBodyAcc-std()-Z  tBodyAcc-mad()-X  tBodyAcc-mad()-Y  \\\n",
       "0         -0.983111         -0.913526         -0.995112         -0.983185   \n",
       "1         -0.975300         -0.960322         -0.998807         -0.974914   \n",
       "\n",
       "   tBodyAcc-mad()-Z  tBodyAcc-max()-X    ...     \\\n",
       "0         -0.923527         -0.934724    ...      \n",
       "1         -0.957686         -0.943068    ...      \n",
       "\n",
       "   fBodyBodyGyroJerkMag-kurtosis()  angle(tBodyAccMean,gravity)  \\\n",
       "0                        -0.710304                    -0.112754   \n",
       "1                        -0.861499                     0.053477   \n",
       "\n",
       "   angle(tBodyAccJerkMean),gravityMean)  angle(tBodyGyroMean,gravityMean)  \\\n",
       "0                              0.030400                         -0.464761   \n",
       "1                             -0.007435                         -0.732626   \n",
       "\n",
       "   angle(tBodyGyroJerkMean,gravityMean)  angle(X,gravityMean)  \\\n",
       "0                             -0.018446             -0.841247   \n",
       "1                              0.703511             -0.844788   \n",
       "\n",
       "   angle(Y,gravityMean)  angle(Z,gravityMean)  subject  Activity  \n",
       "0              0.179941             -0.058627        1         2  \n",
       "1              0.180289             -0.054317        1         2  \n",
       "\n",
       "[2 rows x 563 columns]"
      ]
     },
     "execution_count": 24,
     "metadata": {},
     "output_type": "execute_result"
    }
   ],
   "source": [
    "train_HAR.head(2)"
   ]
  },
  {
   "cell_type": "code",
   "execution_count": 25,
   "metadata": {},
   "outputs": [
    {
     "data": {
      "text/html": [
       "<div>\n",
       "<style>\n",
       "    .dataframe thead tr:only-child th {\n",
       "        text-align: right;\n",
       "    }\n",
       "\n",
       "    .dataframe thead th {\n",
       "        text-align: left;\n",
       "    }\n",
       "\n",
       "    .dataframe tbody tr th {\n",
       "        vertical-align: top;\n",
       "    }\n",
       "</style>\n",
       "<table border=\"1\" class=\"dataframe\">\n",
       "  <thead>\n",
       "    <tr style=\"text-align: right;\">\n",
       "      <th></th>\n",
       "      <th>tBodyAcc-mean()-X</th>\n",
       "      <th>tBodyAcc-mean()-Y</th>\n",
       "      <th>tBodyAcc-mean()-Z</th>\n",
       "      <th>tBodyAcc-std()-X</th>\n",
       "      <th>tBodyAcc-std()-Y</th>\n",
       "      <th>tBodyAcc-std()-Z</th>\n",
       "      <th>tBodyAcc-mad()-X</th>\n",
       "      <th>tBodyAcc-mad()-Y</th>\n",
       "      <th>tBodyAcc-mad()-Z</th>\n",
       "      <th>tBodyAcc-max()-X</th>\n",
       "      <th>...</th>\n",
       "      <th>fBodyBodyGyroJerkMag-kurtosis()</th>\n",
       "      <th>angle(tBodyAccMean,gravity)</th>\n",
       "      <th>angle(tBodyAccJerkMean),gravityMean)</th>\n",
       "      <th>angle(tBodyGyroMean,gravityMean)</th>\n",
       "      <th>angle(tBodyGyroJerkMean,gravityMean)</th>\n",
       "      <th>angle(X,gravityMean)</th>\n",
       "      <th>angle(Y,gravityMean)</th>\n",
       "      <th>angle(Z,gravityMean)</th>\n",
       "      <th>subject</th>\n",
       "      <th>Activity</th>\n",
       "    </tr>\n",
       "  </thead>\n",
       "  <tbody>\n",
       "    <tr>\n",
       "      <th>0</th>\n",
       "      <td>0.257178</td>\n",
       "      <td>-0.023285</td>\n",
       "      <td>-0.014654</td>\n",
       "      <td>-0.938404</td>\n",
       "      <td>-0.920091</td>\n",
       "      <td>-0.667683</td>\n",
       "      <td>-0.952501</td>\n",
       "      <td>-0.925249</td>\n",
       "      <td>-0.674302</td>\n",
       "      <td>-0.894088</td>\n",
       "      <td>...</td>\n",
       "      <td>-0.705974</td>\n",
       "      <td>0.006462</td>\n",
       "      <td>0.16292</td>\n",
       "      <td>-0.825886</td>\n",
       "      <td>0.271151</td>\n",
       "      <td>-0.720009</td>\n",
       "      <td>0.276801</td>\n",
       "      <td>-0.057978</td>\n",
       "      <td>2</td>\n",
       "      <td>2</td>\n",
       "    </tr>\n",
       "    <tr>\n",
       "      <th>1</th>\n",
       "      <td>0.286027</td>\n",
       "      <td>-0.013163</td>\n",
       "      <td>-0.119083</td>\n",
       "      <td>-0.975415</td>\n",
       "      <td>-0.967458</td>\n",
       "      <td>-0.944958</td>\n",
       "      <td>-0.986799</td>\n",
       "      <td>-0.968401</td>\n",
       "      <td>-0.945823</td>\n",
       "      <td>-0.894088</td>\n",
       "      <td>...</td>\n",
       "      <td>-0.594944</td>\n",
       "      <td>-0.083495</td>\n",
       "      <td>0.01750</td>\n",
       "      <td>-0.434375</td>\n",
       "      <td>0.920593</td>\n",
       "      <td>-0.698091</td>\n",
       "      <td>0.281343</td>\n",
       "      <td>-0.083898</td>\n",
       "      <td>2</td>\n",
       "      <td>2</td>\n",
       "    </tr>\n",
       "  </tbody>\n",
       "</table>\n",
       "<p>2 rows × 563 columns</p>\n",
       "</div>"
      ],
      "text/plain": [
       "   tBodyAcc-mean()-X  tBodyAcc-mean()-Y  tBodyAcc-mean()-Z  tBodyAcc-std()-X  \\\n",
       "0           0.257178          -0.023285          -0.014654         -0.938404   \n",
       "1           0.286027          -0.013163          -0.119083         -0.975415   \n",
       "\n",
       "   tBodyAcc-std()-Y  tBodyAcc-std()-Z  tBodyAcc-mad()-X  tBodyAcc-mad()-Y  \\\n",
       "0         -0.920091         -0.667683         -0.952501         -0.925249   \n",
       "1         -0.967458         -0.944958         -0.986799         -0.968401   \n",
       "\n",
       "   tBodyAcc-mad()-Z  tBodyAcc-max()-X    ...     \\\n",
       "0         -0.674302         -0.894088    ...      \n",
       "1         -0.945823         -0.894088    ...      \n",
       "\n",
       "   fBodyBodyGyroJerkMag-kurtosis()  angle(tBodyAccMean,gravity)  \\\n",
       "0                        -0.705974                     0.006462   \n",
       "1                        -0.594944                    -0.083495   \n",
       "\n",
       "   angle(tBodyAccJerkMean),gravityMean)  angle(tBodyGyroMean,gravityMean)  \\\n",
       "0                               0.16292                         -0.825886   \n",
       "1                               0.01750                         -0.434375   \n",
       "\n",
       "   angle(tBodyGyroJerkMean,gravityMean)  angle(X,gravityMean)  \\\n",
       "0                              0.271151             -0.720009   \n",
       "1                              0.920593             -0.698091   \n",
       "\n",
       "   angle(Y,gravityMean)  angle(Z,gravityMean)  subject  Activity  \n",
       "0              0.276801             -0.057978        2         2  \n",
       "1              0.281343             -0.083898        2         2  \n",
       "\n",
       "[2 rows x 563 columns]"
      ]
     },
     "execution_count": 25,
     "metadata": {},
     "output_type": "execute_result"
    }
   ],
   "source": [
    "test_HAR.head(2)"
   ]
  },
  {
   "cell_type": "code",
   "execution_count": 26,
   "metadata": {},
   "outputs": [
    {
     "data": {
      "text/plain": [
       "<matplotlib.axes._subplots.AxesSubplot at 0x16f4c51a358>"
      ]
     },
     "execution_count": 26,
     "metadata": {},
     "output_type": "execute_result"
    },
    {
     "data": {
      "image/png": "[encoded data removed]",
      "text/plain": [
       "<matplotlib.figure.Figure at 0x16f4c715ef0>"
      ]
     },
     "metadata": {},
     "output_type": "display_data"
    }
   ],
   "source": [
    "plt.subplots(figsize = (10,4))\n",
    "sns.barplot(x =train_HAR['Activity'], y= train_HAR['subject'])"
   ]
  },
  {
   "cell_type": "raw",
   "metadata": {},
   "source": [
    "above bar plot describes the relationship between the subject and the activity\n",
    "like this we can show visually all the relationships between independent and terget attribute visually"
   ]
  },
  {
   "cell_type": "code",
   "execution_count": 27,
   "metadata": {
    "collapsed": true
   },
   "outputs": [],
   "source": [
    "human_activity= pd.concat([train_HAR,test_HAR],axis =0)"
   ]
  },
  {
   "cell_type": "code",
   "execution_count": 28,
   "metadata": {},
   "outputs": [
    {
     "name": "stdout",
     "output_type": "stream",
     "text": [
      "<class 'pandas.core.frame.DataFrame'>\n",
      "Int64Index: 10299 entries, 0 to 2946\n",
      "Columns: 563 entries, tBodyAcc-mean()-X to Activity\n",
      "dtypes: float64(561), int64(1), int8(1)\n",
      "memory usage: 44.2 MB\n"
     ]
    }
   ],
   "source": [
    "human_activity.info()"
   ]
  },
  {
   "cell_type": "code",
   "execution_count": 29,
   "metadata": {
    "collapsed": true
   },
   "outputs": [],
   "source": [
    "X =human_activity.drop(['Activity'],axis =1)\n",
    "Y =human_activity.Activity"
   ]
  },
  {
   "cell_type": "markdown",
   "metadata": {},
   "source": [
    "# Using PCA lets solve the problem"
   ]
  },
  {
   "cell_type": "code",
   "execution_count": 30,
   "metadata": {
    "collapsed": true
   },
   "outputs": [],
   "source": [
    "from sklearn.decomposition import PCA\n",
    "from sklearn.preprocessing import StandardScaler \n",
    "scaler = StandardScaler()\n",
    "scaler.fit(X)                \n",
    "t_train = scaler.transform(X)"
   ]
  },
  {
   "cell_type": "code",
   "execution_count": 31,
   "metadata": {},
   "outputs": [
    {
     "name": "stdout",
     "output_type": "stream",
     "text": [
      "(10299, 562) (10299, 182)\n"
     ]
    }
   ],
   "source": [
    "pca_har = PCA(0.99)\n",
    "x_fit = pca_har.fit_transform(t_train)\n",
    "print (t_train.shape, x_fit.shape)"
   ]
  },
  {
   "cell_type": "code",
   "execution_count": 32,
   "metadata": {},
   "outputs": [
    {
     "data": {
      "text/plain": [
       "LogisticRegression(C=1.0, class_weight=None, dual=False, fit_intercept=True,\n",
       "          intercept_scaling=1, max_iter=100, multi_class='ovr', n_jobs=1,\n",
       "          penalty='l2', random_state=None, solver='liblinear', tol=0.0001,\n",
       "          verbose=0, warm_start=False)"
      ]
     },
     "execution_count": 32,
     "metadata": {},
     "output_type": "execute_result"
    }
   ],
   "source": [
    "from sklearn.model_selection import train_test_split\n",
    "from sklearn.linear_model import LogisticRegression\n",
    "log = LogisticRegression()\n",
    "log.fit(x_fit,Y)"
   ]
  },
  {
   "cell_type": "code",
   "execution_count": 33,
   "metadata": {
    "collapsed": true
   },
   "outputs": [],
   "source": [
    "X_train , X_test, Y_train, Y_test = train_test_split(\n",
    "        x_fit,\n",
    "        Y,\n",
    "        test_size=0.20,\n",
    "        random_state=123)"
   ]
  },
  {
   "cell_type": "code",
   "execution_count": 34,
   "metadata": {
    "collapsed": true
   },
   "outputs": [],
   "source": [
    "y_pred = log.predict(X_test)"
   ]
  },
  {
   "cell_type": "code",
   "execution_count": 35,
   "metadata": {},
   "outputs": [
    {
     "data": {
      "text/plain": [
       "0.98689320388349511"
      ]
     },
     "execution_count": 35,
     "metadata": {},
     "output_type": "execute_result"
    }
   ],
   "source": [
    "from sklearn import metrics\n",
    "metrics.accuracy_score(Y_test, y_pred)"
   ]
  },
  {
   "cell_type": "code",
   "execution_count": 36,
   "metadata": {},
   "outputs": [
    {
     "data": {
      "text/plain": [
       "Text(0.5,15,'Predicted label')"
      ]
     },
     "execution_count": 36,
     "metadata": {},
     "output_type": "execute_result"
    },
    {
     "data": {
      "image/png": "[encoded data removed]",
      "text/plain": [
       "<matplotlib.figure.Figure at 0x16f4db2f748>"
      ]
     },
     "metadata": {},
     "output_type": "display_data"
    }
   ],
   "source": [
    "cm = metrics.confu                              y_pred, [0,1,2,3,4,5])\n",
    "sns.heatmap(cm, annotsion_matrix(Y_test,\n",
    "=True,  fmt='.2f', xticklabels = [\"0\",\"1\",\"2\",\"3\",\"4\" \"5\"] , yticklabels =  [\"0\",\"1\",\"2\",\"3\",\"4\" \"5\"] )\n",
    "plt.ylabel('True label')\n",
    "plt.xlabel('Predicted label')"
   ]
  },
  {
   "cell_type": "markdown",
   "metadata": {},
   "source": [
    "# Decission Tree classifier"
   ]
  },
  {
   "cell_type": "code",
   "execution_count": 37,
   "metadata": {},
   "outputs": [
    {
     "name": "stderr",
     "output_type": "stream",
     "text": [
      "C:\\ProgramData\\Anaconda3\\lib\\site-packages\\sklearn\\cross_validation.py:41: DeprecationWarning: This module was deprecated in version 0.18 in favor of the model_selection module into which all the refactored classes and functions are moved. Also note that the interface of the new CV iterators are different from that of this module. This module will be removed in 0.20.\n",
      "  \"This module will be removed in 0.20.\", DeprecationWarning)\n",
      "C:\\ProgramData\\Anaconda3\\lib\\site-packages\\sklearn\\grid_search.py:42: DeprecationWarning: This module was deprecated in version 0.18 in favor of the model_selection module into which all the refactored classes and functions are moved. This module will be removed in 0.20.\n",
      "  DeprecationWarning)\n"
     ]
    }
   ],
   "source": [
    "from sklearn import metrics\n",
    "from sklearn.tree import DecisionTreeClassifier, export_graphviz, export \n",
    "from sklearn.grid_search import GridSearchCV"
   ]
  },
  {
   "cell_type": "code",
   "execution_count": 38,
   "metadata": {},
   "outputs": [
    {
     "name": "stdout",
     "output_type": "stream",
     "text": [
      "depth: 1 Accuracy: 0.332038834951\n",
      "depth: 2 Accuracy: 0.583980582524\n",
      "depth: 3 Accuracy: 0.721359223301\n",
      "depth: 4 Accuracy: 0.740291262136\n",
      "depth: 5 Accuracy: 0.775242718447\n",
      "depth: 6 Accuracy: 0.799514563107\n",
      "depth: 7 Accuracy: 0.825242718447\n",
      "depth: 8 Accuracy: 0.823300970874\n",
      "depth: 9 Accuracy: 0.829611650485\n",
      "depth: 10 Accuracy: 0.829611650485\n",
      "depth: 11 Accuracy: 0.827184466019\n",
      "depth: 12 Accuracy: 0.826213592233\n",
      "depth: 13 Accuracy: 0.823786407767\n",
      "depth: 14 Accuracy: 0.819902912621\n",
      "depth: 15 Accuracy: 0.822815533981\n",
      "depth: 16 Accuracy: 0.821359223301\n",
      "depth: 17 Accuracy: 0.818932038835\n",
      "depth: 18 Accuracy: 0.819902912621\n",
      "depth: 19 Accuracy: 0.81213592233\n"
     ]
    }
   ],
   "source": [
    "depth_list = list(range(1,20))\n",
    "for depth in depth_list:\n",
    "    dt_obj = DecisionTreeClassifier(max_depth=depth)\n",
    "    dt_obj.fit(X_train, Y_train)\n",
    "    print ('depth:', depth, 'Accuracy:', metrics.accuracy_score(Y_test, dt_obj.predict(X_test)))"
   ]
  },
  {
   "cell_type": "code",
   "execution_count": 39,
   "metadata": {},
   "outputs": [
    {
     "data": {
      "text/plain": [
       "GridSearchCV(cv=10, error_score='raise',\n",
       "       estimator=DecisionTreeClassifier(class_weight=None, criterion='gini', max_depth=None,\n",
       "            max_features=None, max_leaf_nodes=None,\n",
       "            min_impurity_decrease=0.0, min_impurity_split=None,\n",
       "            min_samples_leaf=1, min_samples_split=2,\n",
       "            min_weight_fraction_leaf=0.0, presort=False, random_state=None,\n",
       "            splitter='best'),\n",
       "       fit_params={}, iid=True, n_jobs=1,\n",
       "       param_grid={'max_depth': array([ 3,  4,  5,  6,  7,  8,  9, 10, 11, 12, 13, 14, 15, 16, 17, 18, 19])},\n",
       "       pre_dispatch='2*n_jobs', refit=True, scoring=None, verbose=0)"
      ]
     },
     "execution_count": 39,
     "metadata": {},
     "output_type": "execute_result"
    }
   ],
   "source": [
    "param_grid = {'max_depth': np.arange(3,20)}\n",
    "tree = GridSearchCV(DecisionTreeClassifier(), param_grid, cv=10)\n",
    "tree.fit(X_train, Y_train)"
   ]
  },
  {
   "cell_type": "code",
   "execution_count": 40,
   "metadata": {},
   "outputs": [
    {
     "data": {
      "text/plain": [
       "{'max_depth': 8}"
      ]
     },
     "execution_count": 40,
     "metadata": {},
     "output_type": "execute_result"
    }
   ],
   "source": [
    "tree.best_params_"
   ]
  },
  {
   "cell_type": "code",
   "execution_count": 41,
   "metadata": {},
   "outputs": [
    {
     "data": {
      "text/plain": [
       "0.8397863818424566"
      ]
     },
     "execution_count": 41,
     "metadata": {},
     "output_type": "execute_result"
    }
   ],
   "source": [
    "tree.best_score_"
   ]
  },
  {
   "cell_type": "code",
   "execution_count": 42,
   "metadata": {},
   "outputs": [
    {
     "data": {
      "text/plain": [
       "DecisionTreeClassifier(class_weight=None, criterion='gini', max_depth=8,\n",
       "            max_features=None, max_leaf_nodes=None,\n",
       "            min_impurity_decrease=0.0, min_impurity_split=None,\n",
       "            min_samples_leaf=1, min_samples_split=2,\n",
       "            min_weight_fraction_leaf=0.0, presort=False, random_state=None,\n",
       "            splitter='best')"
      ]
     },
     "execution_count": 42,
     "metadata": {},
     "output_type": "execute_result"
    }
   ],
   "source": [
    "tree_final = DecisionTreeClassifier(max_depth=8)\n",
    "tree_final.fit(X_train, Y_train)"
   ]
  },
  {
   "cell_type": "code",
   "execution_count": 43,
   "metadata": {
    "collapsed": true
   },
   "outputs": [],
   "source": [
    "tree_test_pred = pd.DataFrame({'actual': Y_test, 'predicted': tree_final.predict(X_test)})"
   ]
  },
  {
   "cell_type": "code",
   "execution_count": 44,
   "metadata": {},
   "outputs": [
    {
     "data": {
      "text/plain": [
       "0.81941747572815538"
      ]
     },
     "execution_count": 44,
     "metadata": {},
     "output_type": "execute_result"
    }
   ],
   "source": [
    "metrics.accuracy_score(Y_test, tree_test_pred.predicted)"
   ]
  },
  {
   "cell_type": "markdown",
   "metadata": {},
   "source": [
    "# RandomForest"
   ]
  },
  {
   "cell_type": "code",
   "execution_count": null,
   "metadata": {
    "collapsed": true
   },
   "outputs": [],
   "source": [
    "from sklearn.ensemble import RandomForestClassifier\n"
   ]
  }
 ],
 "metadata": {
  "kernelspec": {
   "display_name": "Python 3",
   "language": "python",
   "name": "python3"
  },
  "language_info": {
   "codemirror_mode": {
    "name": "ipython",
    "version": 3
   },
   "file_extension": ".py",
   "mimetype": "text/x-python",
   "name": "python",
   "nbconvert_exporter": "python",
   "pygments_lexer": "ipython3",
   "version": "3.6.3"
  }
 },
 "nbformat": 4,
 "nbformat_minor": 2
}
